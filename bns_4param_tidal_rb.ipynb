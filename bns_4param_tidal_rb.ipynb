{
 "cells": [
  {
   "cell_type": "markdown",
   "id": "fcf1e246",
   "metadata": {
    "vscode": {
     "languageId": "plaintext"
    }
   },
   "source": [
    "# BNS 4 param example \n",
    "\n",
    "\n",
    "# Agenda\n",
    "\n",
    "1. Carry out Parameter estimation on a binary neutron star system\n",
    "1. Stochastically sample the posterior distribution using `bilby`.\n",
    "\n",
    "\n",
    "## Notes\n",
    "1. BNS signals are longer (by a factor of 10, low masses)\n",
    "1. More intelligent sampling necessary (nestle)\n",
    "1. More intelligent likelihood evaluation necessary (relative binning)\n",
    "\n",
    "## Relative binning\n",
    "1. Chop up the domain into multiple frequency bins\n",
    "1. Ecpress the waveform TaylorExpansion away from a fiducial waveform (linear interpolation withing bins)\n",
    "1. Approximate the likelihood evaluation : simpler, fewer evaluation\n",
    "\n",
    "\n",
    "\n",
    "# Parameter estimation\n",
    "1. Inject a BNS singal into a detector\n",
    "1. Analze using bilby and nestle.\n",
    "\n",
    "## Fixed parameters\n",
    "\n",
    "1. Extrinsic\n",
    "    1. Polarization angle `psi`, \n",
    "    1. Sky location `ra`, `dec`,\n",
    "    1. Signal's arrival time at geocenter `geocent_time`,\n",
    "    1. Orbital / coalescence `phase`,\n",
    "    1. Inclination angle `theta_jn`\n",
    "    1. Luminosity distance `luminosity_distance`\n",
    "1. Intrinsic\n",
    "    1. Spin components `a_1`, `a_2`, `tilt_1`, `tilt_2`, `phi_12`, `phi_jl`\n",
    "    1. Tidal deformabilities `lambda_1`, `lambda_2`\n",
    "\n",
    "##  To sample over\n",
    "1. Intrinsic:\n",
    "    1. Component masses `m_1`, `m_2` in terms of `symmetric_mass_ratio`, `chirp_mass`\n",
    "    \\begin{equation}\n",
    "     \\eta = \\dfrac{m_1 m_2}{(m_1 + m_2)^2} \\qquad,\\,\\, \\mathcal{M} = \\dfrac{(m_1 * m_2)^{3/5}}{(m_1 + m_2)^{1/5}}\n",
    "    \\end{equation}\n",
    "## Priors\n",
    "1. Uniform in (component masses)\n",
    "1. Uniform in comoving volume prior on luminosity distance (100Mpc, 5Gpc)"
   ]
  },
  {
   "cell_type": "code",
   "execution_count": 1,
   "id": "b640a860",
   "metadata": {},
   "outputs": [
    {
     "name": "stderr",
     "output_type": "stream",
     "text": [
      "/home/vaishakprasad/soft/anaconda/envs/igwn-py310/lib/python3.10/site-packages/pandas/core/computation/expressions.py:21: UserWarning: Pandas requires version '2.8.4' or newer of 'numexpr' (version '2.7.3' currently installed).\n",
      "  from pandas.core.computation.check import NUMEXPR_INSTALLED\n"
     ]
    }
   ],
   "source": [
    "import bilby\n",
    "from bilby.core.utils.random import seed\n",
    "\n",
    "# Sets seed of bilby's generator \"rng\" to \"123\" to ensure reproducibility\n",
    "seed(123)\n",
    "\n",
    "# Specify the output directory and the name of the simulation.\n",
    "outdir = \"bns_outdir\"\n",
    "label = \"bns_2param_rb_5\"\n",
    "bilby.core.utils.setup_logger(outdir=outdir, label=label)"
   ]
  },
  {
   "cell_type": "markdown",
   "id": "a4125e71",
   "metadata": {},
   "source": [
    "## Injection parameters"
   ]
  },
  {
   "cell_type": "code",
   "execution_count": 2,
   "id": "8777581b",
   "metadata": {},
   "outputs": [],
   "source": [
    "\n",
    "# We are going to inject a binary neutron star waveform.  We first establish a\n",
    "# dictionary of parameters that includes all of the different waveform\n",
    "# parameters, including masses of the two black holes (mass_1, mass_2),\n",
    "# aligned spins of both black holes (chi_1, chi_2), etc.\n",
    "injection_parameters = dict(\n",
    "    mass_1=1.5,\n",
    "    mass_2=1.3,\n",
    "    chi_1=0.02,\n",
    "    chi_2=0.02,\n",
    "    luminosity_distance=50.0,\n",
    "    theta_jn=0.4,\n",
    "    psi=2.659,\n",
    "    phase=1.3,\n",
    "    geocent_time=1126259642.413,\n",
    "    ra=1.375,\n",
    "    dec=-1.2108,\n",
    "    lambda_1=545,\n",
    "    lambda_2=1346,\n",
    "    fiducial=1\n",
    ")\n",
    "\n",
    "\n",
    "mass_ratio = injection_parameters[\"mass_2\"]/injection_parameters[\"mass_1\"]\n",
    "chirp_mass = (injection_parameters[\"mass_1\"]*injection_parameters[\"mass_2\"])**(3/5) / (injection_parameters[\"mass_1\"] + injection_parameters[\"mass_2\"] )**(1/5)"
   ]
  },
  {
   "cell_type": "code",
   "execution_count": 3,
   "id": "4da2ced6",
   "metadata": {},
   "outputs": [
    {
     "data": {
      "text/plain": [
       "1.2150360414642816"
      ]
     },
     "execution_count": 3,
     "metadata": {},
     "output_type": "execute_result"
    }
   ],
   "source": [
    "chirp_mass"
   ]
  },
  {
   "cell_type": "markdown",
   "id": "468fb8d7",
   "metadata": {},
   "source": [
    "## Data sampling parameters"
   ]
  },
  {
   "cell_type": "code",
   "execution_count": 4,
   "id": "3f9cf114",
   "metadata": {},
   "outputs": [],
   "source": [
    "\n",
    "# Set the duration and sampling frequency of the data segment that we're going\n",
    "# to inject the signal into. For the\n",
    "# TaylorF2 waveform, we cut the signal close to the isco frequency\n",
    "duration = 32\n",
    "sampling_frequency = 2048\n",
    "start_time = injection_parameters[\"geocent_time\"] + 2 - duration"
   ]
  },
  {
   "cell_type": "markdown",
   "id": "1fedbbe0",
   "metadata": {},
   "source": [
    "# Waveform generator"
   ]
  },
  {
   "cell_type": "code",
   "execution_count": 5,
   "id": "d586e119",
   "metadata": {},
   "outputs": [
    {
     "name": "stderr",
     "output_type": "stream",
     "text": [
      "15:09 bilby INFO    : Waveform generator initiated with\n",
      "  frequency_domain_source_model: bilby.gw.source.lal_binary_neutron_star_relative_binning\n",
      "  time_domain_source_model: None\n",
      "  parameter_conversion: bilby.gw.conversion.convert_to_lal_binary_neutron_star_parameters\n"
     ]
    }
   ],
   "source": [
    "\n",
    "# Fixed arguments passed into the source model. The analysis starts at 40 Hz.\n",
    "waveform_arguments = dict(\n",
    "    waveform_approximant=\"IMRPhenomPv2_NRTidal\",\n",
    "    reference_frequency=50.0,\n",
    "    minimum_frequency=40.0,\n",
    ")\n",
    "\n",
    "# Create the waveform_generator using a LAL Binary Neutron Star source function\n",
    "waveform_generator = bilby.gw.WaveformGenerator(\n",
    "    duration=duration,\n",
    "    sampling_frequency=sampling_frequency,\n",
    "    frequency_domain_source_model=bilby.gw.source.lal_binary_neutron_star_relative_binning,\n",
    "    parameter_conversion=bilby.gw.conversion.convert_to_lal_binary_neutron_star_parameters,\n",
    "    waveform_arguments=waveform_arguments,\n",
    ")"
   ]
  },
  {
   "cell_type": "markdown",
   "id": "40bc751b",
   "metadata": {},
   "source": [
    "## Inject the signal into the detector"
   ]
  },
  {
   "cell_type": "code",
   "execution_count": 6,
   "id": "e7821506",
   "metadata": {},
   "outputs": [
    {
     "name": "stderr",
     "output_type": "stream",
     "text": [
      "/home/vaishakprasad/soft/anaconda/envs/igwn-py310/lib/python3.10/site-packages/bilby/gw/source.py:528: UserWarning: Wswiglal-redir-stdio:\n",
      "\n",
      "SWIGLAL standard output/error redirection is enabled in IPython.\n",
      "This may lead to performance penalties. To disable locally, use:\n",
      "\n",
      "with lal.no_swig_redirect_standard_output_error():\n",
      "    ...\n",
      "\n",
      "To disable globally, use:\n",
      "\n",
      "lal.swig_redirect_standard_output_error(False)\n",
      "\n",
      "Note however that this will likely lead to error messages from\n",
      "LAL functions being either misdirected or lost when called from\n",
      "Jupyter notebooks.\n",
      "\n",
      "To suppress this warning, use:\n",
      "\n",
      "import warnings\n",
      "warnings.filterwarnings(\"ignore\", \"Wswiglal-redir-stdio\")\n",
      "import lal\n",
      "\n",
      "  import lal\n",
      "15:09 bilby INFO    : Injected signal in H1:\n",
      "15:09 bilby INFO    :   optimal SNR = 34.44\n",
      "15:09 bilby INFO    :   matched filter SNR = 33.89-0.55j\n",
      "15:09 bilby INFO    :   mass_1 = 1.5\n",
      "15:09 bilby INFO    :   mass_2 = 1.3\n",
      "15:09 bilby INFO    :   chi_1 = 0.02\n",
      "15:09 bilby INFO    :   chi_2 = 0.02\n",
      "15:09 bilby INFO    :   luminosity_distance = 50.0\n",
      "15:09 bilby INFO    :   theta_jn = 0.4\n",
      "15:09 bilby INFO    :   psi = 2.659\n",
      "15:09 bilby INFO    :   phase = 1.3\n",
      "15:09 bilby INFO    :   geocent_time = 1126259642.413\n",
      "15:09 bilby INFO    :   ra = 1.375\n",
      "15:09 bilby INFO    :   dec = -1.2108\n",
      "15:09 bilby INFO    :   lambda_1 = 545\n",
      "15:09 bilby INFO    :   lambda_2 = 1346\n",
      "15:09 bilby INFO    :   fiducial = 1\n",
      "15:09 bilby INFO    : Injected signal in L1:\n",
      "15:09 bilby INFO    :   optimal SNR = 27.88\n",
      "15:09 bilby INFO    :   matched filter SNR = 27.90+0.23j\n",
      "15:09 bilby INFO    :   mass_1 = 1.5\n",
      "15:09 bilby INFO    :   mass_2 = 1.3\n",
      "15:09 bilby INFO    :   chi_1 = 0.02\n",
      "15:09 bilby INFO    :   chi_2 = 0.02\n",
      "15:09 bilby INFO    :   luminosity_distance = 50.0\n",
      "15:09 bilby INFO    :   theta_jn = 0.4\n",
      "15:09 bilby INFO    :   psi = 2.659\n",
      "15:09 bilby INFO    :   phase = 1.3\n",
      "15:09 bilby INFO    :   geocent_time = 1126259642.413\n",
      "15:09 bilby INFO    :   ra = 1.375\n",
      "15:09 bilby INFO    :   dec = -1.2108\n",
      "15:09 bilby INFO    :   lambda_1 = 545\n",
      "15:09 bilby INFO    :   lambda_2 = 1346\n",
      "15:09 bilby INFO    :   fiducial = 1\n",
      "15:09 bilby INFO    : Injected signal in V1:\n",
      "15:09 bilby INFO    :   optimal SNR = 29.56\n",
      "15:09 bilby INFO    :   matched filter SNR = 29.93-0.22j\n",
      "15:09 bilby INFO    :   mass_1 = 1.5\n",
      "15:09 bilby INFO    :   mass_2 = 1.3\n",
      "15:09 bilby INFO    :   chi_1 = 0.02\n",
      "15:09 bilby INFO    :   chi_2 = 0.02\n",
      "15:09 bilby INFO    :   luminosity_distance = 50.0\n",
      "15:09 bilby INFO    :   theta_jn = 0.4\n",
      "15:09 bilby INFO    :   psi = 2.659\n",
      "15:09 bilby INFO    :   phase = 1.3\n",
      "15:09 bilby INFO    :   geocent_time = 1126259642.413\n",
      "15:09 bilby INFO    :   ra = 1.375\n",
      "15:09 bilby INFO    :   dec = -1.2108\n",
      "15:09 bilby INFO    :   lambda_1 = 545\n",
      "15:09 bilby INFO    :   lambda_2 = 1346\n",
      "15:09 bilby INFO    :   fiducial = 1\n"
     ]
    },
    {
     "data": {
      "text/plain": [
       "[{'plus': array([ 0.00000000e+00-0.00000000e+00j,  0.00000000e+00-0.00000000e+00j,\n",
       "          0.00000000e+00-0.00000000e+00j, ...,\n",
       "         -4.23008636e-25+7.98210938e-26j, -4.23011798e-25+7.97089719e-26j,\n",
       "          0.00000000e+00-0.00000000e+00j]),\n",
       "  'cross': array([0.00000000e+00+0.00000000e+00j, 0.00000000e+00+0.00000000e+00j,\n",
       "         0.00000000e+00+0.00000000e+00j, ...,\n",
       "         7.95519924e-26+4.21582544e-25j, 7.94402485e-26+4.21585695e-25j,\n",
       "         0.00000000e+00+0.00000000e+00j])},\n",
       " {'plus': array([ 0.00000000e+00-0.00000000e+00j,  0.00000000e+00-0.00000000e+00j,\n",
       "          0.00000000e+00-0.00000000e+00j, ...,\n",
       "         -4.23008636e-25+7.98210938e-26j, -4.23011798e-25+7.97089719e-26j,\n",
       "          0.00000000e+00-0.00000000e+00j]),\n",
       "  'cross': array([0.00000000e+00+0.00000000e+00j, 0.00000000e+00+0.00000000e+00j,\n",
       "         0.00000000e+00+0.00000000e+00j, ...,\n",
       "         7.95519924e-26+4.21582544e-25j, 7.94402485e-26+4.21585695e-25j,\n",
       "         0.00000000e+00+0.00000000e+00j])},\n",
       " {'plus': array([ 0.00000000e+00-0.00000000e+00j,  0.00000000e+00-0.00000000e+00j,\n",
       "          0.00000000e+00-0.00000000e+00j, ...,\n",
       "         -4.23008636e-25+7.98210938e-26j, -4.23011798e-25+7.97089719e-26j,\n",
       "          0.00000000e+00-0.00000000e+00j]),\n",
       "  'cross': array([0.00000000e+00+0.00000000e+00j, 0.00000000e+00+0.00000000e+00j,\n",
       "         0.00000000e+00+0.00000000e+00j, ...,\n",
       "         7.95519924e-26+4.21582544e-25j, 7.94402485e-26+4.21585695e-25j,\n",
       "         0.00000000e+00+0.00000000e+00j])}]"
      ]
     },
     "execution_count": 6,
     "metadata": {},
     "output_type": "execute_result"
    }
   ],
   "source": [
    "\n",
    "# Set up interferometers.  In this case we'll use three interferometers\n",
    "# (LIGO-Hanford (H1), LIGO-Livingston (L1), and Virgo (V1)).\n",
    "# These default to their design sensitivity and start at 40 Hz.\n",
    "interferometers = bilby.gw.detector.InterferometerList([\"H1\", \"L1\", \"V1\"])\n",
    "for interferometer in interferometers:\n",
    "    interferometer.minimum_frequency = 40\n",
    "interferometers.set_strain_data_from_power_spectral_densities(\n",
    "    sampling_frequency=sampling_frequency, duration=duration, start_time=start_time\n",
    ")\n",
    "interferometers.inject_signal(\n",
    "    parameters=injection_parameters, waveform_generator=waveform_generator\n",
    ")"
   ]
  },
  {
   "cell_type": "markdown",
   "id": "3ed74fcd",
   "metadata": {},
   "source": [
    "## Define the priors"
   ]
  },
  {
   "cell_type": "code",
   "execution_count": 7,
   "id": "b0826f90",
   "metadata": {},
   "outputs": [
    {
     "data": {
      "text/plain": [
       "1.2150360414642816"
      ]
     },
     "execution_count": 7,
     "metadata": {},
     "output_type": "execute_result"
    }
   ],
   "source": [
    "chirp_mass"
   ]
  },
  {
   "cell_type": "code",
   "execution_count": 8,
   "id": "e2037692",
   "metadata": {},
   "outputs": [
    {
     "data": {
      "text/plain": [
       "0.8666666666666667"
      ]
     },
     "execution_count": 8,
     "metadata": {},
     "output_type": "execute_result"
    }
   ],
   "source": [
    "mass_ratio"
   ]
  },
  {
   "cell_type": "code",
   "execution_count": 9,
   "id": "ba738974",
   "metadata": {},
   "outputs": [
    {
     "name": "stderr",
     "output_type": "stream",
     "text": [
      "15:09 bilby INFO    : No prior given, using default BNS priors in /home/vaishakprasad/soft/anaconda/envs/igwn-py310/lib/python3.10/site-packages/bilby/gw/prior_files/aligned_spins_bns_tides_on.prior.\n"
     ]
    }
   ],
   "source": [
    "\n",
    "# Load the default prior for binary neutron stars.\n",
    "# We're going to sample in chirp_mass, symmetric_mass_ratio, lambda_tilde, and\n",
    "# delta_lambda_tilde rather than mass_1, mass_2, lambda_1, and lambda_2.\n",
    "# BNS have aligned spins by default, if you want to allow precessing spins\n",
    "# pass aligned_spin=False to the BNSPriorDict\n",
    "priors = bilby.gw.prior.BNSPriorDict()\n",
    "for key in [\n",
    "    \"psi\",\n",
    "    \"geocent_time\",\n",
    "    \"ra\",\n",
    "    \"dec\",\n",
    "    \"chi_1\",\n",
    "    \"chi_2\",\n",
    "    \"theta_jn\",\n",
    "    \"luminosity_distance\",\n",
    "    \"phase\",\n",
    "    \"lambda_1\",\n",
    "    'lambda_2'\n",
    "]:\n",
    "    priors[key] = injection_parameters[key]\n",
    "\n",
    "# Reparametrize in terms of symmetric mass ratio and chirp mass\n",
    "#del priors[\"mass_ratio\"], priors[\"lambda_1\"], priors[\"lambda_2\"]\n",
    "priors['chirp_mass'] = bilby.gw.prior.UniformInComponentsChirpMass(minimum=0.9, maximum=1.3, name='chirp_mass', latex_label='$\\\\mathcal{M}$', unit=None, boundary=None)\n",
    "priors['mass_ratio'] = bilby.gw.prior.UniformInComponentsMassRatio(minimum=0.6, maximum=1, name='mass_ratio', latex_label='$q$', unit=None, boundary=None, equal_mass=False)\n",
    "#priors[\"mass_ratio\"] = mass_ratio\n",
    "#del priors[\"lambda_1\"], priors[\"lambda_2\"]\n",
    "\n",
    "#priors[\"chirp_mass\"] = bilby.core.prior.Gaussian(\n",
    "#    1.215, 0.1, name=\"chirp_mass\", unit=\"$M_{\\\\odot}$\"\n",
    "#)\n",
    "#priors[\"symmetric_mass_ratio\"] = bilby.core.prior.Uniform(\n",
    "#    0.1, 0.25, name=\"symmetric_mass_ratio\"\n",
    "#)"
   ]
  },
  {
   "cell_type": "code",
   "execution_count": 10,
   "id": "e1ef020b",
   "metadata": {},
   "outputs": [
    {
     "data": {
      "text/plain": [
       "{'mass_1': Constraint(minimum=0.5, maximum=5, name='mass_1', latex_label='$m_1$', unit=None),\n",
       " 'mass_2': Constraint(minimum=0.5, maximum=5, name='mass_2', latex_label='$m_2$', unit=None),\n",
       " 'mass_ratio': bilby.gw.prior.UniformInComponentsMassRatio(minimum=0.6, maximum=1, name='mass_ratio', latex_label='$q$', unit=None, boundary=None, equal_mass=False),\n",
       " 'chirp_mass': bilby.gw.prior.UniformInComponentsChirpMass(minimum=0.9, maximum=1.3, name='chirp_mass', latex_label='$\\\\mathcal{M}$', unit=None, boundary=None),\n",
       " 'luminosity_distance': 50.0,\n",
       " 'dec': -1.2108,\n",
       " 'ra': 1.375,\n",
       " 'theta_jn': 0.4,\n",
       " 'psi': 2.659,\n",
       " 'phase': 1.3,\n",
       " 'chi_1': 0.02,\n",
       " 'chi_2': 0.02,\n",
       " 'lambda_1': 545,\n",
       " 'lambda_2': 1346,\n",
       " 'geocent_time': 1126259642.413}"
      ]
     },
     "execution_count": 10,
     "metadata": {},
     "output_type": "execute_result"
    }
   ],
   "source": [
    "priors"
   ]
  },
  {
   "cell_type": "markdown",
   "id": "17a7adb0",
   "metadata": {},
   "source": [
    "## Initialize the likelihood"
   ]
  },
  {
   "cell_type": "code",
   "execution_count": 11,
   "id": "a91b0485",
   "metadata": {},
   "outputs": [
    {
     "name": "stderr",
     "output_type": "stream",
     "text": [
      "15:09 bilby INFO    : Initial fiducial waveforms set up\n",
      "15:09 bilby INFO    : Summary Data Obtained\n",
      "15:09 bilby INFO    : Fiducial likelihood: 1411.25\n",
      "15:09 bilby INFO    : Running for label 'bns_2param_rb_5', output will be saved to 'bns_outdir'\n",
      "15:09 bilby INFO    : Performing redundancy check using BBHPriorDict(self).test_redundancy\n",
      "15:09 bilby WARNING : Parameter fiducial has no default prior and is set to 0, this will not be sampled and may cause an error.\n",
      "15:09 bilby INFO    : Performing redundancy check using BBHPriorDict(self).test_redundancy\n",
      "15:09 bilby INFO    : Performing redundancy check using BBHPriorDict(self).test_redundancy\n",
      "15:09 bilby INFO    : Performing redundancy check using BBHPriorDict(self).test_redundancy\n",
      "15:09 bilby INFO    : Performing redundancy check using BBHPriorDict(self).test_redundancy\n",
      "15:09 bilby INFO    : Performing redundancy check using BBHPriorDict(self).test_redundancy\n",
      "15:09 bilby INFO    : Performing redundancy check using BBHPriorDict(self).test_redundancy\n",
      "15:09 bilby INFO    : Performing redundancy check using BBHPriorDict(self).test_redundancy\n",
      "15:09 bilby INFO    : Performing redundancy check using BBHPriorDict(self).test_redundancy\n",
      "15:09 bilby INFO    : Performing redundancy check using BBHPriorDict(self).test_redundancy\n",
      "15:09 bilby INFO    : Performing redundancy check using BBHPriorDict(self).test_redundancy\n",
      "15:09 bilby INFO    : Performing redundancy check using BBHPriorDict(self).test_redundancy\n",
      "15:09 bilby INFO    : Performing redundancy check using BBHPriorDict(self).test_redundancy\n",
      "15:09 bilby INFO    : Performing redundancy check using BBHPriorDict(self).test_redundancy\n",
      "15:09 bilby INFO    : Performing redundancy check using BBHPriorDict(self).test_redundancy\n",
      "15:09 bilby INFO    : Performing redundancy check using BBHPriorDict(self).test_redundancy\n",
      "15:09 bilby INFO    : Using lal version 7.6.1\n",
      "15:09 bilby INFO    : Using lal git version Branch: None;Tag: lal-v7.6.1;Id: 31af23159ed7c6557180f58ad3f39a06e5a08731;;Builder: Adam Mercer <adam.mercer@ligo.org>;Repository status: CLEAN: All modifications committed\n",
      "15:09 bilby INFO    : Using lalsimulation version 6.1.0\n",
      "15:09 bilby INFO    : Using lalsimulation git version Branch: None;Tag: lalsimulation-v6.1.0;Id: 8041734408377ca999821f7e372e2a02e9226e6b;;Builder: Adam Mercer <adam.mercer@ligo.org>;Repository status: CLEAN: All modifications committed\n",
      "/home/vaishakprasad/soft/anaconda/envs/igwn-py310/lib/python3.10/site-packages/bilby/core/utils/log.py:73: UserWarning: The '__version__' attribute is deprecated and will be removed in MarkupSafe 3.1. Use feature detection, or `importlib.metadata.version(\"markupsafe\")`, instead.\n",
      "  vdict[key] = str(getattr(sys.modules[key], \"__version__\", \"N/A\"))\n",
      "15:09 bilby INFO    : Analysis priors:\n",
      "15:09 bilby INFO    : mass_ratio=bilby.gw.prior.UniformInComponentsMassRatio(minimum=0.6, maximum=1, name='mass_ratio', latex_label='$q$', unit=None, boundary=None, equal_mass=False)\n",
      "15:09 bilby INFO    : chirp_mass=bilby.gw.prior.UniformInComponentsChirpMass(minimum=0.9, maximum=1.3, name='chirp_mass', latex_label='$\\\\mathcal{M}$', unit=None, boundary=None)\n",
      "15:09 bilby INFO    : mass_1=Constraint(minimum=0.5, maximum=5, name='mass_1', latex_label='$m_1$', unit=None)\n",
      "15:09 bilby INFO    : mass_2=Constraint(minimum=0.5, maximum=5, name='mass_2', latex_label='$m_2$', unit=None)\n",
      "15:09 bilby INFO    : luminosity_distance=50.0\n",
      "15:09 bilby INFO    : dec=-1.2108\n",
      "15:09 bilby INFO    : ra=1.375\n",
      "15:09 bilby INFO    : theta_jn=0.4\n",
      "15:09 bilby INFO    : psi=2.659\n",
      "15:09 bilby INFO    : phase=1.3\n",
      "15:09 bilby INFO    : chi_1=0.02\n",
      "15:09 bilby INFO    : chi_2=0.02\n",
      "15:09 bilby INFO    : lambda_1=545\n",
      "15:09 bilby INFO    : lambda_2=1346\n",
      "15:09 bilby INFO    : geocent_time=1126259642.413\n",
      "15:09 bilby INFO    : Analysis likelihood class: <class 'bilby.gw.likelihood.relative.RelativeBinningGravitationalWaveTransient'>\n",
      "15:09 bilby INFO    : Analysis likelihood noise evidence: -95975.55352101159\n",
      "15:09 bilby INFO    : Single likelihood evaluation took 1.615e-03 s\n",
      "15:09 bilby INFO    : Using sampler Nestle with kwargs {'method': 'multi', 'npoints': 100, 'update_interval': None, 'npdim': None, 'maxiter': None, 'maxcall': None, 'dlogz': None, 'decline_factor': None, 'rstate': None, 'callback': <function print_progress at 0x7fc59159dfc0>, 'steps': 20, 'enlarge': 1.2}\n"
     ]
    },
    {
     "name": "stdout",
     "output_type": "stream",
     "text": [
      "\u001b[Kit=  1426 logz=1398.7107533\n"
     ]
    },
    {
     "name": "stderr",
     "output_type": "stream",
     "text": [
      "15:10 bilby INFO    : Sampling time: 0:01:10.519334\n",
      "15:10 bilby INFO    : Computing per-detector log likelihoods.\n"
     ]
    },
    {
     "data": {
      "application/vnd.jupyter.widget-view+json": {
       "model_id": "ed1b4541c54746cd9cea56119e7e5681",
       "version_major": 2,
       "version_minor": 0
      },
      "text/plain": [
       "  0%|          | 0/1527 [00:00<?, ?it/s]"
      ]
     },
     "metadata": {},
     "output_type": "display_data"
    },
    {
     "name": "stderr",
     "output_type": "stream",
     "text": [
      "15:10 bilby INFO    : Generating sky frame parameters.\n"
     ]
    },
    {
     "data": {
      "application/vnd.jupyter.widget-view+json": {
       "model_id": "beb172a75d874c429a721efab8aece10",
       "version_major": 2,
       "version_minor": 0
      },
      "text/plain": [
       "  0%|          | 0/1527 [00:00<?, ?it/s]"
      ]
     },
     "metadata": {},
     "output_type": "display_data"
    },
    {
     "name": "stderr",
     "output_type": "stream",
     "text": [
      "15:10 bilby INFO    : Computing SNRs for every sample.\n"
     ]
    },
    {
     "data": {
      "application/vnd.jupyter.widget-view+json": {
       "model_id": "32ee679884734d7d845612fe88f3e7d3",
       "version_major": 2,
       "version_minor": 0
      },
      "text/plain": [
       "  0%|          | 0/1527 [00:00<?, ?it/s]"
      ]
     },
     "metadata": {},
     "output_type": "display_data"
    },
    {
     "name": "stderr",
     "output_type": "stream",
     "text": [
      "15:10 bilby INFO    : Summary of results:\n",
      "nsamples: 1527\n",
      "ln_noise_evidence: -95975.554\n",
      "ln_evidence: -94576.425 +/-  0.352\n",
      "ln_bayes_factor: 1399.129 +/-  0.352\n",
      "\n"
     ]
    }
   ],
   "source": [
    "# Initialise the likelihood by passing in the interferometer data (IFOs)\n",
    "# and the waveform generator\n",
    "likelihood = bilby.gw.likelihood.RelativeBinningGravitationalWaveTransient(\n",
    "    interferometers=interferometers,\n",
    "    waveform_generator=waveform_generator,\n",
    "    priors=priors,\n",
    "    distance_marginalization=False,\n",
    "    fiducial_parameters=injection_parameters.copy()\n",
    ")\n",
    "\n",
    "# Run sampler.  In this case we're going to use the `nestle` sampler\n",
    "result = bilby.run_sampler(\n",
    "    likelihood=likelihood,\n",
    "    priors=priors,\n",
    "    sampler=\"nestle\",\n",
    "    npoints=100,\n",
    "    injection_parameters=injection_parameters,\n",
    "    outdir=outdir,\n",
    "    label=label,\n",
    "    conversion_function=bilby.gw.conversion.generate_all_bns_parameters,\n",
    "    result_class=bilby.gw.result.CBCResult,\n",
    "    #bound='multi'\n",
    ")"
   ]
  },
  {
   "cell_type": "code",
   "execution_count": 12,
   "id": "5c760ddd",
   "metadata": {},
   "outputs": [],
   "source": [
    "all_injection_parameters = bilby.gw.conversion.generate_all_bns_parameters(injection_parameters)"
   ]
  },
  {
   "cell_type": "code",
   "execution_count": 13,
   "id": "e8c12907",
   "metadata": {},
   "outputs": [
    {
     "data": {
      "text/html": [
       "<div>\n",
       "<style scoped>\n",
       "    .dataframe tbody tr th:only-of-type {\n",
       "        vertical-align: middle;\n",
       "    }\n",
       "\n",
       "    .dataframe tbody tr th {\n",
       "        vertical-align: top;\n",
       "    }\n",
       "\n",
       "    .dataframe thead th {\n",
       "        text-align: right;\n",
       "    }\n",
       "</style>\n",
       "<table border=\"1\" class=\"dataframe\">\n",
       "  <thead>\n",
       "    <tr style=\"text-align: right;\">\n",
       "      <th></th>\n",
       "      <th>chirp_mass</th>\n",
       "      <th>mass_ratio</th>\n",
       "      <th>luminosity_distance</th>\n",
       "      <th>dec</th>\n",
       "      <th>ra</th>\n",
       "      <th>theta_jn</th>\n",
       "      <th>psi</th>\n",
       "      <th>phase</th>\n",
       "      <th>chi_1</th>\n",
       "      <th>chi_2</th>\n",
       "      <th>...</th>\n",
       "      <th>chi_2_in_plane</th>\n",
       "      <th>chi_p</th>\n",
       "      <th>redshift</th>\n",
       "      <th>comoving_distance</th>\n",
       "      <th>mass_1_source</th>\n",
       "      <th>mass_2_source</th>\n",
       "      <th>chirp_mass_source</th>\n",
       "      <th>total_mass_source</th>\n",
       "      <th>lambda_tilde</th>\n",
       "      <th>delta_lambda_tilde</th>\n",
       "    </tr>\n",
       "  </thead>\n",
       "  <tbody>\n",
       "    <tr>\n",
       "      <th>0</th>\n",
       "      <td>1.215013</td>\n",
       "      <td>0.866667</td>\n",
       "      <td>50.0</td>\n",
       "      <td>-1.2108</td>\n",
       "      <td>1.375</td>\n",
       "      <td>0.4</td>\n",
       "      <td>2.659</td>\n",
       "      <td>1.3</td>\n",
       "      <td>0.02</td>\n",
       "      <td>0.02</td>\n",
       "      <td>...</td>\n",
       "      <td>0.0</td>\n",
       "      <td>0.0</td>\n",
       "      <td>0.011202</td>\n",
       "      <td>49.446114</td>\n",
       "      <td>1.483355</td>\n",
       "      <td>1.285574</td>\n",
       "      <td>1.201553</td>\n",
       "      <td>2.768929</td>\n",
       "      <td>867.993156</td>\n",
       "      <td>95.051301</td>\n",
       "    </tr>\n",
       "    <tr>\n",
       "      <th>1</th>\n",
       "      <td>1.215015</td>\n",
       "      <td>0.866667</td>\n",
       "      <td>50.0</td>\n",
       "      <td>-1.2108</td>\n",
       "      <td>1.375</td>\n",
       "      <td>0.4</td>\n",
       "      <td>2.659</td>\n",
       "      <td>1.3</td>\n",
       "      <td>0.02</td>\n",
       "      <td>0.02</td>\n",
       "      <td>...</td>\n",
       "      <td>0.0</td>\n",
       "      <td>0.0</td>\n",
       "      <td>0.011202</td>\n",
       "      <td>49.446114</td>\n",
       "      <td>1.483357</td>\n",
       "      <td>1.285576</td>\n",
       "      <td>1.201555</td>\n",
       "      <td>2.768933</td>\n",
       "      <td>867.993156</td>\n",
       "      <td>95.051301</td>\n",
       "    </tr>\n",
       "    <tr>\n",
       "      <th>2</th>\n",
       "      <td>1.215016</td>\n",
       "      <td>0.866667</td>\n",
       "      <td>50.0</td>\n",
       "      <td>-1.2108</td>\n",
       "      <td>1.375</td>\n",
       "      <td>0.4</td>\n",
       "      <td>2.659</td>\n",
       "      <td>1.3</td>\n",
       "      <td>0.02</td>\n",
       "      <td>0.02</td>\n",
       "      <td>...</td>\n",
       "      <td>0.0</td>\n",
       "      <td>0.0</td>\n",
       "      <td>0.011202</td>\n",
       "      <td>49.446114</td>\n",
       "      <td>1.483359</td>\n",
       "      <td>1.285577</td>\n",
       "      <td>1.201556</td>\n",
       "      <td>2.768936</td>\n",
       "      <td>867.993156</td>\n",
       "      <td>95.051301</td>\n",
       "    </tr>\n",
       "    <tr>\n",
       "      <th>3</th>\n",
       "      <td>1.215067</td>\n",
       "      <td>0.866667</td>\n",
       "      <td>50.0</td>\n",
       "      <td>-1.2108</td>\n",
       "      <td>1.375</td>\n",
       "      <td>0.4</td>\n",
       "      <td>2.659</td>\n",
       "      <td>1.3</td>\n",
       "      <td>0.02</td>\n",
       "      <td>0.02</td>\n",
       "      <td>...</td>\n",
       "      <td>0.0</td>\n",
       "      <td>0.0</td>\n",
       "      <td>0.011202</td>\n",
       "      <td>49.446114</td>\n",
       "      <td>1.483421</td>\n",
       "      <td>1.285632</td>\n",
       "      <td>1.201607</td>\n",
       "      <td>2.769053</td>\n",
       "      <td>867.993156</td>\n",
       "      <td>95.051301</td>\n",
       "    </tr>\n",
       "    <tr>\n",
       "      <th>4</th>\n",
       "      <td>1.215017</td>\n",
       "      <td>0.866667</td>\n",
       "      <td>50.0</td>\n",
       "      <td>-1.2108</td>\n",
       "      <td>1.375</td>\n",
       "      <td>0.4</td>\n",
       "      <td>2.659</td>\n",
       "      <td>1.3</td>\n",
       "      <td>0.02</td>\n",
       "      <td>0.02</td>\n",
       "      <td>...</td>\n",
       "      <td>0.0</td>\n",
       "      <td>0.0</td>\n",
       "      <td>0.011202</td>\n",
       "      <td>49.446114</td>\n",
       "      <td>1.483361</td>\n",
       "      <td>1.285579</td>\n",
       "      <td>1.201558</td>\n",
       "      <td>2.768940</td>\n",
       "      <td>867.993156</td>\n",
       "      <td>95.051301</td>\n",
       "    </tr>\n",
       "    <tr>\n",
       "      <th>...</th>\n",
       "      <td>...</td>\n",
       "      <td>...</td>\n",
       "      <td>...</td>\n",
       "      <td>...</td>\n",
       "      <td>...</td>\n",
       "      <td>...</td>\n",
       "      <td>...</td>\n",
       "      <td>...</td>\n",
       "      <td>...</td>\n",
       "      <td>...</td>\n",
       "      <td>...</td>\n",
       "      <td>...</td>\n",
       "      <td>...</td>\n",
       "      <td>...</td>\n",
       "      <td>...</td>\n",
       "      <td>...</td>\n",
       "      <td>...</td>\n",
       "      <td>...</td>\n",
       "      <td>...</td>\n",
       "      <td>...</td>\n",
       "      <td>...</td>\n",
       "    </tr>\n",
       "    <tr>\n",
       "      <th>1220</th>\n",
       "      <td>1.215041</td>\n",
       "      <td>0.866667</td>\n",
       "      <td>50.0</td>\n",
       "      <td>-1.2108</td>\n",
       "      <td>1.375</td>\n",
       "      <td>0.4</td>\n",
       "      <td>2.659</td>\n",
       "      <td>1.3</td>\n",
       "      <td>0.02</td>\n",
       "      <td>0.02</td>\n",
       "      <td>...</td>\n",
       "      <td>0.0</td>\n",
       "      <td>0.0</td>\n",
       "      <td>0.011202</td>\n",
       "      <td>49.446114</td>\n",
       "      <td>1.483389</td>\n",
       "      <td>1.285604</td>\n",
       "      <td>1.201581</td>\n",
       "      <td>2.768993</td>\n",
       "      <td>867.993156</td>\n",
       "      <td>95.051301</td>\n",
       "    </tr>\n",
       "    <tr>\n",
       "      <th>1221</th>\n",
       "      <td>1.215041</td>\n",
       "      <td>0.866667</td>\n",
       "      <td>50.0</td>\n",
       "      <td>-1.2108</td>\n",
       "      <td>1.375</td>\n",
       "      <td>0.4</td>\n",
       "      <td>2.659</td>\n",
       "      <td>1.3</td>\n",
       "      <td>0.02</td>\n",
       "      <td>0.02</td>\n",
       "      <td>...</td>\n",
       "      <td>0.0</td>\n",
       "      <td>0.0</td>\n",
       "      <td>0.011202</td>\n",
       "      <td>49.446114</td>\n",
       "      <td>1.483389</td>\n",
       "      <td>1.285604</td>\n",
       "      <td>1.201581</td>\n",
       "      <td>2.768993</td>\n",
       "      <td>867.993156</td>\n",
       "      <td>95.051301</td>\n",
       "    </tr>\n",
       "    <tr>\n",
       "      <th>1222</th>\n",
       "      <td>1.215041</td>\n",
       "      <td>0.866667</td>\n",
       "      <td>50.0</td>\n",
       "      <td>-1.2108</td>\n",
       "      <td>1.375</td>\n",
       "      <td>0.4</td>\n",
       "      <td>2.659</td>\n",
       "      <td>1.3</td>\n",
       "      <td>0.02</td>\n",
       "      <td>0.02</td>\n",
       "      <td>...</td>\n",
       "      <td>0.0</td>\n",
       "      <td>0.0</td>\n",
       "      <td>0.011202</td>\n",
       "      <td>49.446114</td>\n",
       "      <td>1.483389</td>\n",
       "      <td>1.285604</td>\n",
       "      <td>1.201581</td>\n",
       "      <td>2.768993</td>\n",
       "      <td>867.993156</td>\n",
       "      <td>95.051301</td>\n",
       "    </tr>\n",
       "    <tr>\n",
       "      <th>1223</th>\n",
       "      <td>1.215041</td>\n",
       "      <td>0.866667</td>\n",
       "      <td>50.0</td>\n",
       "      <td>-1.2108</td>\n",
       "      <td>1.375</td>\n",
       "      <td>0.4</td>\n",
       "      <td>2.659</td>\n",
       "      <td>1.3</td>\n",
       "      <td>0.02</td>\n",
       "      <td>0.02</td>\n",
       "      <td>...</td>\n",
       "      <td>0.0</td>\n",
       "      <td>0.0</td>\n",
       "      <td>0.011202</td>\n",
       "      <td>49.446114</td>\n",
       "      <td>1.483389</td>\n",
       "      <td>1.285604</td>\n",
       "      <td>1.201581</td>\n",
       "      <td>2.768993</td>\n",
       "      <td>867.993156</td>\n",
       "      <td>95.051301</td>\n",
       "    </tr>\n",
       "    <tr>\n",
       "      <th>1224</th>\n",
       "      <td>1.215041</td>\n",
       "      <td>0.866667</td>\n",
       "      <td>50.0</td>\n",
       "      <td>-1.2108</td>\n",
       "      <td>1.375</td>\n",
       "      <td>0.4</td>\n",
       "      <td>2.659</td>\n",
       "      <td>1.3</td>\n",
       "      <td>0.02</td>\n",
       "      <td>0.02</td>\n",
       "      <td>...</td>\n",
       "      <td>0.0</td>\n",
       "      <td>0.0</td>\n",
       "      <td>0.011202</td>\n",
       "      <td>49.446114</td>\n",
       "      <td>1.483389</td>\n",
       "      <td>1.285604</td>\n",
       "      <td>1.201581</td>\n",
       "      <td>2.768993</td>\n",
       "      <td>867.993156</td>\n",
       "      <td>95.051301</td>\n",
       "    </tr>\n",
       "  </tbody>\n",
       "</table>\n",
       "<p>1225 rows × 60 columns</p>\n",
       "</div>"
      ],
      "text/plain": [
       "      chirp_mass  mass_ratio  luminosity_distance     dec     ra  theta_jn  \\\n",
       "0       1.215013    0.866667                 50.0 -1.2108  1.375       0.4   \n",
       "1       1.215015    0.866667                 50.0 -1.2108  1.375       0.4   \n",
       "2       1.215016    0.866667                 50.0 -1.2108  1.375       0.4   \n",
       "3       1.215067    0.866667                 50.0 -1.2108  1.375       0.4   \n",
       "4       1.215017    0.866667                 50.0 -1.2108  1.375       0.4   \n",
       "...          ...         ...                  ...     ...    ...       ...   \n",
       "1220    1.215041    0.866667                 50.0 -1.2108  1.375       0.4   \n",
       "1221    1.215041    0.866667                 50.0 -1.2108  1.375       0.4   \n",
       "1222    1.215041    0.866667                 50.0 -1.2108  1.375       0.4   \n",
       "1223    1.215041    0.866667                 50.0 -1.2108  1.375       0.4   \n",
       "1224    1.215041    0.866667                 50.0 -1.2108  1.375       0.4   \n",
       "\n",
       "        psi  phase  chi_1  chi_2  ...  chi_2_in_plane  chi_p  redshift  \\\n",
       "0     2.659    1.3   0.02   0.02  ...             0.0    0.0  0.011202   \n",
       "1     2.659    1.3   0.02   0.02  ...             0.0    0.0  0.011202   \n",
       "2     2.659    1.3   0.02   0.02  ...             0.0    0.0  0.011202   \n",
       "3     2.659    1.3   0.02   0.02  ...             0.0    0.0  0.011202   \n",
       "4     2.659    1.3   0.02   0.02  ...             0.0    0.0  0.011202   \n",
       "...     ...    ...    ...    ...  ...             ...    ...       ...   \n",
       "1220  2.659    1.3   0.02   0.02  ...             0.0    0.0  0.011202   \n",
       "1221  2.659    1.3   0.02   0.02  ...             0.0    0.0  0.011202   \n",
       "1222  2.659    1.3   0.02   0.02  ...             0.0    0.0  0.011202   \n",
       "1223  2.659    1.3   0.02   0.02  ...             0.0    0.0  0.011202   \n",
       "1224  2.659    1.3   0.02   0.02  ...             0.0    0.0  0.011202   \n",
       "\n",
       "      comoving_distance  mass_1_source  mass_2_source chirp_mass_source  \\\n",
       "0             49.446114       1.483355       1.285574          1.201553   \n",
       "1             49.446114       1.483357       1.285576          1.201555   \n",
       "2             49.446114       1.483359       1.285577          1.201556   \n",
       "3             49.446114       1.483421       1.285632          1.201607   \n",
       "4             49.446114       1.483361       1.285579          1.201558   \n",
       "...                 ...            ...            ...               ...   \n",
       "1220          49.446114       1.483389       1.285604          1.201581   \n",
       "1221          49.446114       1.483389       1.285604          1.201581   \n",
       "1222          49.446114       1.483389       1.285604          1.201581   \n",
       "1223          49.446114       1.483389       1.285604          1.201581   \n",
       "1224          49.446114       1.483389       1.285604          1.201581   \n",
       "\n",
       "      total_mass_source  lambda_tilde  delta_lambda_tilde  \n",
       "0              2.768929    867.993156           95.051301  \n",
       "1              2.768933    867.993156           95.051301  \n",
       "2              2.768936    867.993156           95.051301  \n",
       "3              2.769053    867.993156           95.051301  \n",
       "4              2.768940    867.993156           95.051301  \n",
       "...                 ...           ...                 ...  \n",
       "1220           2.768993    867.993156           95.051301  \n",
       "1221           2.768993    867.993156           95.051301  \n",
       "1222           2.768993    867.993156           95.051301  \n",
       "1223           2.768993    867.993156           95.051301  \n",
       "1224           2.768993    867.993156           95.051301  \n",
       "\n",
       "[1225 rows x 60 columns]"
      ]
     },
     "execution_count": 13,
     "metadata": {},
     "output_type": "execute_result"
    }
   ],
   "source": [
    "result.posterior"
   ]
  },
  {
   "cell_type": "code",
   "execution_count": 14,
   "id": "73bd7ea0",
   "metadata": {},
   "outputs": [],
   "source": [
    "truths = {}\n",
    "\n",
    "#for key in [\"chirp_mass\", \"symmetric_mass_ratio\"]:\n",
    "for key in [\"chirp_mass\"]:\n",
    "    truths.update({key : all_injection_parameters[key]})"
   ]
  },
  {
   "cell_type": "code",
   "execution_count": 15,
   "id": "b2f25ab6",
   "metadata": {},
   "outputs": [
    {
     "data": {
      "text/plain": [
       "{'chirp_mass': 1.2150360414642816}"
      ]
     },
     "execution_count": 15,
     "metadata": {},
     "output_type": "execute_result"
    }
   ],
   "source": [
    "truths"
   ]
  },
  {
   "cell_type": "code",
   "execution_count": 16,
   "id": "d066a626",
   "metadata": {},
   "outputs": [
    {
     "data": {
      "image/png": "[encoded data removed]",
      "text/plain": [
       "<Figure size 640x480 with 1 Axes>"
      ]
     },
     "execution_count": 16,
     "metadata": {},
     "output_type": "execute_result"
    }
   ],
   "source": [
    "result.plot_corner(truths=truths)"
   ]
  },
  {
   "cell_type": "code",
   "execution_count": 25,
   "id": "b48b649a",
   "metadata": {},
   "outputs": [
    {
     "data": {
      "text/plain": [
       "{'chirp_mass': 1.2150360414642816}"
      ]
     },
     "execution_count": 25,
     "metadata": {},
     "output_type": "execute_result"
    }
   ],
   "source": [
    "truths"
   ]
  },
  {
   "cell_type": "code",
   "execution_count": null,
   "id": "5e51610c",
   "metadata": {},
   "outputs": [],
   "source": []
  }
 ],
 "metadata": {
  "kernelspec": {
   "display_name": "igwn-py310",
   "language": "python",
   "name": "python3"
  },
  "language_info": {
   "codemirror_mode": {
    "name": "ipython",
    "version": 3
   },
   "file_extension": ".py",
   "mimetype": "text/x-python",
   "name": "python",
   "nbconvert_exporter": "python",
   "pygments_lexer": "ipython3",
   "version": "3.10.16"
  }
 },
 "nbformat": 4,
 "nbformat_minor": 5
}
