{
 "cells": [
  {
   "cell_type": "markdown",
   "metadata": {
    "id": "aeUxtTpEfzbn"
   },
   "source": [
    "# Population Inference on GWTC-3\n",
    "\n",
    "Adapted from the example at [gwpopulation](https://github.com/ColmTalbot/gwpopulation)\n",
    "\n",
    "\n",
    "# Agenda\n",
    "1. Take all the BBH events in The thrid gravitational-wave transient catalog [GWTC-3](https://arxiv.org/abs/1811.12907)\n",
    "\n",
    "   This includes all compact binary coalescences observed during Advanced LIGO/Virgo's first three oberving runs.\n",
    "\n",
    "1. Define a population model for the mass distributions (primary mass, mass ratio)\n",
    "\n",
    "1. Carry out a hierarchical inference to infer the hyper-parameters of the mass model.\n",
    "\n",
    "\n",
    "\n",
    "# Tools\n",
    "\n",
    "1. `GWPopulation`. simple, modular, user-friendly, population inference. Mass, spin, redshift models defined here.\n",
    "1. Sampling and the language of [Bilby](https://git.ligo.org/lscsoft/bilby) ([arXiv:1811.02042](https://arxiv.org/abs/1811.02042)) \n",
    "\n",
    "# This exercise\n",
    "\n",
    "- Use a mass distribution in primary mass and mass ratio from Talbot & Thrane (2018) ([arXiv:1801:02699](https://arxiv.org/abs/1801.02699)).\n",
    "- Equivalent to the `PowerLaw + Peak` model used in LVK analyses without the low-mass smoothing for computational efficiency.\n",
    "\n",
    "\n",
    "## Also existant\n",
    "- [Implemented models](https://colmtalbot.github.io/gwpopulation/_autosummary/gwpopulation.models.html#module-gwpopulation.models).\n",
    "- Half-Gaussian + isotropic spin tilt distribution from Talbot & Thrane (2017) ([arXiv:1704.08370](https://arxiv.org/abs/1704.08370)).\n",
    "- Beta spin magnitude distribution from Wysocki+ (2018) ([arXiv:1805:06442](https://arxiv.org/abs/1805.06442)).\n",
    "- Each of these are also available with independent but identically distributed spins.\n",
    "- Redshift evolution model as in Fishbach+ (2018) ([arXiv:1805.10270](https://arxiv.org/abs/1805.10270)).\n",
    "- Can implement custom models."
   ]
  },
  {
   "cell_type": "markdown",
   "metadata": {},
   "source": [
    "# Setup\n",
    "\n",
    "## Google collab\n",
    "1. Choose a GPU-accelerated runtime (e.g. T4 GPU).\n",
    "\n",
    "\"runtime\"->\"change runtime type\"->\"Hardware accelerator = GPU\"\n"
   ]
  },
  {
   "cell_type": "markdown",
   "metadata": {},
   "source": [
    "### Install some needed packages\n",
    "\n",
    "All of the dependencies for this are integrated into `GWPopulation`.\n",
    "These include `Bilby` and `dynesty` for sampling."
   ]
  },
  {
   "cell_type": "code",
   "execution_count": null,
   "metadata": {},
   "outputs": [],
   "source": [
    "!pip install gwpopulation --quiet --progress-bar off"
   ]
  },
  {
   "cell_type": "code",
   "execution_count": null,
   "metadata": {},
   "outputs": [],
   "source": [
    "!gdown https://drive.google.com/uc?id=16gStLIjt65gWBkw-gNOVUqNbZ89q8CLF\n",
    "!gdown https://drive.google.com/uc?id=10pevUCM3V2-D-bROFEMAcTJsX_9RzeM6"
   ]
  },
  {
   "cell_type": "markdown",
   "metadata": {},
   "source": [
    "\n",
    "## Personal laptop\n",
    "\n",
    "1. Follow PC setup instructions\n",
    "1. Downliad the above files using the urls to your notebook directory"
   ]
  },
  {
   "cell_type": "markdown",
   "metadata": {
    "id": "TdiqeGZtHwRw"
   },
   "source": [
    "## Download data\n",
    "\n",
    "We need to download the data for the events and simulated \"injections\" used to characterize the detection sensitivity.\n",
    "\n",
    "### Event posteriors\n",
    "\n",
    "We're using the posteriors from the GWTC-3 data release in a pre-processed format.\n",
    "\n",
    "The file was produced by [gwpopulation-pipe](https://docs.ligo.org/ratesAndPopulations/gwpopulation_pipe) to reduce the many GB of posterior sample files to a single ~30Mb file.\n",
    "\n",
    "The choice of events in this file was not very careful and should only be considered qualitatively correct.\n",
    "\n",
    "The data file can be found [here](https://drive.google.com/drive/folders/1wyfR6sYvYVdBefF9_vrVTp0Btu03OlzL?usp=drive_link).\n",
    "The original data can be found at [zenodo:5546663](https://zenodo.org/records/5546663) and [zenodo:6513631](https://zenodo.org/records/6513631) along with citation information.\n",
    "\n",
    "### Sensitivity injections\n",
    "\n",
    "Again I have pre-processed the full injection set using `gwpopulation-pipe` to reduce the filesize.\n",
    "The original data is available at [zenodo:7890398](https://zenodo.org/records/7890398) along with citation information."
   ]
  },
  {
   "cell_type": "markdown",
   "metadata": {
    "id": "I1MQIoc_gvR-"
   },
   "source": [
    "## Imports\n",
    "\n",
    "Import the packages required for the script.\n",
    "We also set the backend for array operations to `jax` which allows us to take advantage of just-in-time (jit) compilation in addition to GPU-parallelisation when available."
   ]
  },
  {
   "cell_type": "code",
   "execution_count": null,
   "metadata": {
    "id": "mKC8rhSUDmtg"
   },
   "outputs": [],
   "source": [
    "import bilby as bb\n",
    "import gwpopulation as gwpop\n",
    "import jax\n",
    "import matplotlib.pyplot as plt\n",
    "import pandas as pd\n",
    "from bilby.core.prior import PriorDict, Uniform\n",
    "from gwpopulation.experimental.jax import JittedLikelihood, NonCachingModel\n",
    "import numpy as np\n",
    "\n",
    "gwpop.set_backend(\"jax\")\n",
    "\n",
    "xp = gwpop.utils.xp\n",
    "\n",
    "%matplotlib inline"
   ]
  },
  {
   "cell_type": "markdown",
   "metadata": {
    "id": "6MIE6_uMg4vw"
   },
   "source": [
    "## Load posteriors\n",
    "\n",
    "We remove two events from the file that shouldn't be there that have NS-like secondaries as we are just interested in BBHs for this demonstration."
   ]
  },
  {
   "cell_type": "code",
   "execution_count": null,
   "metadata": {
    "id": "1pAakjJ1DwrK"
   },
   "outputs": [],
   "source": [
    "posteriors = pd.read_pickle(\"gwtc-3-samples.pkl\")\n",
    "del posteriors[15]\n",
    "del posteriors[38]"
   ]
  },
  {
   "cell_type": "markdown",
   "metadata": {
    "id": "82GMaSlJhKm1"
   },
   "source": [
    "## Load injections\n",
    "\n",
    "Load the injections used to characterize the sensitivity of the gravitaitonal-wave survey."
   ]
  },
  {
   "cell_type": "code",
   "execution_count": null,
   "metadata": {
    "id": "IuHqDXFQE9Mw"
   },
   "outputs": [],
   "source": [
    "import dill\n",
    "\n",
    "with open(\"gwtc-3-injections.pkl\", \"rb\") as ff:\n",
    "    injections = dill.load(ff)"
   ]
  },
  {
   "cell_type": "markdown",
   "metadata": {
    "id": "I5FzBbnniQfl"
   },
   "source": [
    "## Define some models and the likelihood\n",
    "\n",
    "We need to define `Bilby` `Model` objects for the numerator and denominator independently as these cache some computations interally.\n",
    "\n",
    "We create a model that uses a cosmology fixed to the Planck 2015 values for flat Lambda CDM.\n",
    "\n",
    "The `HyperparameterLikelihood` marginalises over the local merger rate, with a uniform-in-log prior.\n",
    "The posterior for the merger rate can be recovered in post-processing.\n",
    "\n",
    "We provide:\n",
    "\n",
    "- `posteriors`: a list of `pandas` DataFrames.\n",
    "- `hyper_prior`: our population model, as defined above.\n",
    "- `selection_function`: anything which evaluates the selection function.\n",
    "\n",
    "We can also provide:\n",
    "\n",
    "- `conversion_function`: this converts between the parameters we sample in and those needed by the model, e.g., for sampling in the mean and variance of the beta distribution.\n",
    "- `max_samples`: the maximum number of samples to use from each posterior, this defaults to the length of the shortest posterior."
   ]
  },
  {
   "cell_type": "code",
   "execution_count": null,
   "metadata": {
    "id": "7IrVTnK5GbaZ"
   },
   "outputs": [],
   "source": [
    "model = NonCachingModel(\n",
    "    model_functions=[\n",
    "        gwpop.models.mass.two_component_primary_mass_ratio,\n",
    "        gwpop.models.spin.iid_spin,\n",
    "        gwpop.models.redshift.PowerLawRedshift(cosmo_model=\"Planck15\"),\n",
    "    ],\n",
    ")\n",
    "\n",
    "vt = gwpop.vt.ResamplingVT(model=model, data=injections, n_events=len(posteriors))\n",
    "\n",
    "likelihood = gwpop.hyperpe.HyperparameterLikelihood(\n",
    "    posteriors=posteriors,\n",
    "    hyper_prior=model,\n",
    "    selection_function=vt,\n",
    ")"
   ]
  },
  {
   "cell_type": "markdown",
   "metadata": {
    "id": "lQW_m3bNioih"
   },
   "source": [
    "## Define our prior\n",
    "\n",
    "The mass model has eight parameters that we vary that are described in arXiv:1801:02699. This model is sometimes referred to as \"PowerLaw+Peak\"\n",
    "\n",
    "The spin magnitude model is a `Beta` distribution with the usual parameterization, and the spin orientation model is a mixure of a uniform component and a truncated Gaussian that peaks at aligned spin. This combination is sometimes referred to as \"Default\".\n",
    "\n",
    "For redshift we use a model that looks like\n",
    "\n",
    "$$p(z) \\propto \\frac{d V_{c}}{dz} (1 + z)^{λ - 1}$$"
   ]
  },
  {
   "cell_type": "code",
   "execution_count": null,
   "metadata": {
    "id": "IRf7FFQDGda-"
   },
   "outputs": [],
   "source": [
    "priors = PriorDict()\n",
    "\n",
    "# mass\n",
    "priors[\"alpha\"] = Uniform(minimum=-2, maximum=4, latex_label=\"$\\\\alpha$\")\n",
    "priors[\"beta\"] = Uniform(minimum=-4, maximum=12, latex_label=\"$\\\\beta$\")\n",
    "priors[\"mmin\"] = Uniform(minimum=2, maximum=2.5, latex_label=\"$m_{\\\\min}$\")\n",
    "priors[\"mmax\"] = Uniform(minimum=80, maximum=100, latex_label=\"$m_{\\\\max}$\")\n",
    "priors[\"lam\"] = Uniform(minimum=0, maximum=1, latex_label=\"$\\\\lambda_{m}$\")\n",
    "priors[\"mpp\"] = Uniform(minimum=10, maximum=50, latex_label=\"$\\\\mu_{m}$\")\n",
    "priors[\"sigpp\"] = Uniform(minimum=1, maximum=10, latex_label=\"$\\\\sigma_{m}$\")\n",
    "priors[\"gaussian_mass_maximum\"] = 100\n",
    "\n",
    "# spin\n",
    "priors[\"amax\"] = 1\n",
    "priors[\"alpha_chi\"] = 3 #Uniform(minimum=1, maximum=6, latex_label=\"$\\\\alpha_{\\\\chi}$\")\n",
    "priors[\"beta_chi\"] = 4 # Uniform(minimum=1, maximum=6, latex_label=\"$\\\\beta_{\\\\chi}$\")\n",
    "priors[\"xi_spin\"] = 0.7# Uniform(minimum=0, maximum=1, latex_label=\"$\\\\xi$\")\n",
    "priors[\"sigma_spin\"] = 3# Uniform(minimum=0.3, maximum=4, latex_label=\"$\\\\sigma$\")\n",
    "\n",
    "\n",
    "priors[\"lamb\"] = 7 #niform(minimum=-1, maximum=10, latex_label=\"$\\\\lambda_{z}$\")"
   ]
  },
  {
   "cell_type": "markdown",
   "metadata": {
    "id": "ncci_peFisbm"
   },
   "source": [
    "## Just-in-time compile using JAX\n",
    "\n",
    "JIT compile the likelihood object before starting the sampler, using `gwpopulation.experimental.jax.JittedLikelihood` class."
   ]
  },
  {
   "cell_type": "code",
   "execution_count": null,
   "metadata": {
    "colab": {
     "base_uri": "https://localhost:8080/"
    },
    "id": "fgkofuRrGfX7",
    "outputId": "990ef6f2-e36f-4fe7-9b7d-95b07ce39441"
   },
   "outputs": [],
   "source": [
    "parameters = priors.sample()"
   ]
  },
  {
   "cell_type": "code",
   "execution_count": null,
   "metadata": {},
   "outputs": [],
   "source": [
    "parameters"
   ]
  },
  {
   "cell_type": "code",
   "execution_count": null,
   "metadata": {},
   "outputs": [],
   "source": [
    "red_pars = {'alpha': 0.3949072658140942,\n",
    "             'beta': -0.9347469576470306,\n",
    "             'mmin': 2.314923073404898,\n",
    "             'mmax': 99.30823964844406,\n",
    "             'lam': 0.551015290765012,\n",
    "             'mpp': 34.07791899483966,\n",
    "             'sigpp': 3.5147064761229663,\n",
    "             'gaussian_mass_maximum': 100.0,}\n",
    "\n",
    "\n",
    "dataset = {\"mass_1\" : np.arange(10, 100, 1/10),\n",
    "           \"mass_ratio\" : np.arange(0.1, 1, 1/10)}"
   ]
  },
  {
   "cell_type": "code",
   "execution_count": null,
   "metadata": {},
   "outputs": [],
   "source": [
    "#pdist = gwpop.models.mass.two_component_primary_mass_ratio(dataset, **red_pars)\n",
    "Marr = np.linspace(10, 100, 100)\n",
    "\n",
    "pdist = gwpop.models.mass.two_component_single(mass=Marr,\n",
    "                                               alpha=0.29,\n",
    "                                               mmin=2.31,\n",
    "                                               mmax=99.3,\n",
    "                                               lam=0.55,\n",
    "                                               mpp=34,\n",
    "                                               sigpp=3.5)"
   ]
  },
  {
   "cell_type": "code",
   "execution_count": null,
   "metadata": {},
   "outputs": [],
   "source": [
    "plt.plot(Marr, pdist)"
   ]
  },
  {
   "cell_type": "code",
   "execution_count": null,
   "metadata": {},
   "outputs": [],
   "source": [
    "\n",
    "likelihood.parameters.update(parameters)\n",
    "\n",
    "\n",
    "likelihood.log_likelihood_ratio()\n",
    "print(\"Usual evaluation\")\n",
    "%time print(likelihood.log_likelihood_ratio())\n",
    "\n",
    "\n",
    "jit_likelihood = JittedLikelihood(likelihood)\n",
    "jit_likelihood.parameters.update(parameters)\n",
    "\n",
    "print(\"JAX implementation\")\n",
    "print(\"1st eval\")\n",
    "%time print(jit_likelihood.log_likelihood_ratio())\n",
    "print(\" Subsequent evals\")\n",
    "%time print(jit_likelihood.log_likelihood_ratio())"
   ]
  },
  {
   "cell_type": "markdown",
   "metadata": {
    "id": "fX0FoqX0ixo0"
   },
   "source": [
    "## Run the sampler\n",
    "\n",
    "We'll use the sampler `dynesty` and use a small number of live points to reduce the runtime (total runtime should be approximately 5 minutes on T4 GPUs via Google colab).\n",
    "The settings here may not give publication quality results, a convergence test should be performed before making strong quantitative statements.\n",
    "\n",
    "`bilby` times a single likelihood evaluation before beginning the run, however, this isn't well defined with JAX.\n",
    "\n",
    "**Note:** sometimes this finds a high likelihood mode, likely due to [breakdowns in the approximation](https://arxiv.org/abs/2304.06138) used to estimate the likelihood. If you see `dlogz > -190`, you should interrupt the execution and restart."
   ]
  },
  {
   "cell_type": "code",
   "execution_count": null,
   "metadata": {
    "colab": {
     "base_uri": "https://localhost:8080/",
     "height": 763,
     "referenced_widgets": [
      "f301c06678c64a8baa6c68471f3c1b0b",
      "75b24e49be914fdc95b18d1ab02ffbbb",
      "a29a8eebf19a4e8fb6fea7237fc36205",
      "edbc0b93226a466dae89cb9161df791a",
      "1a3afc9c38cd414d80412fc4631eefb9",
      "499aadfa6bb943608e8e813c36e1028e",
      "ddaa2c6a652e40a0b6fef99f2b35c85c",
      "3334f0e9517c41fead74795f5c19531e",
      "cfa1cbe417564744ad94bf86d6d44f66",
      "be29267ae6024e2c8e82f3c0f7ea4043",
      "1707cba22e1e4ddc967a4d8a9e41075a"
     ]
    },
    "id": "lHB2loW6Ghx-",
    "outputId": "ceba1e1e-3be2-4195-8789-350ce0de9250"
   },
   "outputs": [],
   "source": [
    "result = bb.run_sampler(\n",
    "    likelihood=jit_likelihood,\n",
    "    priors=priors,\n",
    "    sampler=\"dynesty\",\n",
    "    nlive=500,\n",
    "    sample=\"acceptance-walk\",\n",
    "    naccept=5,\n",
    "    save=\"hdf5\",\n",
    "    outdir=\"hierarchical\",\n",
    "    label=\"mass_500\"\n",
    ")"
   ]
  },
  {
   "cell_type": "markdown",
   "metadata": {
    "id": "4WeziuZoi7t_"
   },
   "source": [
    "## Plot some posteriors\n",
    "\n",
    "We can look at the posteriors on some of the parameters, here the cosmology parameters and the location of the mass peak and the redshift evolution.\n",
    "\n",
    "We see that the value of the Hubble constant is strongly correlated with the location of the peak in the mass distribution as has been noted elsewhere.\n",
    "\n",
    "We also include the values of the cosmology parameters reported in the `Planck15` cosmology for reference."
   ]
  },
  {
   "cell_type": "code",
   "execution_count": null,
   "metadata": {},
   "outputs": [],
   "source": [
    "result.posterior"
   ]
  },
  {
   "cell_type": "code",
   "execution_count": null,
   "metadata": {},
   "outputs": [],
   "source": [
    "result.plot_marginals()"
   ]
  },
  {
   "cell_type": "code",
   "execution_count": null,
   "metadata": {
    "colab": {
     "base_uri": "https://localhost:8080/",
     "height": 1000
    },
    "id": "vIHkO4UdHyMK",
    "outputId": "3792db0e-d7fb-44cd-f91a-05826c9e9bb4"
   },
   "outputs": [],
   "source": [
    "_ = result.plot_corner(save=False, parameters=[\"alpha\", \"beta\", \"mmin\", \"mmax\", \"lam\", \"mpp\", \"sigpp\"])"
   ]
  }
 ],
 "metadata": {
  "accelerator": "GPU",
  "colab": {
   "authorship_tag": "ABX9TyPzsqEMdW3RhpV9prp/HpM3",
   "gpuType": "T4",
   "include_colab_link": true,
   "provenance": []
  },
  "kernelspec": {
   "display_name": "gwpop",
   "language": "python",
   "name": "python3"
  },
  "language_info": {
   "codemirror_mode": {
    "name": "ipython",
    "version": 3
   },
   "file_extension": ".py",
   "mimetype": "text/x-python",
   "name": "python",
   "nbconvert_exporter": "python",
   "pygments_lexer": "ipython3",
   "version": "3.13.2"
  },
  "widgets": {
   "application/vnd.jupyter.widget-state+json": {
    "1707cba22e1e4ddc967a4d8a9e41075a": {
     "model_module": "@jupyter-widgets/controls",
     "model_module_version": "1.5.0",
     "model_name": "DescriptionStyleModel",
     "state": {
      "_model_module": "@jupyter-widgets/controls",
      "_model_module_version": "1.5.0",
      "_model_name": "DescriptionStyleModel",
      "_view_count": null,
      "_view_module": "@jupyter-widgets/base",
      "_view_module_version": "1.2.0",
      "_view_name": "StyleView",
      "description_width": ""
     }
    },
    "1a3afc9c38cd414d80412fc4631eefb9": {
     "model_module": "@jupyter-widgets/base",
     "model_module_version": "1.2.0",
     "model_name": "LayoutModel",
     "state": {
      "_model_module": "@jupyter-widgets/base",
      "_model_module_version": "1.2.0",
      "_model_name": "LayoutModel",
      "_view_count": null,
      "_view_module": "@jupyter-widgets/base",
      "_view_module_version": "1.2.0",
      "_view_name": "LayoutView",
      "align_content": null,
      "align_items": null,
      "align_self": null,
      "border": null,
      "bottom": null,
      "display": null,
      "flex": null,
      "flex_flow": null,
      "grid_area": null,
      "grid_auto_columns": null,
      "grid_auto_flow": null,
      "grid_auto_rows": null,
      "grid_column": null,
      "grid_gap": null,
      "grid_row": null,
      "grid_template_areas": null,
      "grid_template_columns": null,
      "grid_template_rows": null,
      "height": null,
      "justify_content": null,
      "justify_items": null,
      "left": null,
      "margin": null,
      "max_height": null,
      "max_width": null,
      "min_height": null,
      "min_width": null,
      "object_fit": null,
      "object_position": null,
      "order": null,
      "overflow": null,
      "overflow_x": null,
      "overflow_y": null,
      "padding": null,
      "right": null,
      "top": null,
      "visibility": null,
      "width": null
     }
    },
    "3334f0e9517c41fead74795f5c19531e": {
     "model_module": "@jupyter-widgets/base",
     "model_module_version": "1.2.0",
     "model_name": "LayoutModel",
     "state": {
      "_model_module": "@jupyter-widgets/base",
      "_model_module_version": "1.2.0",
      "_model_name": "LayoutModel",
      "_view_count": null,
      "_view_module": "@jupyter-widgets/base",
      "_view_module_version": "1.2.0",
      "_view_name": "LayoutView",
      "align_content": null,
      "align_items": null,
      "align_self": null,
      "border": null,
      "bottom": null,
      "display": null,
      "flex": null,
      "flex_flow": null,
      "grid_area": null,
      "grid_auto_columns": null,
      "grid_auto_flow": null,
      "grid_auto_rows": null,
      "grid_column": null,
      "grid_gap": null,
      "grid_row": null,
      "grid_template_areas": null,
      "grid_template_columns": null,
      "grid_template_rows": null,
      "height": null,
      "justify_content": null,
      "justify_items": null,
      "left": null,
      "margin": null,
      "max_height": null,
      "max_width": null,
      "min_height": null,
      "min_width": null,
      "object_fit": null,
      "object_position": null,
      "order": null,
      "overflow": null,
      "overflow_x": null,
      "overflow_y": null,
      "padding": null,
      "right": null,
      "top": null,
      "visibility": null,
      "width": "20px"
     }
    },
    "499aadfa6bb943608e8e813c36e1028e": {
     "model_module": "@jupyter-widgets/base",
     "model_module_version": "1.2.0",
     "model_name": "LayoutModel",
     "state": {
      "_model_module": "@jupyter-widgets/base",
      "_model_module_version": "1.2.0",
      "_model_name": "LayoutModel",
      "_view_count": null,
      "_view_module": "@jupyter-widgets/base",
      "_view_module_version": "1.2.0",
      "_view_name": "LayoutView",
      "align_content": null,
      "align_items": null,
      "align_self": null,
      "border": null,
      "bottom": null,
      "display": null,
      "flex": null,
      "flex_flow": null,
      "grid_area": null,
      "grid_auto_columns": null,
      "grid_auto_flow": null,
      "grid_auto_rows": null,
      "grid_column": null,
      "grid_gap": null,
      "grid_row": null,
      "grid_template_areas": null,
      "grid_template_columns": null,
      "grid_template_rows": null,
      "height": null,
      "justify_content": null,
      "justify_items": null,
      "left": null,
      "margin": null,
      "max_height": null,
      "max_width": null,
      "min_height": null,
      "min_width": null,
      "object_fit": null,
      "object_position": null,
      "order": null,
      "overflow": null,
      "overflow_x": null,
      "overflow_y": null,
      "padding": null,
      "right": null,
      "top": null,
      "visibility": null,
      "width": null
     }
    },
    "75b24e49be914fdc95b18d1ab02ffbbb": {
     "model_module": "@jupyter-widgets/controls",
     "model_module_version": "1.5.0",
     "model_name": "HTMLModel",
     "state": {
      "_dom_classes": [],
      "_model_module": "@jupyter-widgets/controls",
      "_model_module_version": "1.5.0",
      "_model_name": "HTMLModel",
      "_view_count": null,
      "_view_module": "@jupyter-widgets/controls",
      "_view_module_version": "1.5.0",
      "_view_name": "HTMLView",
      "description": "",
      "description_tooltip": null,
      "layout": "IPY_MODEL_499aadfa6bb943608e8e813c36e1028e",
      "placeholder": "​",
      "style": "IPY_MODEL_ddaa2c6a652e40a0b6fef99f2b35c85c",
      "value": ""
     }
    },
    "a29a8eebf19a4e8fb6fea7237fc36205": {
     "model_module": "@jupyter-widgets/controls",
     "model_module_version": "1.5.0",
     "model_name": "FloatProgressModel",
     "state": {
      "_dom_classes": [],
      "_model_module": "@jupyter-widgets/controls",
      "_model_module_version": "1.5.0",
      "_model_name": "FloatProgressModel",
      "_view_count": null,
      "_view_module": "@jupyter-widgets/controls",
      "_view_module_version": "1.5.0",
      "_view_name": "ProgressView",
      "bar_style": "success",
      "description": "",
      "description_tooltip": null,
      "layout": "IPY_MODEL_3334f0e9517c41fead74795f5c19531e",
      "max": 1,
      "min": 0,
      "orientation": "horizontal",
      "style": "IPY_MODEL_cfa1cbe417564744ad94bf86d6d44f66",
      "value": 1
     }
    },
    "be29267ae6024e2c8e82f3c0f7ea4043": {
     "model_module": "@jupyter-widgets/base",
     "model_module_version": "1.2.0",
     "model_name": "LayoutModel",
     "state": {
      "_model_module": "@jupyter-widgets/base",
      "_model_module_version": "1.2.0",
      "_model_name": "LayoutModel",
      "_view_count": null,
      "_view_module": "@jupyter-widgets/base",
      "_view_module_version": "1.2.0",
      "_view_name": "LayoutView",
      "align_content": null,
      "align_items": null,
      "align_self": null,
      "border": null,
      "bottom": null,
      "display": null,
      "flex": null,
      "flex_flow": null,
      "grid_area": null,
      "grid_auto_columns": null,
      "grid_auto_flow": null,
      "grid_auto_rows": null,
      "grid_column": null,
      "grid_gap": null,
      "grid_row": null,
      "grid_template_areas": null,
      "grid_template_columns": null,
      "grid_template_rows": null,
      "height": null,
      "justify_content": null,
      "justify_items": null,
      "left": null,
      "margin": null,
      "max_height": null,
      "max_width": null,
      "min_height": null,
      "min_width": null,
      "object_fit": null,
      "object_position": null,
      "order": null,
      "overflow": null,
      "overflow_x": null,
      "overflow_y": null,
      "padding": null,
      "right": null,
      "top": null,
      "visibility": null,
      "width": null
     }
    },
    "cfa1cbe417564744ad94bf86d6d44f66": {
     "model_module": "@jupyter-widgets/controls",
     "model_module_version": "1.5.0",
     "model_name": "ProgressStyleModel",
     "state": {
      "_model_module": "@jupyter-widgets/controls",
      "_model_module_version": "1.5.0",
      "_model_name": "ProgressStyleModel",
      "_view_count": null,
      "_view_module": "@jupyter-widgets/base",
      "_view_module_version": "1.2.0",
      "_view_name": "StyleView",
      "bar_color": null,
      "description_width": ""
     }
    },
    "ddaa2c6a652e40a0b6fef99f2b35c85c": {
     "model_module": "@jupyter-widgets/controls",
     "model_module_version": "1.5.0",
     "model_name": "DescriptionStyleModel",
     "state": {
      "_model_module": "@jupyter-widgets/controls",
      "_model_module_version": "1.5.0",
      "_model_name": "DescriptionStyleModel",
      "_view_count": null,
      "_view_module": "@jupyter-widgets/base",
      "_view_module_version": "1.2.0",
      "_view_name": "StyleView",
      "description_width": ""
     }
    },
    "edbc0b93226a466dae89cb9161df791a": {
     "model_module": "@jupyter-widgets/controls",
     "model_module_version": "1.5.0",
     "model_name": "HTMLModel",
     "state": {
      "_dom_classes": [],
      "_model_module": "@jupyter-widgets/controls",
      "_model_module_version": "1.5.0",
      "_model_name": "HTMLModel",
      "_view_count": null,
      "_view_module": "@jupyter-widgets/controls",
      "_view_module_version": "1.5.0",
      "_view_name": "HTMLView",
      "description": "",
      "description_tooltip": null,
      "layout": "IPY_MODEL_be29267ae6024e2c8e82f3c0f7ea4043",
      "placeholder": "​",
      "style": "IPY_MODEL_1707cba22e1e4ddc967a4d8a9e41075a",
      "value": " 2053/? [04:36&lt;00:00,  7.96it/s, bound:48 nc:  1 ncall:3.2e+04 eff:6.7% logz-ratio=-199.64+/-0.36 dlogz:0.001&gt;0.1]"
     }
    },
    "f301c06678c64a8baa6c68471f3c1b0b": {
     "model_module": "@jupyter-widgets/controls",
     "model_module_version": "1.5.0",
     "model_name": "HBoxModel",
     "state": {
      "_dom_classes": [],
      "_model_module": "@jupyter-widgets/controls",
      "_model_module_version": "1.5.0",
      "_model_name": "HBoxModel",
      "_view_count": null,
      "_view_module": "@jupyter-widgets/controls",
      "_view_module_version": "1.5.0",
      "_view_name": "HBoxView",
      "box_style": "",
      "children": [
       "IPY_MODEL_75b24e49be914fdc95b18d1ab02ffbbb",
       "IPY_MODEL_a29a8eebf19a4e8fb6fea7237fc36205",
       "IPY_MODEL_edbc0b93226a466dae89cb9161df791a"
      ],
      "layout": "IPY_MODEL_1a3afc9c38cd414d80412fc4631eefb9"
     }
    }
   }
  }
 },
 "nbformat": 4,
 "nbformat_minor": 0
}
