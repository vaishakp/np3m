{
 "cells": [
  {
   "cell_type": "markdown",
   "id": "9eb10a61",
   "metadata": {},
   "source": [
    "## Collab setup"
   ]
  },
  {
   "cell_type": "code",
   "execution_count": null,
   "id": "cbf7df42",
   "metadata": {},
   "outputs": [],
   "source": [
    "!pip install pycbc lalsuite bilby nestle matplotlib"
   ]
  },
  {
   "cell_type": "markdown",
   "id": "6f21bc1e",
   "metadata": {},
   "source": [
    "## PC setup\n",
    "\n",
    "### Using anaconda/miniconda\n",
    "`conda env create -f environment.yaml`\n",
    "\n",
    "`conda activate np3m`\n",
    "\n",
    "OR\n",
    "\n",
    "### Using pip\n",
    "Create a python virtual environment and \n",
    "`pip install -r requirements.txt`"
   ]
  },
  {
   "cell_type": "markdown",
   "id": "96011f15",
   "metadata": {},
   "source": [
    "# Nested sampling demonstration"
   ]
  },
  {
   "cell_type": "code",
   "execution_count": null,
   "id": "bc8b9dd7",
   "metadata": {},
   "outputs": [],
   "source": [
    "import numpy as np\n",
    "import dynesty\n",
    "import matplotlib.pyplot as plt\n",
    "\n",
    "import numpy as np\n",
    "import matplotlib.pyplot as plt\n",
    "from scipy.stats import multivariate_normal\n",
    "import dynesty\n",
    "from dynesty import DynamicNestedSampler"
   ]
  },
  {
   "cell_type": "markdown",
   "id": "a004c7e4",
   "metadata": {},
   "source": [
    "## Define a distribution to sample"
   ]
  },
  {
   "cell_type": "code",
   "execution_count": null,
   "id": "0751e86e",
   "metadata": {},
   "outputs": [],
   "source": [
    "\n",
    "# Define a class to represent a 2D Gaussian component\n",
    "class Gaussian2D:\n",
    "    def __init__(self, mean, cov, weight=1.0):\n",
    "        \"\"\"\n",
    "        Initialize a 2D Gaussian component.\n",
    "\n",
    "        Args:\n",
    "            mean (list or numpy.array): The [x, y] coordinates of the Gaussian's center.\n",
    "            cov (list or numpy.array): The 2x2 covariance matrix defining the shape and orientation.\n",
    "                                       Example: [[sigma_x^2, rho*sigma_x*sigma_y],\n",
    "                                                 [rho*sigma_x*sigma_y, sigma_y^2]]\n",
    "            weight (float): The weight of this Gaussian in the mixture model.\n",
    "        \"\"\"\n",
    "        self.mean = np.array(mean)\n",
    "        self.cov = np.array(cov)\n",
    "        self.weight = weight\n",
    "        # Create a multivariate normal random variable object for PDF calculation\n",
    "        self.rv = multivariate_normal(mean=self.mean, cov=self.cov)\n",
    "\n",
    "    def pdf(self, amp, x, y):\n",
    "        \"\"\"\n",
    "        Calculate the probability density function value for a given (x, y) grid.\n",
    "\n",
    "        Args:\n",
    "            x (numpy.array): Meshgrid X coordinates.\n",
    "            y (numpy.array): Meshgrid Y coordinates.\n",
    "\n",
    "        Returns:\n",
    "            numpy.array: PDF values for each point in the grid, scaled by the weight.\n",
    "        \"\"\"\n",
    "        # Create a 3D array where the last dimension holds [x, y] pairs for multivariate_normal\n",
    "        pos = np.empty(x.shape + (2,))\n",
    "        pos[:, :, 0] = x\n",
    "        pos[:, :, 1] = y\n",
    "        return amp*self.rv.pdf(pos) * self.weight\n",
    "    \n",
    "    def pdf_val(self, amp, x, y):\n",
    "        \"\"\"\n",
    "        Calculate the probability density function value for a given (x, y) grid.\n",
    "\n",
    "        Args:\n",
    "            x (numpy.array): Meshgrid X coordinates.\n",
    "            y (numpy.array): Meshgrid Y coordinates.\n",
    "\n",
    "        Returns:\n",
    "            numpy.array: PDF values for each point in the grid, scaled by the weight.\n",
    "        \"\"\"\n",
    "        # Create a 3D array where the last dimension holds [x, y] pairs for multivariate_normal\n",
    "        pos = np.empty((2,))\n",
    "        pos[0] = x\n",
    "        pos[1] = y\n",
    "        return amp*self.rv.pdf(pos) * self.weight\n",
    "    \n",
    "\n",
    "def create_distribution(x_min, x_max, y_min, y_max, num_points=200):\n",
    "    \"\"\"\n",
    "    Create a 2D probability distribution function resembling the Indiana University logo ('IU').\n",
    "    This is a conceptual approximation; precise shapes require more detailed parameter tuning.\n",
    "\n",
    "    Args:\n",
    "        x_min (float): Minimum x-coordinate for the grid.\n",
    "        x_max (float): Maximum x-coordinate for the grid.\n",
    "        y_min (float): Minimum y-coordinate for the grid.\n",
    "        y_max (float): Maximum y-coordinate for the grid.\n",
    "        num_points (int): Number of points along each axis to create the grid.\n",
    "\n",
    "    Returns:\n",
    "        tuple: (X, Y, Z) meshgrid arrays where Z contains the PDF values.\n",
    "    \"\"\"\n",
    "    x = np.linspace(x_min, x_max, num_points)\n",
    "    y = np.linspace(y_min, y_max, num_points)\n",
    "    X, Y = np.meshgrid(x, y)\n",
    "    Z = np.zeros_like(X) # Initialize the Z (PDF) array with zeros\n",
    "\n",
    "    # Define Gaussian components for each part of the IU logo\n",
    "    gaussians = [\n",
    "        # --- Components for 'I' ---\n",
    "        # Main vertical bar of I\n",
    "        Gaussian2D(mean=[.0, 0], cov=[[0.08, 0], [0, 8]], weight=1.0),\n",
    "        #Gaussian2D(mean=[.0, -1], cov=[[0.08, 0], [0, 1.5]], weight=1.0),\n",
    "        # Top horizontal bar of I\n",
    "        Gaussian2D(mean=[0, 5.0], cov=[[0.6, 0], [0, 0.08]], weight=1.0),\n",
    "        # Bottom horizontal bar of I\n",
    "        Gaussian2D(mean=[-0, -5.0], cov=[[0.6, 0], [0, 0.08]], weight=1.0),\n",
    "\n",
    "        # --- Components for 'U' ---\n",
    "        # Left vertical bar of U\n",
    "        Gaussian2D(mean=[-1.0, 0.75+0.5], cov=[[0.08, 0], [0, 1.0]], weight=1.0),\n",
    "        # Right vertical bar of U\n",
    "        Gaussian2D(mean=[1.0, 0.75+0.5], cov=[[0.08, 0], [0, 1.0]], weight=1.0),\n",
    "        # Bottom curve of U (multiple smaller Gaussians for a smoother curve)\n",
    "        Gaussian2D(mean=[-1, 0.75-0.9], cov=[[0.15, 0.05], [0.05, 0.1]], weight=0.8), # Left part of curve\n",
    "        Gaussian2D(mean=[0, 0.75-1.0], cov=[[0.2, 0], [0, 0.1]], weight=1.0),    # Middle part of curve\n",
    "        Gaussian2D(mean=[1, 0.75-0.9], cov=[[0.15, -0.05], [-0.05, 0.1]], weight=0.8), # Right part of curve\n",
    "    ]\n",
    "\n",
    "    ampI = [20, 1, 1, 8, 8, 4, 4, 4]\n",
    "    # Sum the PDF contributions from all Gaussian components\n",
    "    for ind, g in enumerate(gaussians):\n",
    "        Z += g.pdf(ampI[ind], X, Y)\n",
    "\n",
    "    # Normalize the total PDF (optional but good practice for a probability distribution)\n",
    "    # The integral of the PDF over the entire space should be 1.\n",
    "    # This normalization is an approximation as we're integrating over a finite grid.\n",
    "    #Z /= np.sum(Z) * ((x_max - x_min) / num_points) * ((y_max - y_min) / num_points)\n",
    "\n",
    "    return X, Y, Z\n",
    "\n",
    "\n",
    "\n",
    "def eval_value(pars):\n",
    "    \"\"\"\n",
    "    Creates a 2D probability distribution function resembling the Indiana University logo ('IU').\n",
    "    This is a conceptual approximation; precise shapes require more detailed parameter tuning.\n",
    "\n",
    "    Args:\n",
    "        x_min (float): Minimum x-coordinate for the grid.\n",
    "        x_max (float): Maximum x-coordinate for the grid.\n",
    "        y_min (float): Minimum y-coordinate for the grid.\n",
    "        y_max (float): Maximum y-coordinate for the grid.\n",
    "        num_points (int): Number of points along each axis to create the grid.\n",
    "\n",
    "    Returns:\n",
    "        tuple: (X, Y, Z) meshgrid arrays where Z contains the PDF values.\n",
    "    \"\"\"\n",
    "    x, y = pars\n",
    "    #x = np.linspace(x_min, x_max, num_points)\n",
    "    #y = np.linspace(y_min, y_max, num_points)\n",
    "    #X, Y = np.meshgrid(x, y)\n",
    "    #Z = np.zeros_like(X) # Initialize the Z (PDF) array with zeros\n",
    "    Z = 0\n",
    "    # Define Gaussian components for each part of the IU logo\n",
    "    gaussians = [\n",
    "        # --- Components for 'I' ---\n",
    "        # Main vertical bar of I\n",
    "        Gaussian2D(mean=[.0, 0], cov=[[0.08, 0], [0, 8]], weight=1.0),\n",
    "        #Gaussian2D(mean=[.0, -1], cov=[[0.08, 0], [0, 1.5]], weight=1.0),\n",
    "        # Top horizontal bar of I\n",
    "        Gaussian2D(mean=[0, 5.0], cov=[[0.6, 0], [0, 0.08]], weight=1.0),\n",
    "        # Bottom horizontal bar of I\n",
    "        Gaussian2D(mean=[-0, -5.0], cov=[[0.6, 0], [0, 0.08]], weight=1.0),\n",
    "\n",
    "        # --- Components for 'U' ---\n",
    "        # Left vertical bar of U\n",
    "        Gaussian2D(mean=[-1.0, 0.75+0.5], cov=[[0.08, 0], [0, 1.0]], weight=1.0),\n",
    "        # Right vertical bar of U\n",
    "        Gaussian2D(mean=[1.0, 0.75+0.5], cov=[[0.08, 0], [0, 1.0]], weight=1.0),\n",
    "        # Bottom curve of U (multiple smaller Gaussians for a smoother curve)\n",
    "        Gaussian2D(mean=[-1, 0.75-0.9], cov=[[0.15, 0.05], [0.05, 0.1]], weight=0.8), # Left part of curve\n",
    "        Gaussian2D(mean=[0, 0.75-1.0], cov=[[0.2, 0], [0, 0.1]], weight=1.0),    # Middle part of curve\n",
    "        Gaussian2D(mean=[1, 0.75-0.9], cov=[[0.15, -0.05], [-0.05, 0.1]], weight=0.8), # Right part of curve\n",
    "    ]\n",
    "\n",
    "    ampI = [20, 1, 1, 8, 8, 4, 4, 4]\n",
    "    # Sum the PDF contributions from all Gaussian components\n",
    "    for ind, g in enumerate(gaussians):\n",
    "        Z += g.pdf_val(ampI[ind], x, y)\n",
    "\n",
    "    return Z"
   ]
  },
  {
   "cell_type": "markdown",
   "id": "e47cd4ce",
   "metadata": {},
   "source": [
    "### Visualize"
   ]
  },
  {
   "cell_type": "code",
   "execution_count": null,
   "id": "77dee060",
   "metadata": {},
   "outputs": [],
   "source": [
    "\n",
    "# --- Plotting Setup ---\n",
    "# Define the bounds of the plotting area to fit the IU logo\n",
    "x_min, x_max = -3.5, 3.5\n",
    "y_min, y_max = -1.5, 1.5\n",
    "num_points = 300 # Increased resolution for better detail on the logo\n",
    "\n",
    "# Create the distribution data\n",
    "X, Y, Z = create_distribution(x_min, x_max, y_min, y_max, num_points)\n",
    "\n",
    "\n",
    "Zv = eval_value([4, 5])\n",
    "\n",
    "\n",
    "# --- Plotting the Contour (Top-Down View) ---\n",
    "#plt.figure(figsize=(10, 6)) # Adjusted figure size\n",
    "#plt.contourf(X, Y, Z, levels=50, cmap='Reds') # Using 'Reds' colormap to match IU colors\n",
    "#plt.colorbar(label='Probability Density')\n",
    "#plt.title('2D Probability Distribution Resembling Indiana University Logo (Contour Plot)')\n",
    "#plt.xlabel('X-axis')\n",
    "#plt.ylabel('Y-axis')\n",
    "##plt.grid(True, linestyle=':', alpha=0.6)\n",
    "#plt.gca().set_aspect('equal', adjustable='box') # Maintain aspect ratio\n",
    "#plt.show()\n",
    "\n",
    "# --- Plotting a 3D Surface (Optional Perspective) ---\n",
    "fig = plt.figure(figsize=(10, 8))\n",
    "ax = fig.add_subplot(111, projection='3d')\n",
    "ax.plot_surface(X, Y, Z, cmap='Reds', edgecolor='none', alpha=0.8)\n",
    "ax.set_title('3D View of Indiana University Logo Distribution')\n",
    "ax.set_xlabel('X-axis')\n",
    "ax.set_ylabel('Y-axis')\n",
    "ax.set_zlabel('Probability Density')\n",
    "ax.view_init(elev=40, azim=-70) # Adjusted camera angle for better view of IU\n",
    "plt.show()\n"
   ]
  },
  {
   "cell_type": "markdown",
   "id": "51a97c22",
   "metadata": {},
   "source": [
    "## Priors"
   ]
  },
  {
   "cell_type": "code",
   "execution_count": null,
   "id": "2c094780",
   "metadata": {},
   "outputs": [],
   "source": [
    "def prior(parameters):\n",
    "    ''' Mapping the unit cube to physical prior space '''\n",
    "    \n",
    "    X, Y = parameters\n",
    "\n",
    "    X1 = X*10 -5\n",
    "    Y1 = Y*10 -5\n",
    "    return [X1, Y1]"
   ]
  },
  {
   "cell_type": "markdown",
   "id": "12edc4ad",
   "metadata": {},
   "source": [
    "## Sampler setup"
   ]
  },
  {
   "cell_type": "code",
   "execution_count": null,
   "id": "b7537bc6",
   "metadata": {},
   "outputs": [],
   "source": [
    "dasmpler = DynamicNestedSampler(loglikelihood=eval_value,\n",
    "                                prior_transform=prior,\n",
    "                                ndim=2,\n",
    "                                bound='multi')"
   ]
  },
  {
   "cell_type": "markdown",
   "id": "008bf886",
   "metadata": {},
   "source": [
    "## Run the sampler"
   ]
  },
  {
   "cell_type": "code",
   "execution_count": null,
   "id": "0690df65",
   "metadata": {},
   "outputs": [],
   "source": [
    "dsampler.run_nested()"
   ]
  },
  {
   "cell_type": "code",
   "execution_count": null,
   "id": "37515b7d",
   "metadata": {},
   "outputs": [],
   "source": [
    "dsampler.results"
   ]
  },
  {
   "cell_type": "code",
   "execution_count": null,
   "id": "62ac3b4d",
   "metadata": {},
   "outputs": [],
   "source": [
    "dsampler.results.samples.shape"
   ]
  },
  {
   "cell_type": "code",
   "execution_count": null,
   "id": "f0b2cc04",
   "metadata": {},
   "outputs": [],
   "source": [
    "\n",
    "dsampler.results"
   ]
  },
  {
   "cell_type": "code",
   "execution_count": null,
   "id": "c544fe36",
   "metadata": {},
   "outputs": [],
   "source": [
    "fig, ax = plt.subplots(figsize=(10, 10))\n",
    "ax.set_xticks([])\n",
    "ax.set_yticks([])\n",
    "ax.set_xlim(-5, 5)\n",
    "ax.set_ylim(-5, 5)\n",
    "\n",
    "import os\n",
    "if not os.path.isdir('figs'):\n",
    "    os.mkdir('figs')\n",
    "    \n",
    "for index in np.arange(0, dsampler.results.niter, 10):\n",
    "    \n",
    "    lind = int(index/10)\n",
    "    ax.scatter(dsampler.results.samples[:index, 0], dsampler.results.samples[:index, 1], s=2, c='b')   \n",
    "    lind_str = str(lind)\n",
    "    lstr = len(lind_str)\n",
    "\n",
    "    nz = 5 - lstr\n",
    "\n",
    "    lstr = nz*'0' + lind_str\n",
    "    #logz_i = round(dsampler.results.logz[index], 3)\n",
    "    logz_i = dsampler.results.logz[index]\n",
    "    pm = dsampler.results.logvol[index] #np.exp(-(index/500))\n",
    "    ax.set_title(f\"logz = {logz_i:.2e},  Log X: {pm:.2e}\")\n",
    "    fig.savefig(f\"figs/{lstr}.png\")\n",
    "    #plt.close()\n",
    "\n",
    "plt.close()\n"
   ]
  }
 ],
 "metadata": {
  "kernelspec": {
   "display_name": "igwn-py310",
   "language": "python",
   "name": "python3"
  },
  "language_info": {
   "codemirror_mode": {
    "name": "ipython",
    "version": 3
   },
   "file_extension": ".py",
   "mimetype": "text/x-python",
   "name": "python",
   "nbconvert_exporter": "python",
   "pygments_lexer": "ipython3",
   "version": "3.10.16"
  }
 },
 "nbformat": 4,
 "nbformat_minor": 5
}
