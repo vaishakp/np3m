{
 "cells": [
  {
   "cell_type": "markdown",
   "id": "b2c2bbe6",
   "metadata": {
    "vscode": {
     "languageId": "plaintext"
    }
   },
   "source": [
    "# Bilby 4 param BBH tutorial\n",
    "\n",
    "Tutorial to demonstrate running parameter estimation on a reduced parameter\n",
    "space for an injected binary black hole signal.\n",
    "\n",
    "\n",
    "\n",
    "\n",
    "\n",
    "## Fixed parameters\n",
    "\n",
    "1. Extrinsic\n",
    "    1. Polarization angle `psi`, \n",
    "    1. Sky location `ra`, `dec`,\n",
    "    1. Signal's arrival time at geocenter `geocent_time`,\n",
    "    1. Orbital / coalescence `phase`,\n",
    "1. Intrinsic\n",
    "    1. Spin components `a_1`, `a_2`, `tilt_1`, `tilt_2`, `phi_12`, `phi_jl`\n",
    "\n",
    "##  To sample over\n",
    "1. Intrinsic:\n",
    "    1. Component masses `m_1`, `m_2` in terms of `mass_ratio`, `chirp_mass`\n",
    "    \n",
    "    \\begin{equation}\n",
    "     q = \\dfrac{m_1}{m_2} \\qquad,\\,\\, \\mathcal{M} = \\dfrac{(m_1 * m_2)^{3/5}}{(m_1 + m_2)^{1/5}}\n",
    "    \\end{equation}\n",
    "\n",
    "1. Extrinsic:\n",
    "    1. Luminosity distance `luminosity_distance`\n",
    "    1. Inclination angle `theta_jn`\n",
    "\n",
    "\n",
    "## Priors\n",
    "1. Uniform in (component masses)\n",
    "1. Uniform in comoving volume prior on luminosity distance (100Mpc, 5Gpc)\n",
    "1. \n",
    "\n",
    "\n",
    "## Available samplers\n",
    "\n",
    "https://bilby-dev.github.io/bilby/samplers.html"
   ]
  },
  {
   "cell_type": "markdown",
   "id": "b9f26468",
   "metadata": {},
   "source": [
    "## Collab setup"
   ]
  },
  {
   "cell_type": "code",
   "execution_count": null,
   "id": "03d2d085",
   "metadata": {},
   "outputs": [],
   "source": [
    "!pip install pycbc lalsuite bilby nestle matplotlib"
   ]
  },
  {
   "cell_type": "markdown",
   "id": "330663da",
   "metadata": {},
   "source": [
    "## PC setup\n",
    "\n",
    "### Using anaconda/miniconda\n",
    "`conda env create -f environment.yaml`\n",
    "\n",
    "`conda activate np3m`\n",
    "\n",
    "OR\n",
    "\n",
    "### Using pip\n",
    "Create a python virtual environment and \n",
    "`pip install -r requirements.txt`"
   ]
  },
  {
   "cell_type": "code",
   "execution_count": null,
   "id": "b557d6bd",
   "metadata": {},
   "outputs": [],
   "source": [
    "import bilby\n",
    "\n",
    "# Set the duration and sampling frequency of the data segment that we're\n",
    "# going to inject the signal into\n",
    "duration = 4.0\n",
    "sampling_frequency = 2048.0\n",
    "minimum_frequency = 20\n",
    "\n",
    "# Specify the output directory and the name of the simulation.\n",
    "outdir = \"bbh_outdir\"\n",
    "label = \"4p_tutorial\""
   ]
  },
  {
   "cell_type": "markdown",
   "id": "e6567b56",
   "metadata": {},
   "source": [
    "## Injection parameters"
   ]
  },
  {
   "cell_type": "code",
   "execution_count": null,
   "id": "9b39a36e",
   "metadata": {},
   "outputs": [],
   "source": [
    "\n",
    "bilby.core.utils.setup_logger(outdir=outdir, \n",
    "                              label=label, \n",
    "                              log_level=\"DEBUG\")\n",
    "\n",
    "# Set up a random seed for result reproducibility.  This is optional!\n",
    "bilby.core.utils.random.seed(88170235)\n",
    "\n",
    "# We are going to inject a binary black hole waveform.  We first establish a\n",
    "# dictionary of parameters that includes all of the different waveform\n",
    "# parameters, including masses of the two black holes (mass_1, mass_2),\n",
    "# spins of both black holes (a, tilt, phi), etc.\n",
    "injection_parameters = dict(\n",
    "    mass_1=36.0,\n",
    "    mass_2=29.0,\n",
    "    a_1=0.4,\n",
    "    a_2=0.3,\n",
    "    tilt_1=0.5,\n",
    "    tilt_2=1.0,\n",
    "    phi_12=1.7,\n",
    "    phi_jl=0.3,\n",
    "    luminosity_distance=2000.0,\n",
    "    theta_jn=0.4,\n",
    "    psi=2.659,\n",
    "    phase=1.3,\n",
    "    geocent_time=1126259642.413,\n",
    "    ra=1.375,\n",
    "    dec=-1.2108,\n",
    ")\n",
    "\n",
    "m1 = injection_parameters[\"mass_1\"]\n",
    "m2 = injection_parameters[\"mass_2\"]\n",
    "inj_mass_ratio = injection_parameters[\"mass_2\"]/injection_parameters[\"mass_1\"]\n",
    "\n",
    "inj_chirp_mass = ((m1*m2)**(3/5)) /(m1+m2)**(1/5)"
   ]
  },
  {
   "cell_type": "code",
   "execution_count": null,
   "id": "a3b53dfc",
   "metadata": {},
   "outputs": [],
   "source": [
    "truths = {\"mass_ratio\" : inj_mass_ratio,\n",
    "          \"chirp_mass\" : inj_chirp_mass,\n",
    "          \"luminosity_distance\": injection_parameters[\"luminosity_distance\"],\n",
    "          \"theta_jn\" : injection_parameters[\"theta_jn\"]}"
   ]
  },
  {
   "cell_type": "markdown",
   "id": "fb168ef5",
   "metadata": {},
   "source": [
    "# Waveform generator"
   ]
  },
  {
   "cell_type": "code",
   "execution_count": null,
   "id": "2cc93fec",
   "metadata": {},
   "outputs": [],
   "source": [
    "\n",
    "# Fixed arguments passed into the source model\n",
    "waveform_arguments = dict(\n",
    "    waveform_approximant=\"IMRPhenomXPHM\",\n",
    "    reference_frequency=50.0,\n",
    "    minimum_frequency=minimum_frequency,\n",
    ")\n",
    "\n",
    "# Create the waveform_generator using a LAL BinaryBlackHole source function\n",
    "waveform_generator = bilby.gw.WaveformGenerator(\n",
    "    duration=duration,\n",
    "    sampling_frequency=sampling_frequency,\n",
    "    frequency_domain_source_model=bilby.gw.source.lal_binary_black_hole,\n",
    "    parameter_conversion=bilby.gw.conversion.convert_to_lal_binary_black_hole_parameters,\n",
    "    waveform_arguments=waveform_arguments,\n",
    ")"
   ]
  },
  {
   "cell_type": "markdown",
   "id": "ab28d68c",
   "metadata": {},
   "source": [
    "## Inject the signal into the detector"
   ]
  },
  {
   "cell_type": "code",
   "execution_count": null,
   "id": "10987718",
   "metadata": {},
   "outputs": [],
   "source": [
    "# Set up interferometers.  In this case we'll use two interferometers\n",
    "# (LIGO-Hanford (H1), LIGO-Livingston (L1). These default to their design\n",
    "# sensitivity\n",
    "ifos = bilby.gw.detector.InterferometerList([\"H1\", \"L1\"])\n",
    "ifos.set_strain_data_from_power_spectral_densities(\n",
    "    sampling_frequency=sampling_frequency,\n",
    "    duration=duration,\n",
    "    start_time=injection_parameters[\"geocent_time\"] - 2,\n",
    ")\n",
    "\n",
    "\n",
    "\n",
    "ifos.inject_signal(\n",
    "    waveform_generator=waveform_generator, parameters=injection_parameters\n",
    ")\n",
    "\n",
    "# Set up a PriorDict, which inherits from dict.\n",
    "# By default we will sample all terms in the signal models.  However, this will\n",
    "# take a long time for the calculation, so for this example we will set almost\n",
    "# all of the priors to be equall to their injected values.  This implies the\n",
    "# prior is a delta function at the true, injected value.  In reality, the\n",
    "# sampler implementation is smart enough to not sample any parameter that has\n",
    "# a delta-function prior.\n",
    "# The above list does *not* include mass_1, mass_2, theta_jn and luminosity\n",
    "# distance, which means those are the parameters that will be included in the\n",
    "# sampler.  If we do nothing, then the default priors get used.\n"
   ]
  },
  {
   "cell_type": "markdown",
   "id": "c95146df",
   "metadata": {},
   "source": [
    "## Define the priors"
   ]
  },
  {
   "cell_type": "code",
   "execution_count": null,
   "id": "0f8e2eff",
   "metadata": {},
   "outputs": [],
   "source": [
    "priors = bilby.gw.prior.BBHPriorDict()\n",
    "for key in [\n",
    "    \"a_1\",\n",
    "    \"a_2\",\n",
    "    \"tilt_1\",\n",
    "    \"tilt_2\",\n",
    "    \"phi_12\",\n",
    "    \"phi_jl\",\n",
    "    \"psi\",\n",
    "    \"ra\",\n",
    "    \"dec\",\n",
    "    \"geocent_time\",\n",
    "    \"phase\",\n",
    "#    \"theta_jn\"\n",
    "]:\n",
    "    priors[key] = injection_parameters[key]\n",
    "\n",
    "# Perform a check that the prior does not extend to a parameter space longer than the data\n",
    "priors.validate_prior(duration, minimum_frequency)"
   ]
  },
  {
   "cell_type": "markdown",
   "id": "9f97f60c",
   "metadata": {},
   "source": [
    "## Initialize the likelihood"
   ]
  },
  {
   "cell_type": "code",
   "execution_count": null,
   "id": "1f530a02",
   "metadata": {},
   "outputs": [],
   "source": [
    "# Initialise the likelihood by passing in the interferometer data (ifos) and\n",
    "# the waveform generator\n",
    "likelihood = bilby.gw.GravitationalWaveTransient(\n",
    "    interferometers=ifos, waveform_generator=waveform_generator\n",
    ")"
   ]
  },
  {
   "cell_type": "markdown",
   "id": "29b475c6",
   "metadata": {},
   "source": [
    "## Run the sampler"
   ]
  },
  {
   "cell_type": "code",
   "execution_count": null,
   "id": "2fc14756",
   "metadata": {},
   "outputs": [],
   "source": [
    "\n",
    "# Run sampler.  In this case we're going to use the `dynesty` sampler\n",
    "result = bilby.run_sampler(\n",
    "    likelihood=likelihood,\n",
    "    priors=priors,\n",
    "    sampler=\"dynesty\",\n",
    "    npoints=100,\n",
    "    injection_parameters=injection_parameters,\n",
    "    outdir=outdir,\n",
    "    label=label,\n",
    "    result_class=bilby.gw.result.CBCResult,\n",
    ")"
   ]
  },
  {
   "cell_type": "markdown",
   "id": "678011c9",
   "metadata": {},
   "source": [
    "## Plot the results"
   ]
  },
  {
   "cell_type": "code",
   "execution_count": null,
   "id": "e2e5732a",
   "metadata": {},
   "outputs": [],
   "source": [
    "# Make a corner plot.\n",
    "result.plot_corner(truths=truths)"
   ]
  },
  {
   "cell_type": "code",
   "execution_count": null,
   "id": "1e921d4f",
   "metadata": {},
   "outputs": [],
   "source": []
  }
 ],
 "metadata": {
  "kernelspec": {
   "display_name": "igwn-py310",
   "language": "python",
   "name": "python3"
  },
  "language_info": {
   "codemirror_mode": {
    "name": "ipython",
    "version": 3
   },
   "file_extension": ".py",
   "mimetype": "text/x-python",
   "name": "python",
   "nbconvert_exporter": "python",
   "pygments_lexer": "ipython3",
   "version": "3.10.16"
  }
 },
 "nbformat": 4,
 "nbformat_minor": 5
}
