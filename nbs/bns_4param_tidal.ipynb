{
  "cells": [
    {
      "cell_type": "markdown",
      "id": "fcf1e246",
      "metadata": {
        "id": "fcf1e246",
        "vscode": {
          "languageId": "plaintext"
        }
      },
      "source": [
        "# BNS 4 param example\n",
        "\n",
        "\n",
        "# Agenda\n",
        "\n",
        "1. Carry out Parameter estimation on a binary neutron star system\n",
        "1. Stochastically sample the posterior distribution using `bilby`.\n",
        "\n",
        "\n",
        "## Notes\n",
        "1. BNS signals are longer (by a factor of 10, low masses)\n",
        "1. More intelligent sampling necessary (nestle)\n",
        "\n",
        "# Parameter estimation\n",
        "1. Inject a BNS singal into a detector\n",
        "1. Analze using bilby and nestle.\n",
        "\n",
        "## Fixed parameters\n",
        "\n",
        "1. Extrinsic\n",
        "    1. Polarization angle `psi`,\n",
        "    1. Sky location `ra`, `dec`,\n",
        "    1. Signal's arrival time at geocenter `geocent_time`,\n",
        "    1. Orbital / coalescence `phase`,\n",
        "    1. Inclination angle `theta_jn`\n",
        "    1. Luminosity distance `luminosity_distance`\n",
        "1. Intrinsic\n",
        "    1. Spin components `a_1`, `a_2`, `tilt_1`, `tilt_2`, `phi_12`, `phi_jl`\n",
        "    1. Tidal deformabilities `lambda_1`, `lambda_2`\n",
        "\n",
        "##  To sample over\n",
        "1. Intrinsic:\n",
        "    1. Component masses `m_1`, `m_2` in terms of `symmetric_mass_ratio`, `chirp_mass`\n",
        "    \\begin{equation}\n",
        "     \\eta = \\dfrac{m_1 m_2}{(m_1 + m_2)^2} \\qquad,\\,\\, \\mathcal{M} = \\dfrac{(m_1 * m_2)^{3/5}}{(m_1 + m_2)^{1/5}}\n",
        "    \\end{equation}\n",
        "## Priors\n",
        "1. Uniform in (component masses)\n",
        "1. Uniform in comoving volume prior on luminosity distance (100Mpc, 5Gpc)"
      ]
    },
    {
      "cell_type": "markdown",
      "id": "dfebdb24",
      "metadata": {
        "id": "dfebdb24"
      },
      "source": [
        "## Collab setup"
      ]
    },
    {
      "cell_type": "code",
      "execution_count": null,
      "id": "0738e23f",
      "metadata": {
        "colab": {
          "base_uri": "https://localhost:8080/"
        },
        "id": "0738e23f",
        "outputId": "c2ea83d9-e574-43e6-f7ee-11870d9e9738"
      },
      "outputs": [],
      "source": [
        "!pip install pycbc lalsuite bilby nestle matplotlib"
      ]
    },
    {
      "cell_type": "markdown",
      "id": "d7eb45c4",
      "metadata": {
        "id": "d7eb45c4"
      },
      "source": [
        "## PC setup\n",
        "\n",
        "### Using anaconda/miniconda\n",
        "`conda env create -f environment.yaml`\n",
        "\n",
        "`conda activate np3m`\n",
        "\n",
        "OR\n",
        "\n",
        "### Using pip\n",
        "Create a python virtual environment and\n",
        "`pip install -r requirements.txt`"
      ]
    },
    {
      "cell_type": "code",
      "execution_count": null,
      "id": "b640a860",
      "metadata": {
        "id": "b640a860"
      },
      "outputs": [],
      "source": [
        "import bilby\n",
        "from bilby.core.utils.random import seed\n",
        "\n",
        "# Sets seed of bilby's generator \"rng\" to \"123\" to ensure reproducibility\n",
        "seed(123)\n",
        "\n",
        "# Specify the output directory and the name of the simulation.\n",
        "outdir = \"bns_outdir\"\n",
        "label = \"bns_4parama\"\n",
        "bilby.core.utils.setup_logger(outdir=outdir, label=label)"
      ]
    },
    {
      "cell_type": "markdown",
      "id": "a4125e71",
      "metadata": {
        "id": "a4125e71"
      },
      "source": [
        "## Injection parameters"
      ]
    },
    {
      "cell_type": "code",
      "execution_count": null,
      "id": "8777581b",
      "metadata": {
        "id": "8777581b"
      },
      "outputs": [],
      "source": [
        "\n",
        "# We are going to inject a binary neutron star waveform.  We first establish a\n",
        "# dictionary of parameters that includes all of the different waveform\n",
        "# parameters, including masses of the two black holes (mass_1, mass_2),\n",
        "# aligned spins of both black holes (chi_1, chi_2), etc.\n",
        "injection_parameters = dict(\n",
        "    mass_1=1.5,\n",
        "    mass_2=1.3,\n",
        "    chi_1=0.02,\n",
        "    chi_2=0.02,\n",
        "    luminosity_distance=50.0,\n",
        "    theta_jn=0.4,\n",
        "    psi=2.659,\n",
        "    phase=1.3,\n",
        "    geocent_time=1126259642.413,\n",
        "    ra=1.375,\n",
        "    dec=-1.2108,\n",
        "    lambda_1=545,\n",
        "    lambda_2=1346,\n",
        "    fiducial=1\n",
        ")\n",
        "\n",
        "all_injection_parameters = bilby.gw.conversion.generate_all_bns_parameters(injection_parameters)"
      ]
    },
    {
      "cell_type": "markdown",
      "id": "468fb8d7",
      "metadata": {
        "id": "468fb8d7"
      },
      "source": [
        "## Data sampling parameters"
      ]
    },
    {
      "cell_type": "code",
      "execution_count": null,
      "id": "3f9cf114",
      "metadata": {
        "id": "3f9cf114"
      },
      "outputs": [],
      "source": [
        "\n",
        "# Set the duration and sampling frequency of the data segment that we're going\n",
        "# to inject the signal into. For the\n",
        "# TaylorF2 waveform, we cut the signal close to the isco frequency\n",
        "duration = 32\n",
        "sampling_frequency = 2048\n",
        "start_time = injection_parameters[\"geocent_time\"] + 2 - duration"
      ]
    },
    {
      "cell_type": "markdown",
      "id": "1fedbbe0",
      "metadata": {
        "id": "1fedbbe0"
      },
      "source": [
        "# Waveform generator"
      ]
    },
    {
      "cell_type": "code",
      "execution_count": null,
      "id": "d586e119",
      "metadata": {
        "colab": {
          "base_uri": "https://localhost:8080/"
        },
        "id": "d586e119",
        "outputId": "e059731d-6afb-486e-8ae6-4f9a4e575417"
      },
      "outputs": [],
      "source": [
        "\n",
        "# Fixed arguments passed into the source model. The analysis starts at 40 Hz.\n",
        "waveform_arguments = dict(\n",
        "    waveform_approximant=\"IMRPhenomPv2_NRTidal\",\n",
        "    reference_frequency=50.0,\n",
        "    minimum_frequency=40.0,\n",
        ")\n",
        "\n",
        "# Create the waveform_generator using a LAL Binary Neutron Star source function\n",
        "waveform_generator = bilby.gw.WaveformGenerator(\n",
        "    duration=duration,\n",
        "    sampling_frequency=sampling_frequency,\n",
        "    frequency_domain_source_model=bilby.gw.source.lal_binary_neutron_star,\n",
        "    parameter_conversion=bilby.gw.conversion.convert_to_lal_binary_neutron_star_parameters,\n",
        "    waveform_arguments=waveform_arguments,\n",
        ")"
      ]
    },
    {
      "cell_type": "markdown",
      "id": "40bc751b",
      "metadata": {
        "id": "40bc751b"
      },
      "source": [
        "## Inject the signal into the detector"
      ]
    },
    {
      "cell_type": "code",
      "execution_count": null,
      "id": "e7821506",
      "metadata": {
        "colab": {
          "base_uri": "https://localhost:8080/"
        },
        "id": "e7821506",
        "outputId": "ddd6c377-6234-49de-908d-441541514847"
      },
      "outputs": [],
      "source": [
        "\n",
        "# Set up interferometers.  In this case we'll use three interferometers\n",
        "# (LIGO-Hanford (H1), LIGO-Livingston (L1), and Virgo (V1)).\n",
        "# These default to their design sensitivity and start at 40 Hz.\n",
        "interferometers = bilby.gw.detector.InterferometerList([\"H1\", \"L1\", \"V1\"])\n",
        "for interferometer in interferometers:\n",
        "    interferometer.minimum_frequency = 40\n",
        "interferometers.set_strain_data_from_power_spectral_densities(\n",
        "    sampling_frequency=sampling_frequency, duration=duration, start_time=start_time\n",
        ")\n",
        "interferometers.inject_signal(\n",
        "    parameters=injection_parameters, waveform_generator=waveform_generator\n",
        ")"
      ]
    },
    {
      "cell_type": "markdown",
      "id": "3ed74fcd",
      "metadata": {
        "id": "3ed74fcd"
      },
      "source": [
        "## Define the priors"
      ]
    },
    {
      "cell_type": "code",
      "execution_count": null,
      "id": "ba738974",
      "metadata": {
        "colab": {
          "base_uri": "https://localhost:8080/"
        },
        "id": "ba738974",
        "outputId": "cd1e99c2-6449-442f-fdef-2a9ac9bde43c"
      },
      "outputs": [],
      "source": [
        "\n",
        "# Load the default prior for binary neutron stars.\n",
        "# We're going to sample in chirp_mass, symmetric_mass_ratio, lambda_tilde, and\n",
        "# delta_lambda_tilde rather than mass_1, mass_2, lambda_1, and lambda_2.\n",
        "# BNS have aligned spins by default, if you want to allow precessing spins\n",
        "# pass aligned_spin=False to the BNSPriorDict\n",
        "priors = bilby.gw.prior.BNSPriorDict()\n",
        "for key in [\n",
        "    \"psi\",\n",
        "    \"geocent_time\",\n",
        "    \"ra\",\n",
        "    \"dec\",\n",
        "    \"chi_1\",\n",
        "    \"chi_2\",\n",
        "    \"theta_jn\",\n",
        "    \"luminosity_distance\",\n",
        "    \"phase\",\n",
        "#    \"lambda_1\",\n",
        "#    'lambda_2'\n",
        "]:\n",
        "    priors[key] = injection_parameters[key]\n",
        "\n",
        "del priors[\"mass_ratio\"], priors[\"lambda_1\"], priors[\"lambda_2\"]\n",
        "priors[\"chirp_mass\"] = bilby.core.prior.Gaussian(\n",
        "    1.215, 0.1, name=\"chirp_mass\", unit=\"$M_{\\\\odot}$\"\n",
        ")\n",
        "priors[\"symmetric_mass_ratio\"] = bilby.core.prior.Uniform(\n",
        "    0.1, 0.25, name=\"symmetric_mass_ratio\"\n",
        ")\n",
        "priors[\"lambda_tilde\"] = bilby.core.prior.Uniform(0, 5000, name=\"lambda_tilde\")\n",
        "priors[\"delta_lambda_tilde\"] = bilby.core.prior.Uniform(\n",
        "    -500, 1000, name=\"delta_lambda_tilde\"\n",
        ")\n",
        "priors[\"lambda_1\"] = bilby.core.prior.Constraint(\n",
        "    name=\"lambda_1\", minimum=0, maximum=10000\n",
        ")\n",
        "priors[\"lambda_2\"] = bilby.core.prior.Constraint(\n",
        "    name=\"lambda_2\", minimum=0, maximum=10000\n",
        ")"
      ]
    },
    {
      "cell_type": "code",
      "execution_count": null,
      "id": "e1ef020b",
      "metadata": {
        "id": "e1ef020b",
        "outputId": "c885c282-2147-4f00-c66f-1506b9c34059"
      },
      "outputs": [],
      "source": [
        "priors"
      ]
    },
    {
      "cell_type": "markdown",
      "id": "17a7adb0",
      "metadata": {
        "id": "17a7adb0"
      },
      "source": [
        "## Initialize the likelihood"
      ]
    },
    {
      "cell_type": "code",
      "execution_count": null,
      "id": "a91b0485",
      "metadata": {
        "colab": {
          "base_uri": "https://localhost:8080/"
        },
        "id": "a91b0485",
        "outputId": "f1341111-77fc-485b-b0c2-e1e1a95a68fb"
      },
      "outputs": [],
      "source": [
        "# Initialise the likelihood by passing in the interferometer data (IFOs)\n",
        "# and the waveform generator\n",
        "likelihood = bilby.gw.likelihood.GravitationalWaveTransient(\n",
        "    interferometers=interferometers,\n",
        "    waveform_generator=waveform_generator,\n",
        ")\n",
        "\n",
        "# Run sampler.  In this case we're going to use the `nestle` sampler\n",
        "result = bilby.run_sampler(\n",
        "    likelihood=likelihood,\n",
        "    priors=priors,\n",
        "    sampler=\"nestle\",\n",
        "    npoints=100,\n",
        "    injection_parameters=injection_parameters,\n",
        "    outdir=outdir,\n",
        "    label=label,\n",
        "    conversion_function=bilby.gw.conversion.generate_all_bns_parameters,\n",
        "    result_class=bilby.gw.result.CBCResult,\n",
        "    #bound='multi'\n",
        ")"
      ]
    },
    {
      "cell_type": "code",
      "execution_count": null,
      "id": "1d9bbcfa",
      "metadata": {
        "id": "1d9bbcfa"
      },
      "outputs": [],
      "source": []
    },
    {
      "cell_type": "code",
      "execution_count": null,
      "id": "5c760ddd",
      "metadata": {
        "id": "5c760ddd"
      },
      "outputs": [],
      "source": [
        "all_injection_parameters = bilby.gw.conversion.generate_all_bns_parameters(injection_parameters)"
      ]
    },
    {
      "cell_type": "code",
      "execution_count": null,
      "id": "e8c12907",
      "metadata": {
        "id": "e8c12907",
        "outputId": "ad8e359c-de44-4144-ea61-c36edaa050da"
      },
      "outputs": [],
      "source": [
        "result.posterior"
      ]
    },
    {
      "cell_type": "code",
      "execution_count": null,
      "id": "73bd7ea0",
      "metadata": {
        "id": "73bd7ea0"
      },
      "outputs": [],
      "source": [
        "truths = {}\n",
        "\n",
        "#for key in [\"chirp_mass\", \"symmetric_mass_ratio\"]:\n",
        "for key in [\"chirp_mass\", \"symmetric_mass_ratio\", \"lambda_tilde\"]:\n",
        "#for key in [\"chirp_mass\"]:\n",
        "    truths.update({key : all_injection_parameters[key]})"
      ]
    },
    {
      "cell_type": "code",
      "execution_count": null,
      "id": "b2f25ab6",
      "metadata": {
        "id": "b2f25ab6",
        "outputId": "eab2ac3e-1857-4161-faf7-cccf3bd3053f"
      },
      "outputs": [],
      "source": [
        "truths"
      ]
    },
    {
      "cell_type": "code",
      "execution_count": null,
      "id": "d066a626",
      "metadata": {
        "id": "d066a626",
        "outputId": "61502e3e-b6df-427f-8857-359b6902b75a"
      },
      "outputs": [],
      "source": [
        "result.plot_corner(truths=truths)"
      ]
    },
    {
      "cell_type": "code",
      "execution_count": null,
      "id": "e21ab080",
      "metadata": {},
      "outputs": [],
      "source": []
    }
  ],
  "metadata": {
    "colab": {
      "provenance": []
    },
    "kernelspec": {
      "display_name": "igwn-py310",
      "language": "python",
      "name": "python3"
    },
    "language_info": {
      "codemirror_mode": {
        "name": "ipython",
        "version": 3
      },
      "file_extension": ".py",
      "mimetype": "text/x-python",
      "name": "python",
      "nbconvert_exporter": "python",
      "pygments_lexer": "ipython3",
      "version": "3.10.16"
    }
  },
  "nbformat": 4,
  "nbformat_minor": 5
}
