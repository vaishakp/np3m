{
  "cells": [
    {
      "cell_type": "markdown",
      "id": "fcf1e246",
      "metadata": {
        "id": "fcf1e246",
        "vscode": {
          "languageId": "plaintext"
        }
      },
      "source": [
        "# BNS 4 param example\n",
        "\n",
        "\n",
        "# Agenda\n",
        "\n",
        "1. Carry out Parameter estimation on a binary neutron star system\n",
        "1. Stochastically sample the posterior distribution using `bilby`.\n",
        "\n",
        "\n",
        "## Notes\n",
        "1. BNS signals are longer (by a factor of 10, low masses)\n",
        "1. More intelligent sampling necessary (nestle)\n",
        "\n",
        "# Parameter estimation\n",
        "1. Inject a BNS singal into a detector\n",
        "1. Analze using bilby and nestle.\n",
        "\n",
        "## Fixed parameters\n",
        "\n",
        "1. Extrinsic\n",
        "    1. Polarization angle `psi`,\n",
        "    1. Sky location `ra`, `dec`,\n",
        "    1. Signal's arrival time at geocenter `geocent_time`,\n",
        "    1. Orbital / coalescence `phase`,\n",
        "    1. Inclination angle `theta_jn`\n",
        "    1. Luminosity distance `luminosity_distance`\n",
        "1. Intrinsic\n",
        "    1. Spin components `a_1`, `a_2`, `tilt_1`, `tilt_2`, `phi_12`, `phi_jl`\n",
        "    1. Tidal deformabilities `lambda_1`, `lambda_2`\n",
        "\n",
        "##  To sample over\n",
        "1. Intrinsic:\n",
        "    1. Component masses `m_1`, `m_2` in terms of `symmetric_mass_ratio`, `chirp_mass`\n",
        "    \\begin{equation}\n",
        "     \\eta = \\dfrac{m_1 m_2}{(m_1 + m_2)^2} \\qquad,\\,\\, \\mathcal{M} = \\dfrac{(m_1 * m_2)^{3/5}}{(m_1 + m_2)^{1/5}}\n",
        "    \\end{equation}\n",
        "## Priors\n",
        "1. Uniform in (component masses)\n",
        "1. Uniform in comoving volume prior on luminosity distance (100Mpc, 5Gpc)"
      ]
    },
    {
      "cell_type": "markdown",
      "id": "dfebdb24",
      "metadata": {
        "id": "dfebdb24"
      },
      "source": [
        "## Collab setup"
      ]
    },
    {
      "cell_type": "code",
      "execution_count": 1,
      "id": "0738e23f",
      "metadata": {
        "colab": {
          "base_uri": "https://localhost:8080/"
        },
        "id": "0738e23f",
        "outputId": "c2ea83d9-e574-43e6-f7ee-11870d9e9738"
      },
      "outputs": [
        {
          "name": "stdout",
          "output_type": "stream",
          "text": [
            "Collecting pycbc\n",
            "  Downloading pycbc-2.8.3-cp311-cp311-manylinux_2_17_x86_64.manylinux2014_x86_64.whl.metadata (4.6 kB)\n",
            "Collecting lalsuite\n",
            "  Downloading lalsuite-7.26.1-cp311-cp311-manylinux_2_28_x86_64.whl.metadata (3.2 kB)\n",
            "Collecting bilby\n",
            "  Downloading bilby-2.5.2-py3-none-any.whl.metadata (5.1 kB)\n",
            "Collecting nestle\n",
            "  Downloading nestle-0.2.0.tar.gz (12 kB)\n",
            "  Preparing metadata (setup.py) ... \u001b[?25l\u001b[?25hdone\n",
            "Requirement already satisfied: matplotlib in /usr/local/lib/python3.11/dist-packages (3.10.0)\n",
            "Requirement already satisfied: numpy>=1.16.0 in /usr/local/lib/python3.11/dist-packages (from pycbc) (2.0.2)\n",
            "Requirement already satisfied: cython>=0.29 in /usr/local/lib/python3.11/dist-packages (from pycbc) (3.0.12)\n",
            "Requirement already satisfied: scipy>=0.16.0 in /usr/local/lib/python3.11/dist-packages (from pycbc) (1.15.3)\n",
            "Requirement already satisfied: astropy!=4.0.5,!=4.2.1,>=2.0.3 in /usr/local/lib/python3.11/dist-packages (from pycbc) (7.1.0)\n",
            "Collecting mpld3>=0.3 (from pycbc)\n",
            "  Downloading mpld3-0.5.10-py3-none-any.whl.metadata (5.1 kB)\n",
            "Requirement already satisfied: pillow in /usr/local/lib/python3.11/dist-packages (from pycbc) (11.2.1)\n",
            "Requirement already satisfied: h5py!=3.7.0,>=3.0.0 in /usr/local/lib/python3.11/dist-packages (from pycbc) (3.13.0)\n",
            "Requirement already satisfied: jinja2 in /usr/local/lib/python3.11/dist-packages (from pycbc) (3.1.6)\n",
            "Requirement already satisfied: Mako>=1.0.1 in /usr/lib/python3/dist-packages (from pycbc) (1.1.3)\n",
            "Requirement already satisfied: beautifulsoup4>=4.6.0 in /usr/local/lib/python3.11/dist-packages (from pycbc) (4.13.4)\n",
            "Requirement already satisfied: tqdm in /usr/local/lib/python3.11/dist-packages (from pycbc) (4.67.1)\n",
            "Requirement already satisfied: setuptools in /usr/local/lib/python3.11/dist-packages (from pycbc) (75.2.0)\n",
            "Collecting gwdatafind (from pycbc)\n",
            "  Downloading gwdatafind-2.0.0-py3-none-any.whl.metadata (3.6 kB)\n",
            "Collecting pegasus-wms.api>=5.0.8 (from pycbc)\n",
            "  Downloading pegasus_wms_api-5.1.1.tar.gz (73 kB)\n",
            "\u001b[2K     \u001b[90m━━━━━━━━━━━━━━━━━━━━━━━━━━━━━━━━━━━━━━━━\u001b[0m \u001b[32m73.9/73.9 kB\u001b[0m \u001b[31m2.8 MB/s\u001b[0m eta \u001b[36m0:00:00\u001b[0m\n",
            "\u001b[?25h  Installing build dependencies ... \u001b[?25l\u001b[?25hdone\n",
            "  Getting requirements to build wheel ... \u001b[?25l\u001b[?25hdone\n",
            "  Preparing metadata (pyproject.toml) ... \u001b[?25l\u001b[?25hdone\n",
            "Collecting python-ligo-lw>=1.7.0 (from pycbc)\n",
            "  Downloading python-ligo-lw-1.8.3.tar.gz (2.3 MB)\n",
            "\u001b[2K     \u001b[90m━━━━━━━━━━━━━━━━━━━━━━━━━━━━━━━━━━━━━━━━\u001b[0m \u001b[32m2.3/2.3 MB\u001b[0m \u001b[31m45.2 MB/s\u001b[0m eta \u001b[36m0:00:00\u001b[0m\n",
            "\u001b[?25h  Preparing metadata (setup.py) ... \u001b[?25l\u001b[?25hdone\n",
            "Collecting igwn-segments (from pycbc)\n",
            "  Downloading igwn_segments-2.1.0-cp311-cp311-manylinux_2_5_x86_64.manylinux1_x86_64.manylinux_2_28_x86_64.whl.metadata (2.0 kB)\n",
            "Collecting lscsoft-glue>=1.59.3 (from pycbc)\n",
            "  Downloading lscsoft_glue-4.1.0-py3-none-any.whl.metadata (1.5 kB)\n",
            "Collecting pykerr (from pycbc)\n",
            "  Downloading pykerr-0.1.0-py3-none-any.whl.metadata (5.4 kB)\n",
            "Collecting igwn-ligolw (from lalsuite)\n",
            "  Downloading igwn_ligolw-2.1.0-cp311-cp311-manylinux_2_5_x86_64.manylinux1_x86_64.manylinux_2_28_x86_64.whl.metadata (2.3 kB)\n",
            "Requirement already satisfied: python-dateutil in /usr/local/lib/python3.11/dist-packages (from lalsuite) (2.9.0.post0)\n",
            "Collecting bilby.cython>=0.3.0 (from bilby)\n",
            "  Downloading bilby.cython-0.5.3-cp311-cp311-manylinux_2_17_x86_64.manylinux2014_x86_64.whl.metadata (4.5 kB)\n",
            "Collecting dynesty<2.2,>=2.0.1 (from bilby)\n",
            "  Downloading dynesty-2.1.5-py2.py3-none-any.whl.metadata (3.0 kB)\n",
            "Collecting emcee (from bilby)\n",
            "  Downloading emcee-3.1.6-py2.py3-none-any.whl.metadata (3.0 kB)\n",
            "Collecting corner (from bilby)\n",
            "  Downloading corner-2.2.3-py3-none-any.whl.metadata (2.2 kB)\n",
            "Requirement already satisfied: pandas in /usr/local/lib/python3.11/dist-packages (from bilby) (2.2.2)\n",
            "Requirement already satisfied: dill in /usr/local/lib/python3.11/dist-packages (from bilby) (0.3.7)\n",
            "Requirement already satisfied: attrs in /usr/local/lib/python3.11/dist-packages (from bilby) (25.3.0)\n",
            "Requirement already satisfied: contourpy>=1.0.1 in /usr/local/lib/python3.11/dist-packages (from matplotlib) (1.3.2)\n",
            "Requirement already satisfied: cycler>=0.10 in /usr/local/lib/python3.11/dist-packages (from matplotlib) (0.12.1)\n",
            "Requirement already satisfied: fonttools>=4.22.0 in /usr/local/lib/python3.11/dist-packages (from matplotlib) (4.58.1)\n",
            "Requirement already satisfied: kiwisolver>=1.3.1 in /usr/local/lib/python3.11/dist-packages (from matplotlib) (1.4.8)\n",
            "Requirement already satisfied: packaging>=20.0 in /usr/local/lib/python3.11/dist-packages (from matplotlib) (24.2)\n",
            "Requirement already satisfied: pyparsing>=2.3.1 in /usr/local/lib/python3.11/dist-packages (from matplotlib) (3.2.3)\n",
            "Requirement already satisfied: pyerfa>=2.0.1.1 in /usr/local/lib/python3.11/dist-packages (from astropy!=4.0.5,!=4.2.1,>=2.0.3->pycbc) (2.0.1.5)\n",
            "Requirement already satisfied: astropy-iers-data>=0.2025.4.28.0.37.27 in /usr/local/lib/python3.11/dist-packages (from astropy!=4.0.5,!=4.2.1,>=2.0.3->pycbc) (0.2025.6.2.0.38.23)\n",
            "Requirement already satisfied: PyYAML>=6.0.0 in /usr/local/lib/python3.11/dist-packages (from astropy!=4.0.5,!=4.2.1,>=2.0.3->pycbc) (6.0.2)\n",
            "Requirement already satisfied: soupsieve>1.2 in /usr/local/lib/python3.11/dist-packages (from beautifulsoup4>=4.6.0->pycbc) (2.7)\n",
            "Requirement already satisfied: typing-extensions>=4.0.0 in /usr/local/lib/python3.11/dist-packages (from beautifulsoup4>=4.6.0->pycbc) (4.14.0)\n",
            "Collecting pegasus-wms.common (from pegasus-wms.api>=5.0.8->pycbc)\n",
            "  Downloading pegasus_wms_common-5.1.1.tar.gz (103 kB)\n",
            "\u001b[2K     \u001b[90m━━━━━━━━━━━━━━━━━━━━━━━━━━━━━━━━━━━━━━━\u001b[0m \u001b[32m103.2/103.2 kB\u001b[0m \u001b[31m7.7 MB/s\u001b[0m eta \u001b[36m0:00:00\u001b[0m\n",
            "\u001b[?25h  Installing build dependencies ... \u001b[?25l\u001b[?25hdone\n",
            "  Getting requirements to build wheel ... \u001b[?25l\u001b[?25hdone\n",
            "  Preparing metadata (pyproject.toml) ... \u001b[?25l\u001b[?25hdone\n",
            "Requirement already satisfied: six>=1.5 in /usr/local/lib/python3.11/dist-packages (from python-dateutil->lalsuite) (1.17.0)\n",
            "Collecting ligo-segments (from python-ligo-lw>=1.7.0->pycbc)\n",
            "  Downloading ligo-segments-1.4.0.tar.gz (51 kB)\n",
            "\u001b[2K     \u001b[90m━━━━━━━━━━━━━━━━━━━━━━━━━━━━━━━━━━━━━━━━\u001b[0m \u001b[32m51.0/51.0 kB\u001b[0m \u001b[31m4.9 MB/s\u001b[0m eta \u001b[36m0:00:00\u001b[0m\n",
            "\u001b[?25h  Preparing metadata (setup.py) ... \u001b[?25l\u001b[?25hdone\n",
            "Collecting igwn-auth-utils>=0.3.1 (from gwdatafind->pycbc)\n",
            "  Downloading igwn_auth_utils-1.4.0-py3-none-any.whl.metadata (4.2 kB)\n",
            "Requirement already satisfied: MarkupSafe>=2.0 in /usr/local/lib/python3.11/dist-packages (from jinja2->pycbc) (3.0.2)\n",
            "Requirement already satisfied: pytz>=2020.1 in /usr/local/lib/python3.11/dist-packages (from pandas->bilby) (2025.2)\n",
            "Requirement already satisfied: tzdata>=2022.7 in /usr/local/lib/python3.11/dist-packages (from pandas->bilby) (2025.2)\n",
            "Collecting cryptography>=44.0.1 (from igwn-auth-utils>=0.3.1->gwdatafind->pycbc)\n",
            "  Downloading cryptography-45.0.4-cp311-abi3-manylinux_2_34_x86_64.whl.metadata (5.7 kB)\n",
            "Requirement already satisfied: requests>=2.32.0 in /usr/local/lib/python3.11/dist-packages (from igwn-auth-utils>=0.3.1->gwdatafind->pycbc) (2.32.3)\n",
            "Collecting safe-netrc>=1.0 (from igwn-auth-utils>=0.3.1->gwdatafind->pycbc)\n",
            "  Downloading safe_netrc-1.0.1-py3-none-any.whl.metadata (1.9 kB)\n",
            "Collecting scitokens>=1.8 (from igwn-auth-utils>=0.3.1->gwdatafind->pycbc)\n",
            "  Downloading scitokens-1.8.1-py3-none-any.whl.metadata (12 kB)\n",
            "Requirement already satisfied: cffi>=1.14 in /usr/local/lib/python3.11/dist-packages (from cryptography>=44.0.1->igwn-auth-utils>=0.3.1->gwdatafind->pycbc) (1.17.1)\n",
            "Requirement already satisfied: charset-normalizer<4,>=2 in /usr/local/lib/python3.11/dist-packages (from requests>=2.32.0->igwn-auth-utils>=0.3.1->gwdatafind->pycbc) (3.4.2)\n",
            "Requirement already satisfied: idna<4,>=2.5 in /usr/local/lib/python3.11/dist-packages (from requests>=2.32.0->igwn-auth-utils>=0.3.1->gwdatafind->pycbc) (3.10)\n",
            "Requirement already satisfied: urllib3<3,>=1.21.1 in /usr/local/lib/python3.11/dist-packages (from requests>=2.32.0->igwn-auth-utils>=0.3.1->gwdatafind->pycbc) (2.4.0)\n",
            "Requirement already satisfied: certifi>=2017.4.17 in /usr/local/lib/python3.11/dist-packages (from requests>=2.32.0->igwn-auth-utils>=0.3.1->gwdatafind->pycbc) (2025.4.26)\n",
            "Requirement already satisfied: PyJWT>=1.6.1 in /usr/local/lib/python3.11/dist-packages (from scitokens>=1.8->igwn-auth-utils>=0.3.1->gwdatafind->pycbc) (2.10.1)\n",
            "Requirement already satisfied: pycparser in /usr/local/lib/python3.11/dist-packages (from cffi>=1.14->cryptography>=44.0.1->igwn-auth-utils>=0.3.1->gwdatafind->pycbc) (2.22)\n",
            "Downloading pycbc-2.8.3-cp311-cp311-manylinux_2_17_x86_64.manylinux2014_x86_64.whl (8.9 MB)\n",
            "\u001b[2K   \u001b[90m━━━━━━━━━━━━━━━━━━━━━━━━━━━━━━━━━━━━━━━━\u001b[0m \u001b[32m8.9/8.9 MB\u001b[0m \u001b[31m59.0 MB/s\u001b[0m eta \u001b[36m0:00:00\u001b[0m\n",
            "\u001b[?25hDownloading lalsuite-7.26.1-cp311-cp311-manylinux_2_28_x86_64.whl (40.3 MB)\n",
            "\u001b[2K   \u001b[90m━━━━━━━━━━━━━━━━━━━━━━━━━━━━━━━━━━━━━━━━\u001b[0m \u001b[32m40.3/40.3 MB\u001b[0m \u001b[31m16.0 MB/s\u001b[0m eta \u001b[36m0:00:00\u001b[0m\n",
            "\u001b[?25hDownloading bilby-2.5.2-py3-none-any.whl (2.3 MB)\n",
            "\u001b[2K   \u001b[90m━━━━━━━━━━━━━━━━━━━━━━━━━━━━━━━━━━━━━━━━\u001b[0m \u001b[32m2.3/2.3 MB\u001b[0m \u001b[31m82.2 MB/s\u001b[0m eta \u001b[36m0:00:00\u001b[0m\n",
            "\u001b[?25hDownloading bilby.cython-0.5.3-cp311-cp311-manylinux_2_17_x86_64.manylinux2014_x86_64.whl (983 kB)\n",
            "\u001b[2K   \u001b[90m━━━━━━━━━━━━━━━━━━━━━━━━━━━━━━━━━━━━━━━━\u001b[0m \u001b[32m983.9/983.9 kB\u001b[0m \u001b[31m51.3 MB/s\u001b[0m eta \u001b[36m0:00:00\u001b[0m\n",
            "\u001b[?25hDownloading dynesty-2.1.5-py2.py3-none-any.whl (108 kB)\n",
            "\u001b[2K   \u001b[90m━━━━━━━━━━━━━━━━━━━━━━━━━━━━━━━━━━━━━━━━\u001b[0m \u001b[32m108.2/108.2 kB\u001b[0m \u001b[31m9.9 MB/s\u001b[0m eta \u001b[36m0:00:00\u001b[0m\n",
            "\u001b[?25hDownloading lscsoft_glue-4.1.0-py3-none-any.whl (50 kB)\n",
            "\u001b[2K   \u001b[90m━━━━━━━━━━━━━━━━━━━━━━━━━━━━━━━━━━━━━━━━\u001b[0m \u001b[32m50.1/50.1 kB\u001b[0m \u001b[31m4.0 MB/s\u001b[0m eta \u001b[36m0:00:00\u001b[0m\n",
            "\u001b[?25hDownloading mpld3-0.5.10-py3-none-any.whl (202 kB)\n",
            "\u001b[2K   \u001b[90m━━━━━━━━━━━━━━━━━━━━━━━━━━━━━━━━━━━━━━━━\u001b[0m \u001b[32m202.6/202.6 kB\u001b[0m \u001b[31m18.0 MB/s\u001b[0m eta \u001b[36m0:00:00\u001b[0m\n",
            "\u001b[?25hDownloading corner-2.2.3-py3-none-any.whl (15 kB)\n",
            "Downloading emcee-3.1.6-py2.py3-none-any.whl (47 kB)\n",
            "\u001b[2K   \u001b[90m━━━━━━━━━━━━━━━━━━━━━━━━━━━━━━━━━━━━━━━━\u001b[0m \u001b[32m47.4/47.4 kB\u001b[0m \u001b[31m4.3 MB/s\u001b[0m eta \u001b[36m0:00:00\u001b[0m\n",
            "\u001b[?25hDownloading gwdatafind-2.0.0-py3-none-any.whl (39 kB)\n",
            "Downloading igwn_ligolw-2.1.0-cp311-cp311-manylinux_2_5_x86_64.manylinux1_x86_64.manylinux_2_28_x86_64.whl (179 kB)\n",
            "\u001b[2K   \u001b[90m━━━━━━━━━━━━━━━━━━━━━━━━━━━━━━━━━━━━━━━━\u001b[0m \u001b[32m179.9/179.9 kB\u001b[0m \u001b[31m17.1 MB/s\u001b[0m eta \u001b[36m0:00:00\u001b[0m\n",
            "\u001b[?25hDownloading igwn_segments-2.1.0-cp311-cp311-manylinux_2_5_x86_64.manylinux1_x86_64.manylinux_2_28_x86_64.whl (128 kB)\n",
            "\u001b[2K   \u001b[90m━━━━━━━━━━━━━━━━━━━━━━━━━━━━━━━━━━━━━━━━\u001b[0m \u001b[32m128.6/128.6 kB\u001b[0m \u001b[31m12.3 MB/s\u001b[0m eta \u001b[36m0:00:00\u001b[0m\n",
            "\u001b[?25hDownloading pykerr-0.1.0-py3-none-any.whl (48.1 MB)\n",
            "\u001b[2K   \u001b[90m━━━━━━━━━━━━━━━━━━━━━━━━━━━━━━━━━━━━━━━━\u001b[0m \u001b[32m48.1/48.1 MB\u001b[0m \u001b[31m17.5 MB/s\u001b[0m eta \u001b[36m0:00:00\u001b[0m\n",
            "\u001b[?25hDownloading igwn_auth_utils-1.4.0-py3-none-any.whl (34 kB)\n",
            "Downloading cryptography-45.0.4-cp311-abi3-manylinux_2_34_x86_64.whl (4.5 MB)\n",
            "\u001b[2K   \u001b[90m━━━━━━━━━━━━━━━━━━━━━━━━━━━━━━━━━━━━━━━━\u001b[0m \u001b[32m4.5/4.5 MB\u001b[0m \u001b[31m84.9 MB/s\u001b[0m eta \u001b[36m0:00:00\u001b[0m\n",
            "\u001b[?25hDownloading safe_netrc-1.0.1-py3-none-any.whl (10 kB)\n",
            "Downloading scitokens-1.8.1-py3-none-any.whl (31 kB)\n",
            "Building wheels for collected packages: nestle, pegasus-wms.api, python-ligo-lw, ligo-segments, pegasus-wms.common\n",
            "  Building wheel for nestle (setup.py) ... \u001b[?25l\u001b[?25hdone\n",
            "  Created wheel for nestle: filename=nestle-0.2.0-py3-none-any.whl size=12437 sha256=7f45bc3a2195dcbf196a0b87aa2b08beaf0809b0fa50b951185bfb0510cade89\n",
            "  Stored in directory: /root/.cache/pip/wheels/98/62/75/b799a307e28a8e3ecb89add8c3f917c3a2eb0b880f182597a0\n",
            "  Building wheel for pegasus-wms.api (pyproject.toml) ... \u001b[?25l\u001b[?25hdone\n",
            "  Created wheel for pegasus-wms.api: filename=pegasus_wms.api-5.1.1-py3-none-any.whl size=51367 sha256=e8bc066313211cef46ade2ad3131e542989537c3b5f0026aad7914864bb39af4\n",
            "  Stored in directory: /root/.cache/pip/wheels/b9/3c/4f/a90e429fd07c0362319b52d72c9ae1b5d8322adad87fd3ba66\n",
            "  Building wheel for python-ligo-lw (setup.py) ... \u001b[?25l\u001b[?25hdone\n",
            "  Created wheel for python-ligo-lw: filename=python_ligo_lw-1.8.3-cp311-cp311-linux_x86_64.whl size=157908 sha256=24005a2fe8b81665c50183579ca41ff8300d51ea9955c52af395918712783092\n",
            "  Stored in directory: /root/.cache/pip/wheels/dc/3a/a1/2400e079ce9e36a572fa67ccd3645e87b9abba772b6a7dfe98\n",
            "  Building wheel for ligo-segments (setup.py) ... \u001b[?25l\u001b[?25hdone\n",
            "  Created wheel for ligo-segments: filename=ligo_segments-1.4.0-cp311-cp311-linux_x86_64.whl size=102029 sha256=81958fbd6d9bca46925cac14589654d1cf7ccdcdf58cd11894b568ebb17f442f\n",
            "  Stored in directory: /root/.cache/pip/wheels/02/2b/93/c2ee2b6f4ea9572ee4f5ade0115c4bd0887be6228328740dae\n",
            "  Building wheel for pegasus-wms.common (pyproject.toml) ... \u001b[?25l\u001b[?25hdone\n",
            "  Created wheel for pegasus-wms.common: filename=pegasus_wms.common-5.1.1-py3-none-any.whl size=25197 sha256=efaa95c74f89e9b06a9157ca60638150017c998f6ecd3f7e06216f4640ebf6a6\n",
            "  Stored in directory: /root/.cache/pip/wheels/fa/33/00/9879afc011a472e7426e6bf709612695d782f83e98e9e1090a\n",
            "Successfully built nestle pegasus-wms.api python-ligo-lw ligo-segments pegasus-wms.common\n",
            "Installing collected packages: nestle, dynesty, safe-netrc, pegasus-wms.common, ligo-segments, igwn-segments, emcee, bilby.cython, pykerr, pegasus-wms.api, lscsoft-glue, igwn-ligolw, cryptography, scitokens, python-ligo-lw, mpld3, lalsuite, corner, igwn-auth-utils, bilby, gwdatafind, pycbc\n",
            "  Attempting uninstall: cryptography\n",
            "    Found existing installation: cryptography 43.0.3\n",
            "    Uninstalling cryptography-43.0.3:\n",
            "      Successfully uninstalled cryptography-43.0.3\n",
            "\u001b[31mERROR: pip's dependency resolver does not currently take into account all the packages that are installed. This behaviour is the source of the following dependency conflicts.\n",
            "pyopenssl 24.2.1 requires cryptography<44,>=41.0.5, but you have cryptography 45.0.4 which is incompatible.\n",
            "pydrive2 1.21.3 requires cryptography<44, but you have cryptography 45.0.4 which is incompatible.\u001b[0m\u001b[31m\n",
            "\u001b[0mSuccessfully installed bilby-2.5.2 bilby.cython-0.5.3 corner-2.2.3 cryptography-45.0.4 dynesty-2.1.5 emcee-3.1.6 gwdatafind-2.0.0 igwn-auth-utils-1.4.0 igwn-ligolw-2.1.0 igwn-segments-2.1.0 lalsuite-7.26.1 ligo-segments-1.4.0 lscsoft-glue-4.1.0 mpld3-0.5.10 nestle-0.2.0 pegasus-wms.api-5.1.1 pegasus-wms.common-5.1.1 pycbc-2.8.3 pykerr-0.1.0 python-ligo-lw-1.8.3 safe-netrc-1.0.1 scitokens-1.8.1\n"
          ]
        }
      ],
      "source": [
        "!pip install pycbc lalsuite bilby nestle matplotlib"
      ]
    },
    {
      "cell_type": "markdown",
      "id": "d7eb45c4",
      "metadata": {
        "id": "d7eb45c4"
      },
      "source": [
        "## PC setup\n",
        "\n",
        "### Using anaconda/miniconda\n",
        "`conda env create -f environment.yaml`\n",
        "\n",
        "`conda activate np3m`\n",
        "\n",
        "OR\n",
        "\n",
        "### Using pip\n",
        "Create a python virtual environment and\n",
        "`pip install -r requirements.txt`"
      ]
    },
    {
      "cell_type": "code",
      "execution_count": 2,
      "id": "b640a860",
      "metadata": {
        "id": "b640a860"
      },
      "outputs": [],
      "source": [
        "import bilby\n",
        "from bilby.core.utils.random import seed\n",
        "\n",
        "# Sets seed of bilby's generator \"rng\" to \"123\" to ensure reproducibility\n",
        "seed(123)\n",
        "\n",
        "# Specify the output directory and the name of the simulation.\n",
        "outdir = \"bns_outdir\"\n",
        "label = \"bns_4parama\"\n",
        "bilby.core.utils.setup_logger(outdir=outdir, label=label)"
      ]
    },
    {
      "cell_type": "markdown",
      "id": "a4125e71",
      "metadata": {
        "id": "a4125e71"
      },
      "source": [
        "## Injection parameters"
      ]
    },
    {
      "cell_type": "code",
      "execution_count": 3,
      "id": "8777581b",
      "metadata": {
        "id": "8777581b"
      },
      "outputs": [],
      "source": [
        "\n",
        "# We are going to inject a binary neutron star waveform.  We first establish a\n",
        "# dictionary of parameters that includes all of the different waveform\n",
        "# parameters, including masses of the two black holes (mass_1, mass_2),\n",
        "# aligned spins of both black holes (chi_1, chi_2), etc.\n",
        "injection_parameters = dict(\n",
        "    mass_1=1.5,\n",
        "    mass_2=1.3,\n",
        "    chi_1=0.02,\n",
        "    chi_2=0.02,\n",
        "    luminosity_distance=50.0,\n",
        "    theta_jn=0.4,\n",
        "    psi=2.659,\n",
        "    phase=1.3,\n",
        "    geocent_time=1126259642.413,\n",
        "    ra=1.375,\n",
        "    dec=-1.2108,\n",
        "    lambda_1=545,\n",
        "    lambda_2=1346,\n",
        "    fiducial=1\n",
        ")\n",
        "\n",
        "all_injection_parameters = bilby.gw.conversion.generate_all_bns_parameters(injection_parameters)"
      ]
    },
    {
      "cell_type": "markdown",
      "id": "468fb8d7",
      "metadata": {
        "id": "468fb8d7"
      },
      "source": [
        "## Data sampling parameters"
      ]
    },
    {
      "cell_type": "code",
      "execution_count": 4,
      "id": "3f9cf114",
      "metadata": {
        "id": "3f9cf114"
      },
      "outputs": [],
      "source": [
        "\n",
        "# Set the duration and sampling frequency of the data segment that we're going\n",
        "# to inject the signal into. For the\n",
        "# TaylorF2 waveform, we cut the signal close to the isco frequency\n",
        "duration = 32\n",
        "sampling_frequency = 2048\n",
        "start_time = injection_parameters[\"geocent_time\"] + 2 - duration"
      ]
    },
    {
      "cell_type": "markdown",
      "id": "1fedbbe0",
      "metadata": {
        "id": "1fedbbe0"
      },
      "source": [
        "# Waveform generator"
      ]
    },
    {
      "cell_type": "code",
      "execution_count": 5,
      "id": "d586e119",
      "metadata": {
        "colab": {
          "base_uri": "https://localhost:8080/"
        },
        "id": "d586e119",
        "outputId": "e059731d-6afb-486e-8ae6-4f9a4e575417"
      },
      "outputs": [
        {
          "name": "stderr",
          "output_type": "stream",
          "text": [
            "12:12 bilby INFO    : Waveform generator initiated with\n",
            "  frequency_domain_source_model: bilby.gw.source.lal_binary_neutron_star\n",
            "  time_domain_source_model: None\n",
            "  parameter_conversion: bilby.gw.conversion.convert_to_lal_binary_neutron_star_parameters\n"
          ]
        }
      ],
      "source": [
        "\n",
        "# Fixed arguments passed into the source model. The analysis starts at 40 Hz.\n",
        "waveform_arguments = dict(\n",
        "    waveform_approximant=\"IMRPhenomPv2_NRTidal\",\n",
        "    reference_frequency=50.0,\n",
        "    minimum_frequency=40.0,\n",
        ")\n",
        "\n",
        "# Create the waveform_generator using a LAL Binary Neutron Star source function\n",
        "waveform_generator = bilby.gw.WaveformGenerator(\n",
        "    duration=duration,\n",
        "    sampling_frequency=sampling_frequency,\n",
        "    frequency_domain_source_model=bilby.gw.source.lal_binary_neutron_star,\n",
        "    parameter_conversion=bilby.gw.conversion.convert_to_lal_binary_neutron_star_parameters,\n",
        "    waveform_arguments=waveform_arguments,\n",
        ")"
      ]
    },
    {
      "cell_type": "markdown",
      "id": "40bc751b",
      "metadata": {
        "id": "40bc751b"
      },
      "source": [
        "## Inject the signal into the detector"
      ]
    },
    {
      "cell_type": "code",
      "execution_count": 6,
      "id": "e7821506",
      "metadata": {
        "colab": {
          "base_uri": "https://localhost:8080/"
        },
        "id": "e7821506",
        "outputId": "ddd6c377-6234-49de-908d-441541514847"
      },
      "outputs": [
        {
          "name": "stderr",
          "output_type": "stream",
          "text": [
            "/home/vaishakprasad/soft/anaconda/envs/igwn-py310/lib/python3.10/site-packages/bilby/gw/source.py:528: UserWarning: Wswiglal-redir-stdio:\n",
            "\n",
            "SWIGLAL standard output/error redirection is enabled in IPython.\n",
            "This may lead to performance penalties. To disable locally, use:\n",
            "\n",
            "with lal.no_swig_redirect_standard_output_error():\n",
            "    ...\n",
            "\n",
            "To disable globally, use:\n",
            "\n",
            "lal.swig_redirect_standard_output_error(False)\n",
            "\n",
            "Note however that this will likely lead to error messages from\n",
            "LAL functions being either misdirected or lost when called from\n",
            "Jupyter notebooks.\n",
            "\n",
            "To suppress this warning, use:\n",
            "\n",
            "import warnings\n",
            "warnings.filterwarnings(\"ignore\", \"Wswiglal-redir-stdio\")\n",
            "import lal\n",
            "\n",
            "  import lal\n",
            "12:12 bilby INFO    : Injected signal in H1:\n",
            "12:12 bilby INFO    :   optimal SNR = 34.44\n",
            "12:12 bilby INFO    :   matched filter SNR = 33.89-0.55j\n",
            "12:12 bilby INFO    :   mass_1 = 1.5\n",
            "12:12 bilby INFO    :   mass_2 = 1.3\n",
            "12:12 bilby INFO    :   chi_1 = 0.02\n",
            "12:12 bilby INFO    :   chi_2 = 0.02\n",
            "12:12 bilby INFO    :   luminosity_distance = 50.0\n",
            "12:12 bilby INFO    :   theta_jn = 0.4\n",
            "12:12 bilby INFO    :   psi = 2.659\n",
            "12:12 bilby INFO    :   phase = 1.3\n",
            "12:12 bilby INFO    :   geocent_time = 1126259642.413\n",
            "12:12 bilby INFO    :   ra = 1.375\n",
            "12:12 bilby INFO    :   dec = -1.2108\n",
            "12:12 bilby INFO    :   lambda_1 = 545\n",
            "12:12 bilby INFO    :   lambda_2 = 1346\n",
            "12:12 bilby INFO    :   fiducial = 1\n",
            "12:12 bilby INFO    : Injected signal in L1:\n",
            "12:12 bilby INFO    :   optimal SNR = 27.88\n",
            "12:12 bilby INFO    :   matched filter SNR = 27.90+0.23j\n",
            "12:12 bilby INFO    :   mass_1 = 1.5\n",
            "12:12 bilby INFO    :   mass_2 = 1.3\n",
            "12:12 bilby INFO    :   chi_1 = 0.02\n",
            "12:12 bilby INFO    :   chi_2 = 0.02\n",
            "12:12 bilby INFO    :   luminosity_distance = 50.0\n",
            "12:12 bilby INFO    :   theta_jn = 0.4\n",
            "12:12 bilby INFO    :   psi = 2.659\n",
            "12:12 bilby INFO    :   phase = 1.3\n",
            "12:12 bilby INFO    :   geocent_time = 1126259642.413\n",
            "12:12 bilby INFO    :   ra = 1.375\n",
            "12:12 bilby INFO    :   dec = -1.2108\n",
            "12:12 bilby INFO    :   lambda_1 = 545\n",
            "12:12 bilby INFO    :   lambda_2 = 1346\n",
            "12:12 bilby INFO    :   fiducial = 1\n",
            "12:12 bilby INFO    : Injected signal in V1:\n",
            "12:12 bilby INFO    :   optimal SNR = 29.56\n",
            "12:12 bilby INFO    :   matched filter SNR = 29.93-0.22j\n",
            "12:12 bilby INFO    :   mass_1 = 1.5\n",
            "12:12 bilby INFO    :   mass_2 = 1.3\n",
            "12:12 bilby INFO    :   chi_1 = 0.02\n",
            "12:12 bilby INFO    :   chi_2 = 0.02\n",
            "12:12 bilby INFO    :   luminosity_distance = 50.0\n",
            "12:12 bilby INFO    :   theta_jn = 0.4\n",
            "12:12 bilby INFO    :   psi = 2.659\n",
            "12:12 bilby INFO    :   phase = 1.3\n",
            "12:12 bilby INFO    :   geocent_time = 1126259642.413\n",
            "12:12 bilby INFO    :   ra = 1.375\n",
            "12:12 bilby INFO    :   dec = -1.2108\n",
            "12:12 bilby INFO    :   lambda_1 = 545\n",
            "12:12 bilby INFO    :   lambda_2 = 1346\n",
            "12:12 bilby INFO    :   fiducial = 1\n"
          ]
        },
        {
          "data": {
            "text/plain": [
              "[{'plus': array([ 0.00000000e+00-0.00000000e+00j,  0.00000000e+00-0.00000000e+00j,\n",
              "          0.00000000e+00-0.00000000e+00j, ...,\n",
              "         -4.23008636e-25+7.98210938e-26j, -4.23011798e-25+7.97089719e-26j,\n",
              "          0.00000000e+00-0.00000000e+00j]),\n",
              "  'cross': array([0.00000000e+00+0.00000000e+00j, 0.00000000e+00+0.00000000e+00j,\n",
              "         0.00000000e+00+0.00000000e+00j, ...,\n",
              "         7.95519924e-26+4.21582544e-25j, 7.94402485e-26+4.21585695e-25j,\n",
              "         0.00000000e+00+0.00000000e+00j])},\n",
              " {'plus': array([ 0.00000000e+00-0.00000000e+00j,  0.00000000e+00-0.00000000e+00j,\n",
              "          0.00000000e+00-0.00000000e+00j, ...,\n",
              "         -4.23008636e-25+7.98210938e-26j, -4.23011798e-25+7.97089719e-26j,\n",
              "          0.00000000e+00-0.00000000e+00j]),\n",
              "  'cross': array([0.00000000e+00+0.00000000e+00j, 0.00000000e+00+0.00000000e+00j,\n",
              "         0.00000000e+00+0.00000000e+00j, ...,\n",
              "         7.95519924e-26+4.21582544e-25j, 7.94402485e-26+4.21585695e-25j,\n",
              "         0.00000000e+00+0.00000000e+00j])},\n",
              " {'plus': array([ 0.00000000e+00-0.00000000e+00j,  0.00000000e+00-0.00000000e+00j,\n",
              "          0.00000000e+00-0.00000000e+00j, ...,\n",
              "         -4.23008636e-25+7.98210938e-26j, -4.23011798e-25+7.97089719e-26j,\n",
              "          0.00000000e+00-0.00000000e+00j]),\n",
              "  'cross': array([0.00000000e+00+0.00000000e+00j, 0.00000000e+00+0.00000000e+00j,\n",
              "         0.00000000e+00+0.00000000e+00j, ...,\n",
              "         7.95519924e-26+4.21582544e-25j, 7.94402485e-26+4.21585695e-25j,\n",
              "         0.00000000e+00+0.00000000e+00j])}]"
            ]
          },
          "execution_count": 6,
          "metadata": {},
          "output_type": "execute_result"
        }
      ],
      "source": [
        "\n",
        "# Set up interferometers.  In this case we'll use three interferometers\n",
        "# (LIGO-Hanford (H1), LIGO-Livingston (L1), and Virgo (V1)).\n",
        "# These default to their design sensitivity and start at 40 Hz.\n",
        "interferometers = bilby.gw.detector.InterferometerList([\"H1\", \"L1\", \"V1\"])\n",
        "for interferometer in interferometers:\n",
        "    interferometer.minimum_frequency = 40\n",
        "interferometers.set_strain_data_from_power_spectral_densities(\n",
        "    sampling_frequency=sampling_frequency, duration=duration, start_time=start_time\n",
        ")\n",
        "interferometers.inject_signal(\n",
        "    parameters=injection_parameters, waveform_generator=waveform_generator\n",
        ")"
      ]
    },
    {
      "cell_type": "markdown",
      "id": "3ed74fcd",
      "metadata": {
        "id": "3ed74fcd"
      },
      "source": [
        "## Define the priors"
      ]
    },
    {
      "cell_type": "code",
      "execution_count": 7,
      "id": "ba738974",
      "metadata": {
        "colab": {
          "base_uri": "https://localhost:8080/"
        },
        "id": "ba738974",
        "outputId": "cd1e99c2-6449-442f-fdef-2a9ac9bde43c"
      },
      "outputs": [
        {
          "name": "stderr",
          "output_type": "stream",
          "text": [
            "12:12 bilby INFO    : No prior given, using default BNS priors in /home/vaishakprasad/soft/anaconda/envs/igwn-py310/lib/python3.10/site-packages/bilby/gw/prior_files/aligned_spins_bns_tides_on.prior.\n"
          ]
        }
      ],
      "source": [
        "\n",
        "# Load the default prior for binary neutron stars.\n",
        "# We're going to sample in chirp_mass, symmetric_mass_ratio, lambda_tilde, and\n",
        "# delta_lambda_tilde rather than mass_1, mass_2, lambda_1, and lambda_2.\n",
        "# BNS have aligned spins by default, if you want to allow precessing spins\n",
        "# pass aligned_spin=False to the BNSPriorDict\n",
        "priors = bilby.gw.prior.BNSPriorDict()\n",
        "for key in [\n",
        "    \"psi\",\n",
        "    \"geocent_time\",\n",
        "    \"ra\",\n",
        "    \"dec\",\n",
        "    \"chi_1\",\n",
        "    \"chi_2\",\n",
        "    \"theta_jn\",\n",
        "    \"luminosity_distance\",\n",
        "    \"phase\",\n",
        "#    \"lambda_1\",\n",
        "#    'lambda_2'\n",
        "]:\n",
        "    priors[key] = injection_parameters[key]\n",
        "\n",
        "del priors[\"mass_ratio\"], priors[\"lambda_1\"], priors[\"lambda_2\"]\n",
        "priors[\"chirp_mass\"] = bilby.core.prior.Gaussian(\n",
        "    1.215, 0.1, name=\"chirp_mass\", unit=\"$M_{\\\\odot}$\"\n",
        ")\n",
        "priors[\"symmetric_mass_ratio\"] = bilby.core.prior.Uniform(\n",
        "    0.1, 0.25, name=\"symmetric_mass_ratio\"\n",
        ")\n",
        "priors[\"lambda_tilde\"] = bilby.core.prior.Uniform(0, 5000, name=\"lambda_tilde\")\n",
        "priors[\"delta_lambda_tilde\"] = bilby.core.prior.Uniform(\n",
        "    -500, 1000, name=\"delta_lambda_tilde\"\n",
        ")\n",
        "priors[\"lambda_1\"] = bilby.core.prior.Constraint(\n",
        "    name=\"lambda_1\", minimum=0, maximum=10000\n",
        ")\n",
        "priors[\"lambda_2\"] = bilby.core.prior.Constraint(\n",
        "    name=\"lambda_2\", minimum=0, maximum=10000\n",
        ")"
      ]
    },
    {
      "cell_type": "code",
      "execution_count": 8,
      "id": "e1ef020b",
      "metadata": {
        "id": "e1ef020b",
        "outputId": "c885c282-2147-4f00-c66f-1506b9c34059"
      },
      "outputs": [
        {
          "data": {
            "text/plain": [
              "{'mass_1': Constraint(minimum=0.5, maximum=5, name='mass_1', latex_label='$m_1$', unit=None),\n",
              " 'mass_2': Constraint(minimum=0.5, maximum=5, name='mass_2', latex_label='$m_2$', unit=None),\n",
              " 'chirp_mass': Gaussian(mu=1.215, sigma=0.1, name='chirp_mass', latex_label='$\\\\mathcal{M}$', unit='$M_{\\\\odot}$', boundary=None),\n",
              " 'luminosity_distance': 50.0,\n",
              " 'dec': -1.2108,\n",
              " 'ra': 1.375,\n",
              " 'theta_jn': 0.4,\n",
              " 'psi': 2.659,\n",
              " 'phase': 1.3,\n",
              " 'chi_1': 0.02,\n",
              " 'chi_2': 0.02,\n",
              " 'geocent_time': 1126259642.413,\n",
              " 'symmetric_mass_ratio': Uniform(minimum=0.1, maximum=0.25, name='symmetric_mass_ratio', latex_label='$\\\\eta$', unit=None, boundary=None),\n",
              " 'lambda_tilde': Uniform(minimum=0, maximum=5000, name='lambda_tilde', latex_label='$\\\\tilde{\\\\Lambda}$', unit=None, boundary=None),\n",
              " 'delta_lambda_tilde': Uniform(minimum=-500, maximum=1000, name='delta_lambda_tilde', latex_label='$\\\\delta\\\\tilde{\\\\Lambda}$', unit=None, boundary=None),\n",
              " 'lambda_1': Constraint(minimum=0, maximum=10000, name='lambda_1', latex_label='$\\\\Lambda_1$', unit=None),\n",
              " 'lambda_2': Constraint(minimum=0, maximum=10000, name='lambda_2', latex_label='$\\\\Lambda_2$', unit=None)}"
            ]
          },
          "execution_count": 8,
          "metadata": {},
          "output_type": "execute_result"
        }
      ],
      "source": [
        "priors"
      ]
    },
    {
      "cell_type": "markdown",
      "id": "17a7adb0",
      "metadata": {
        "id": "17a7adb0"
      },
      "source": [
        "## Initialize the likelihood"
      ]
    },
    {
      "cell_type": "code",
      "execution_count": 9,
      "id": "a91b0485",
      "metadata": {
        "colab": {
          "base_uri": "https://localhost:8080/"
        },
        "id": "a91b0485",
        "outputId": "f1341111-77fc-485b-b0c2-e1e1a95a68fb"
      },
      "outputs": [
        {
          "name": "stderr",
          "output_type": "stream",
          "text": [
            "12:12 bilby INFO    : Running for label 'bns_4parama', output will be saved to 'bns_outdir'\n",
            "12:12 bilby INFO    : Performing redundancy check using BBHPriorDict(self).test_redundancy\n",
            "12:12 bilby INFO    : Performing redundancy check using BBHPriorDict(self).test_redundancy\n",
            "12:12 bilby INFO    : Performing redundancy check using BBHPriorDict(self).test_redundancy\n",
            "12:12 bilby INFO    : Performing redundancy check using BBHPriorDict(self).test_redundancy\n",
            "12:12 bilby INFO    : Performing redundancy check using BBHPriorDict(self).test_redundancy\n",
            "12:12 bilby INFO    : Performing redundancy check using BBHPriorDict(self).test_redundancy\n",
            "12:12 bilby INFO    : Performing redundancy check using BBHPriorDict(self).test_redundancy\n",
            "12:12 bilby INFO    : Performing redundancy check using BBHPriorDict(self).test_redundancy\n",
            "12:12 bilby INFO    : Performing redundancy check using BBHPriorDict(self).test_redundancy\n",
            "12:12 bilby INFO    : Performing redundancy check using BBHPriorDict(self).test_redundancy\n",
            "12:12 bilby INFO    : Performing redundancy check using BBHPriorDict(self).test_redundancy\n",
            "12:12 bilby INFO    : Performing redundancy check using BBHPriorDict(self).test_redundancy\n",
            "12:12 bilby INFO    : Performing redundancy check using BBHPriorDict(self).test_redundancy\n",
            "12:12 bilby INFO    : Performing redundancy check using BBHPriorDict(self).test_redundancy\n",
            "12:12 bilby INFO    : Performing redundancy check using BBHPriorDict(self).test_redundancy\n",
            "12:12 bilby INFO    : Performing redundancy check using BBHPriorDict(self).test_redundancy\n",
            "12:12 bilby INFO    : Performing redundancy check using BBHPriorDict(self).test_redundancy\n",
            "12:12 bilby INFO    : Using lal version 7.6.1\n",
            "12:12 bilby INFO    : Using lal git version Branch: None;Tag: lal-v7.6.1;Id: 31af23159ed7c6557180f58ad3f39a06e5a08731;;Builder: Adam Mercer <adam.mercer@ligo.org>;Repository status: CLEAN: All modifications committed\n",
            "12:12 bilby INFO    : Using lalsimulation version 6.1.0\n",
            "12:12 bilby INFO    : Using lalsimulation git version Branch: None;Tag: lalsimulation-v6.1.0;Id: 8041734408377ca999821f7e372e2a02e9226e6b;;Builder: Adam Mercer <adam.mercer@ligo.org>;Repository status: CLEAN: All modifications committed\n",
            "/home/vaishakprasad/soft/anaconda/envs/igwn-py310/lib/python3.10/site-packages/bilby/core/utils/log.py:73: UserWarning: The '__version__' attribute is deprecated and will be removed in MarkupSafe 3.1. Use feature detection, or `importlib.metadata.version(\"markupsafe\")`, instead.\n",
            "  vdict[key] = str(getattr(sys.modules[key], \"__version__\", \"N/A\"))\n",
            "12:12 bilby INFO    : Analysis priors:\n",
            "12:12 bilby INFO    : chirp_mass=Gaussian(mu=1.215, sigma=0.1, name='chirp_mass', latex_label='$\\\\mathcal{M}$', unit='$M_{\\\\odot}$', boundary=None)\n",
            "12:12 bilby INFO    : symmetric_mass_ratio=Uniform(minimum=0.1, maximum=0.25, name='symmetric_mass_ratio', latex_label='$\\\\eta$', unit=None, boundary=None)\n",
            "12:12 bilby INFO    : lambda_tilde=Uniform(minimum=0, maximum=5000, name='lambda_tilde', latex_label='$\\\\tilde{\\\\Lambda}$', unit=None, boundary=None)\n",
            "12:12 bilby INFO    : delta_lambda_tilde=Uniform(minimum=-500, maximum=1000, name='delta_lambda_tilde', latex_label='$\\\\delta\\\\tilde{\\\\Lambda}$', unit=None, boundary=None)\n",
            "12:12 bilby INFO    : mass_1=Constraint(minimum=0.5, maximum=5, name='mass_1', latex_label='$m_1$', unit=None)\n",
            "12:12 bilby INFO    : mass_2=Constraint(minimum=0.5, maximum=5, name='mass_2', latex_label='$m_2$', unit=None)\n",
            "12:12 bilby INFO    : lambda_1=Constraint(minimum=0, maximum=10000, name='lambda_1', latex_label='$\\\\Lambda_1$', unit=None)\n",
            "12:12 bilby INFO    : lambda_2=Constraint(minimum=0, maximum=10000, name='lambda_2', latex_label='$\\\\Lambda_2$', unit=None)\n",
            "12:12 bilby INFO    : luminosity_distance=50.0\n",
            "12:12 bilby INFO    : dec=-1.2108\n",
            "12:12 bilby INFO    : ra=1.375\n",
            "12:12 bilby INFO    : theta_jn=0.4\n",
            "12:12 bilby INFO    : psi=2.659\n",
            "12:12 bilby INFO    : phase=1.3\n",
            "12:12 bilby INFO    : chi_1=0.02\n",
            "12:12 bilby INFO    : chi_2=0.02\n",
            "12:12 bilby INFO    : geocent_time=1126259642.413\n",
            "12:12 bilby INFO    : Analysis likelihood class: <class 'bilby.gw.likelihood.base.GravitationalWaveTransient'>\n",
            "12:12 bilby INFO    : Analysis likelihood noise evidence: -95975.55352101159\n",
            "12:12 bilby INFO    : Single likelihood evaluation took 1.934e-02 s\n",
            "12:12 bilby INFO    : Using sampler Nestle with kwargs {'method': 'multi', 'npoints': 100, 'update_interval': None, 'npdim': None, 'maxiter': None, 'maxcall': None, 'dlogz': None, 'decline_factor': None, 'rstate': None, 'callback': <function print_progress at 0x7f7b7cf443a0>, 'steps': 20, 'enlarge': 1.2}\n"
          ]
        },
        {
          "name": "stdout",
          "output_type": "stream",
          "text": [
            "\u001b[Kit=  2493 logz=1388.116466500000052504760255204420248704468581108159154915854115511802457988908195786371375080447864043704443832883878176942523235360430575644792184786706982848387200926575803737830233794788090059368953234970799945081119038967640880074652742780142494579258788820056842838115669472196386865459400540160.000000\n"
          ]
        },
        {
          "name": "stderr",
          "output_type": "stream",
          "text": [
            "12:16 bilby INFO    : Sampling time: 0:04:02.388039\n",
            "12:16 bilby INFO    : Computing per-detector log likelihoods.\n"
          ]
        },
        {
          "data": {
            "application/vnd.jupyter.widget-view+json": {
              "model_id": "3249616e52bd40ffba0e79d1d9900895",
              "version_major": 2,
              "version_minor": 0
            },
            "text/plain": [
              "  0%|          | 0/2594 [00:00<?, ?it/s]"
            ]
          },
          "metadata": {},
          "output_type": "display_data"
        },
        {
          "name": "stderr",
          "output_type": "stream",
          "text": [
            "12:16 bilby INFO    : Generating sky frame parameters.\n"
          ]
        },
        {
          "data": {
            "application/vnd.jupyter.widget-view+json": {
              "model_id": "a7cafbbc7fb74bdbb41305ef87ec0c0b",
              "version_major": 2,
              "version_minor": 0
            },
            "text/plain": [
              "  0%|          | 0/2594 [00:00<?, ?it/s]"
            ]
          },
          "metadata": {},
          "output_type": "display_data"
        },
        {
          "name": "stderr",
          "output_type": "stream",
          "text": [
            "12:16 bilby INFO    : Computing SNRs for every sample.\n"
          ]
        },
        {
          "data": {
            "application/vnd.jupyter.widget-view+json": {
              "model_id": "b471e7dae025438bb9ddc33ae6ae918b",
              "version_major": 2,
              "version_minor": 0
            },
            "text/plain": [
              "  0%|          | 0/2594 [00:00<?, ?it/s]"
            ]
          },
          "metadata": {},
          "output_type": "display_data"
        },
        {
          "name": "stderr",
          "output_type": "stream",
          "text": [
            "12:17 bilby INFO    : Summary of results:\n",
            "nsamples: 2594\n",
            "ln_noise_evidence: -95975.554\n",
            "ln_evidence: -94587.069 +/-  0.477\n",
            "ln_bayes_factor: 1388.485 +/-  0.477\n",
            "\n"
          ]
        }
      ],
      "source": [
        "# Initialise the likelihood by passing in the interferometer data (IFOs)\n",
        "# and the waveform generator\n",
        "likelihood = bilby.gw.likelihood.GravitationalWaveTransient(\n",
        "    interferometers=interferometers,\n",
        "    waveform_generator=waveform_generator,\n",
        ")\n",
        "\n",
        "# Run sampler.  In this case we're going to use the `nestle` sampler\n",
        "result = bilby.run_sampler(\n",
        "    likelihood=likelihood,\n",
        "    priors=priors,\n",
        "    sampler=\"nestle\",\n",
        "    npoints=100,\n",
        "    injection_parameters=injection_parameters,\n",
        "    outdir=outdir,\n",
        "    label=label,\n",
        "    conversion_function=bilby.gw.conversion.generate_all_bns_parameters,\n",
        "    result_class=bilby.gw.result.CBCResult,\n",
        "    #bound='multi'\n",
        ")"
      ]
    },
    {
      "cell_type": "code",
      "execution_count": null,
      "id": "1d9bbcfa",
      "metadata": {
        "id": "1d9bbcfa"
      },
      "outputs": [],
      "source": []
    },
    {
      "cell_type": "code",
      "execution_count": 10,
      "id": "5c760ddd",
      "metadata": {
        "id": "5c760ddd"
      },
      "outputs": [],
      "source": [
        "all_injection_parameters = bilby.gw.conversion.generate_all_bns_parameters(injection_parameters)"
      ]
    },
    {
      "cell_type": "code",
      "execution_count": 11,
      "id": "e8c12907",
      "metadata": {
        "id": "e8c12907",
        "outputId": "ad8e359c-de44-4144-ea61-c36edaa050da"
      },
      "outputs": [
        {
          "data": {
            "text/html": [
              "<div>\n",
              "<style scoped>\n",
              "    .dataframe tbody tr th:only-of-type {\n",
              "        vertical-align: middle;\n",
              "    }\n",
              "\n",
              "    .dataframe tbody tr th {\n",
              "        vertical-align: top;\n",
              "    }\n",
              "\n",
              "    .dataframe thead th {\n",
              "        text-align: right;\n",
              "    }\n",
              "</style>\n",
              "<table border=\"1\" class=\"dataframe\">\n",
              "  <thead>\n",
              "    <tr style=\"text-align: right;\">\n",
              "      <th></th>\n",
              "      <th>chirp_mass</th>\n",
              "      <th>symmetric_mass_ratio</th>\n",
              "      <th>lambda_tilde</th>\n",
              "      <th>delta_lambda_tilde</th>\n",
              "      <th>luminosity_distance</th>\n",
              "      <th>dec</th>\n",
              "      <th>ra</th>\n",
              "      <th>theta_jn</th>\n",
              "      <th>psi</th>\n",
              "      <th>phase</th>\n",
              "      <th>...</th>\n",
              "      <th>chi_eff</th>\n",
              "      <th>chi_1_in_plane</th>\n",
              "      <th>chi_2_in_plane</th>\n",
              "      <th>chi_p</th>\n",
              "      <th>redshift</th>\n",
              "      <th>comoving_distance</th>\n",
              "      <th>mass_1_source</th>\n",
              "      <th>mass_2_source</th>\n",
              "      <th>chirp_mass_source</th>\n",
              "      <th>total_mass_source</th>\n",
              "    </tr>\n",
              "  </thead>\n",
              "  <tbody>\n",
              "    <tr>\n",
              "      <th>0</th>\n",
              "      <td>1.215040</td>\n",
              "      <td>0.248792</td>\n",
              "      <td>856.614878</td>\n",
              "      <td>314.500565</td>\n",
              "      <td>50.0</td>\n",
              "      <td>-1.2108</td>\n",
              "      <td>1.375</td>\n",
              "      <td>0.4</td>\n",
              "      <td>2.659</td>\n",
              "      <td>1.3</td>\n",
              "      <td>...</td>\n",
              "      <td>0.02</td>\n",
              "      <td>0.0</td>\n",
              "      <td>0.0</td>\n",
              "      <td>0.0</td>\n",
              "      <td>0.011202</td>\n",
              "      <td>49.446114</td>\n",
              "      <td>1.480492</td>\n",
              "      <td>1.288048</td>\n",
              "      <td>1.201580</td>\n",
              "      <td>2.768540</td>\n",
              "    </tr>\n",
              "    <tr>\n",
              "      <th>1</th>\n",
              "      <td>1.215079</td>\n",
              "      <td>0.248708</td>\n",
              "      <td>873.717058</td>\n",
              "      <td>230.389672</td>\n",
              "      <td>50.0</td>\n",
              "      <td>-1.2108</td>\n",
              "      <td>1.375</td>\n",
              "      <td>0.4</td>\n",
              "      <td>2.659</td>\n",
              "      <td>1.3</td>\n",
              "      <td>...</td>\n",
              "      <td>0.02</td>\n",
              "      <td>0.0</td>\n",
              "      <td>0.0</td>\n",
              "      <td>0.0</td>\n",
              "      <td>0.011202</td>\n",
              "      <td>49.446114</td>\n",
              "      <td>1.484118</td>\n",
              "      <td>1.285070</td>\n",
              "      <td>1.201619</td>\n",
              "      <td>2.769188</td>\n",
              "    </tr>\n",
              "    <tr>\n",
              "      <th>2</th>\n",
              "      <td>1.215089</td>\n",
              "      <td>0.249110</td>\n",
              "      <td>860.139304</td>\n",
              "      <td>358.748430</td>\n",
              "      <td>50.0</td>\n",
              "      <td>-1.2108</td>\n",
              "      <td>1.375</td>\n",
              "      <td>0.4</td>\n",
              "      <td>2.659</td>\n",
              "      <td>1.3</td>\n",
              "      <td>...</td>\n",
              "      <td>0.02</td>\n",
              "      <td>0.0</td>\n",
              "      <td>0.0</td>\n",
              "      <td>0.0</td>\n",
              "      <td>0.011202</td>\n",
              "      <td>49.446114</td>\n",
              "      <td>1.465784</td>\n",
              "      <td>1.300744</td>\n",
              "      <td>1.201628</td>\n",
              "      <td>2.766528</td>\n",
              "    </tr>\n",
              "    <tr>\n",
              "      <th>3</th>\n",
              "      <td>1.214971</td>\n",
              "      <td>0.248427</td>\n",
              "      <td>871.185738</td>\n",
              "      <td>175.477314</td>\n",
              "      <td>50.0</td>\n",
              "      <td>-1.2108</td>\n",
              "      <td>1.375</td>\n",
              "      <td>0.4</td>\n",
              "      <td>2.659</td>\n",
              "      <td>1.3</td>\n",
              "      <td>...</td>\n",
              "      <td>0.02</td>\n",
              "      <td>0.0</td>\n",
              "      <td>0.0</td>\n",
              "      <td>0.0</td>\n",
              "      <td>0.011202</td>\n",
              "      <td>49.446114</td>\n",
              "      <td>1.495294</td>\n",
              "      <td>1.275527</td>\n",
              "      <td>1.201512</td>\n",
              "      <td>2.770822</td>\n",
              "    </tr>\n",
              "    <tr>\n",
              "      <th>4</th>\n",
              "      <td>1.215047</td>\n",
              "      <td>0.248811</td>\n",
              "      <td>858.254852</td>\n",
              "      <td>101.278016</td>\n",
              "      <td>50.0</td>\n",
              "      <td>-1.2108</td>\n",
              "      <td>1.375</td>\n",
              "      <td>0.4</td>\n",
              "      <td>2.659</td>\n",
              "      <td>1.3</td>\n",
              "      <td>...</td>\n",
              "      <td>0.02</td>\n",
              "      <td>0.0</td>\n",
              "      <td>0.0</td>\n",
              "      <td>0.0</td>\n",
              "      <td>0.011202</td>\n",
              "      <td>49.446114</td>\n",
              "      <td>1.479695</td>\n",
              "      <td>1.288738</td>\n",
              "      <td>1.201587</td>\n",
              "      <td>2.768432</td>\n",
              "    </tr>\n",
              "    <tr>\n",
              "      <th>...</th>\n",
              "      <td>...</td>\n",
              "      <td>...</td>\n",
              "      <td>...</td>\n",
              "      <td>...</td>\n",
              "      <td>...</td>\n",
              "      <td>...</td>\n",
              "      <td>...</td>\n",
              "      <td>...</td>\n",
              "      <td>...</td>\n",
              "      <td>...</td>\n",
              "      <td>...</td>\n",
              "      <td>...</td>\n",
              "      <td>...</td>\n",
              "      <td>...</td>\n",
              "      <td>...</td>\n",
              "      <td>...</td>\n",
              "      <td>...</td>\n",
              "      <td>...</td>\n",
              "      <td>...</td>\n",
              "      <td>...</td>\n",
              "      <td>...</td>\n",
              "    </tr>\n",
              "    <tr>\n",
              "      <th>2589</th>\n",
              "      <td>1.215044</td>\n",
              "      <td>0.248752</td>\n",
              "      <td>869.682576</td>\n",
              "      <td>-163.466733</td>\n",
              "      <td>50.0</td>\n",
              "      <td>-1.2108</td>\n",
              "      <td>1.375</td>\n",
              "      <td>0.4</td>\n",
              "      <td>2.659</td>\n",
              "      <td>1.3</td>\n",
              "      <td>...</td>\n",
              "      <td>0.02</td>\n",
              "      <td>0.0</td>\n",
              "      <td>0.0</td>\n",
              "      <td>0.0</td>\n",
              "      <td>0.011202</td>\n",
              "      <td>49.446114</td>\n",
              "      <td>1.482226</td>\n",
              "      <td>1.286591</td>\n",
              "      <td>1.201584</td>\n",
              "      <td>2.768817</td>\n",
              "    </tr>\n",
              "    <tr>\n",
              "      <th>2590</th>\n",
              "      <td>1.215044</td>\n",
              "      <td>0.248752</td>\n",
              "      <td>869.682576</td>\n",
              "      <td>-163.466733</td>\n",
              "      <td>50.0</td>\n",
              "      <td>-1.2108</td>\n",
              "      <td>1.375</td>\n",
              "      <td>0.4</td>\n",
              "      <td>2.659</td>\n",
              "      <td>1.3</td>\n",
              "      <td>...</td>\n",
              "      <td>0.02</td>\n",
              "      <td>0.0</td>\n",
              "      <td>0.0</td>\n",
              "      <td>0.0</td>\n",
              "      <td>0.011202</td>\n",
              "      <td>49.446114</td>\n",
              "      <td>1.482226</td>\n",
              "      <td>1.286591</td>\n",
              "      <td>1.201584</td>\n",
              "      <td>2.768817</td>\n",
              "    </tr>\n",
              "    <tr>\n",
              "      <th>2591</th>\n",
              "      <td>1.215044</td>\n",
              "      <td>0.248752</td>\n",
              "      <td>869.682576</td>\n",
              "      <td>-163.466733</td>\n",
              "      <td>50.0</td>\n",
              "      <td>-1.2108</td>\n",
              "      <td>1.375</td>\n",
              "      <td>0.4</td>\n",
              "      <td>2.659</td>\n",
              "      <td>1.3</td>\n",
              "      <td>...</td>\n",
              "      <td>0.02</td>\n",
              "      <td>0.0</td>\n",
              "      <td>0.0</td>\n",
              "      <td>0.0</td>\n",
              "      <td>0.011202</td>\n",
              "      <td>49.446114</td>\n",
              "      <td>1.482226</td>\n",
              "      <td>1.286591</td>\n",
              "      <td>1.201584</td>\n",
              "      <td>2.768817</td>\n",
              "    </tr>\n",
              "    <tr>\n",
              "      <th>2592</th>\n",
              "      <td>1.215044</td>\n",
              "      <td>0.248752</td>\n",
              "      <td>869.682576</td>\n",
              "      <td>-163.466733</td>\n",
              "      <td>50.0</td>\n",
              "      <td>-1.2108</td>\n",
              "      <td>1.375</td>\n",
              "      <td>0.4</td>\n",
              "      <td>2.659</td>\n",
              "      <td>1.3</td>\n",
              "      <td>...</td>\n",
              "      <td>0.02</td>\n",
              "      <td>0.0</td>\n",
              "      <td>0.0</td>\n",
              "      <td>0.0</td>\n",
              "      <td>0.011202</td>\n",
              "      <td>49.446114</td>\n",
              "      <td>1.482226</td>\n",
              "      <td>1.286591</td>\n",
              "      <td>1.201584</td>\n",
              "      <td>2.768817</td>\n",
              "    </tr>\n",
              "    <tr>\n",
              "      <th>2593</th>\n",
              "      <td>1.215044</td>\n",
              "      <td>0.248752</td>\n",
              "      <td>869.682576</td>\n",
              "      <td>-163.466733</td>\n",
              "      <td>50.0</td>\n",
              "      <td>-1.2108</td>\n",
              "      <td>1.375</td>\n",
              "      <td>0.4</td>\n",
              "      <td>2.659</td>\n",
              "      <td>1.3</td>\n",
              "      <td>...</td>\n",
              "      <td>0.02</td>\n",
              "      <td>0.0</td>\n",
              "      <td>0.0</td>\n",
              "      <td>0.0</td>\n",
              "      <td>0.011202</td>\n",
              "      <td>49.446114</td>\n",
              "      <td>1.482226</td>\n",
              "      <td>1.286591</td>\n",
              "      <td>1.201584</td>\n",
              "      <td>2.768817</td>\n",
              "    </tr>\n",
              "  </tbody>\n",
              "</table>\n",
              "<p>2594 rows × 60 columns</p>\n",
              "</div>"
            ],
            "text/plain": [
              "      chirp_mass  symmetric_mass_ratio  lambda_tilde  delta_lambda_tilde  \\\n",
              "0       1.215040              0.248792    856.614878          314.500565   \n",
              "1       1.215079              0.248708    873.717058          230.389672   \n",
              "2       1.215089              0.249110    860.139304          358.748430   \n",
              "3       1.214971              0.248427    871.185738          175.477314   \n",
              "4       1.215047              0.248811    858.254852          101.278016   \n",
              "...          ...                   ...           ...                 ...   \n",
              "2589    1.215044              0.248752    869.682576         -163.466733   \n",
              "2590    1.215044              0.248752    869.682576         -163.466733   \n",
              "2591    1.215044              0.248752    869.682576         -163.466733   \n",
              "2592    1.215044              0.248752    869.682576         -163.466733   \n",
              "2593    1.215044              0.248752    869.682576         -163.466733   \n",
              "\n",
              "      luminosity_distance     dec     ra  theta_jn    psi  phase  ...  \\\n",
              "0                    50.0 -1.2108  1.375       0.4  2.659    1.3  ...   \n",
              "1                    50.0 -1.2108  1.375       0.4  2.659    1.3  ...   \n",
              "2                    50.0 -1.2108  1.375       0.4  2.659    1.3  ...   \n",
              "3                    50.0 -1.2108  1.375       0.4  2.659    1.3  ...   \n",
              "4                    50.0 -1.2108  1.375       0.4  2.659    1.3  ...   \n",
              "...                   ...     ...    ...       ...    ...    ...  ...   \n",
              "2589                 50.0 -1.2108  1.375       0.4  2.659    1.3  ...   \n",
              "2590                 50.0 -1.2108  1.375       0.4  2.659    1.3  ...   \n",
              "2591                 50.0 -1.2108  1.375       0.4  2.659    1.3  ...   \n",
              "2592                 50.0 -1.2108  1.375       0.4  2.659    1.3  ...   \n",
              "2593                 50.0 -1.2108  1.375       0.4  2.659    1.3  ...   \n",
              "\n",
              "      chi_eff  chi_1_in_plane  chi_2_in_plane  chi_p  redshift  \\\n",
              "0        0.02             0.0             0.0    0.0  0.011202   \n",
              "1        0.02             0.0             0.0    0.0  0.011202   \n",
              "2        0.02             0.0             0.0    0.0  0.011202   \n",
              "3        0.02             0.0             0.0    0.0  0.011202   \n",
              "4        0.02             0.0             0.0    0.0  0.011202   \n",
              "...       ...             ...             ...    ...       ...   \n",
              "2589     0.02             0.0             0.0    0.0  0.011202   \n",
              "2590     0.02             0.0             0.0    0.0  0.011202   \n",
              "2591     0.02             0.0             0.0    0.0  0.011202   \n",
              "2592     0.02             0.0             0.0    0.0  0.011202   \n",
              "2593     0.02             0.0             0.0    0.0  0.011202   \n",
              "\n",
              "      comoving_distance mass_1_source  mass_2_source  chirp_mass_source  \\\n",
              "0             49.446114      1.480492       1.288048           1.201580   \n",
              "1             49.446114      1.484118       1.285070           1.201619   \n",
              "2             49.446114      1.465784       1.300744           1.201628   \n",
              "3             49.446114      1.495294       1.275527           1.201512   \n",
              "4             49.446114      1.479695       1.288738           1.201587   \n",
              "...                 ...           ...            ...                ...   \n",
              "2589          49.446114      1.482226       1.286591           1.201584   \n",
              "2590          49.446114      1.482226       1.286591           1.201584   \n",
              "2591          49.446114      1.482226       1.286591           1.201584   \n",
              "2592          49.446114      1.482226       1.286591           1.201584   \n",
              "2593          49.446114      1.482226       1.286591           1.201584   \n",
              "\n",
              "      total_mass_source  \n",
              "0              2.768540  \n",
              "1              2.769188  \n",
              "2              2.766528  \n",
              "3              2.770822  \n",
              "4              2.768432  \n",
              "...                 ...  \n",
              "2589           2.768817  \n",
              "2590           2.768817  \n",
              "2591           2.768817  \n",
              "2592           2.768817  \n",
              "2593           2.768817  \n",
              "\n",
              "[2594 rows x 60 columns]"
            ]
          },
          "execution_count": 11,
          "metadata": {},
          "output_type": "execute_result"
        }
      ],
      "source": [
        "result.posterior"
      ]
    },
    {
      "cell_type": "code",
      "execution_count": 12,
      "id": "73bd7ea0",
      "metadata": {
        "id": "73bd7ea0"
      },
      "outputs": [],
      "source": [
        "truths = {}\n",
        "\n",
        "#for key in [\"chirp_mass\", \"symmetric_mass_ratio\"]:\n",
        "for key in [\"chirp_mass\", \"symmetric_mass_ratio\", \"lambda_tilde\"]:\n",
        "#for key in [\"chirp_mass\"]:\n",
        "    truths.update({key : all_injection_parameters[key]})"
      ]
    },
    {
      "cell_type": "code",
      "execution_count": 13,
      "id": "b2f25ab6",
      "metadata": {
        "id": "b2f25ab6",
        "outputId": "eab2ac3e-1857-4161-faf7-cccf3bd3053f"
      },
      "outputs": [
        {
          "data": {
            "text/plain": [
              "{'chirp_mass': 1.2150360414642816,\n",
              " 'symmetric_mass_ratio': 0.24872448979591844,\n",
              " 'lambda_tilde': 867.9931562541493}"
            ]
          },
          "execution_count": 13,
          "metadata": {},
          "output_type": "execute_result"
        }
      ],
      "source": [
        "truths"
      ]
    },
    {
      "cell_type": "code",
      "execution_count": 14,
      "id": "d066a626",
      "metadata": {
        "id": "d066a626",
        "outputId": "61502e3e-b6df-427f-8857-359b6902b75a"
      },
      "outputs": [
        {
          "data": {
            "image/png": "[encoded data removed]",
            "text/plain": [
              "<Figure size 760x760 with 9 Axes>"
            ]
          },
          "execution_count": 14,
          "metadata": {},
          "output_type": "execute_result"
        }
      ],
      "source": [
        "result.plot_corner(truths=truths)"
      ]
    },
    {
      "cell_type": "code",
      "execution_count": null,
      "id": "e21ab080",
      "metadata": {},
      "outputs": [],
      "source": []
    }
  ],
  "metadata": {
    "colab": {
      "provenance": []
    },
    "kernelspec": {
      "display_name": "igwn-py310",
      "language": "python",
      "name": "python3"
    },
    "language_info": {
      "codemirror_mode": {
        "name": "ipython",
        "version": 3
      },
      "file_extension": ".py",
      "mimetype": "text/x-python",
      "name": "python",
      "nbconvert_exporter": "python",
      "pygments_lexer": "ipython3",
      "version": "3.10.16"
    }
  },
  "nbformat": 4,
  "nbformat_minor": 5
}
