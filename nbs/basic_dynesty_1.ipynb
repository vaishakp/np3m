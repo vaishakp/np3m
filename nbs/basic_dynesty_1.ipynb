{
 "cells": [
  {
   "cell_type": "markdown",
   "id": "67c56649",
   "metadata": {},
   "source": [
    "## Collab setup"
   ]
  },
  {
   "cell_type": "code",
   "execution_count": null,
   "id": "38329b1c",
   "metadata": {},
   "outputs": [],
   "source": [
    "!pip install pycbc lalsuite bilby nestle gwpopulation matplotlib"
   ]
  },
  {
   "cell_type": "markdown",
   "id": "84cc37af",
   "metadata": {},
   "source": [
    "## PC setup\n",
    "\n",
    "### Using anaconda/miniconda\n",
    "`conda env create -f environment.yaml`\n",
    "\n",
    "`conda activate np3m`\n",
    "\n",
    "OR\n",
    "\n",
    "### Using pip\n",
    "Create a python virtual environment and \n",
    "`pip install -r requirements.txt`"
   ]
  },
  {
   "cell_type": "code",
   "execution_count": null,
   "id": "79ee842c",
   "metadata": {},
   "outputs": [],
   "source": [
    "import numpy as np\n",
    "import matplotlib.pyplot as plt\n",
    "import dynesty\n",
    "from dynesty import DynamicNestedSampler"
   ]
  },
  {
   "cell_type": "markdown",
   "id": "111c91a5",
   "metadata": {},
   "source": [
    "# Define the model"
   ]
  },
  {
   "cell_type": "code",
   "execution_count": null,
   "id": "89710134",
   "metadata": {},
   "outputs": [],
   "source": [
    "def linear_model(x, parameters):\n",
    "\n",
    "    m, c = parameters\n",
    "    return m*x + c\n",
    "\n",
    "\n",
    "def quadratic_model(x, parameters):\n",
    "\n",
    "    a, b, c = parameters\n",
    "    return a*x**2 + b*x + c\n",
    "\n"
   ]
  },
  {
   "cell_type": "markdown",
   "id": "b89deb6c",
   "metadata": {},
   "source": [
    "# Create mock data"
   ]
  },
  {
   "cell_type": "code",
   "execution_count": null,
   "id": "fc5c6c9d",
   "metadata": {},
   "outputs": [],
   "source": [
    "Npoints = 1000\n",
    "\n",
    "x = np.linspace(1, 4, Npoints)\n",
    "\n",
    "sigma = 6\n",
    "\n",
    "noise = sigma*np.random.randn(Npoints)\n",
    "m0, c0 = 5, -4\n",
    "\n",
    "l_truths  = np.array([m0, c0])\n",
    "\n",
    "signal = linear_model(x, l_truths)\n",
    "\n",
    "data = signal + noise\n",
    "\n",
    "\n",
    "plt.scatter(x, data, s=1)\n",
    "plt.plot(x, signal, c='red')\n",
    "plt.show()"
   ]
  },
  {
   "cell_type": "markdown",
   "id": "cbbcc904",
   "metadata": {},
   "source": [
    "# Define likelihood and prior"
   ]
  },
  {
   "cell_type": "code",
   "execution_count": null,
   "id": "ab7737b5",
   "metadata": {},
   "outputs": [],
   "source": [
    "class SimpleLikelihoodModel:\n",
    "    def __init__(self, x, data, model):\n",
    "        self.x = x\n",
    "        self.data = data\n",
    "        self.model  = model\n",
    "\n",
    "\n",
    "    def loglikelihood(self, parameters):\n",
    "\n",
    "        prediction = self.model(self.x, parameters)\n",
    "\n",
    "        return -0.5* np.sum ( ((self.data - prediction)/sigma)**2)\n",
    "    "
   ]
  },
  {
   "cell_type": "markdown",
   "id": "73fdfd06",
   "metadata": {},
   "source": [
    "# Setup sampler"
   ]
  },
  {
   "cell_type": "code",
   "execution_count": null,
   "id": "6227ef87",
   "metadata": {},
   "outputs": [],
   "source": [
    "def l_priors(parameters_t):\n",
    "\n",
    "    m_t, c_t = parameters_t\n",
    "\n",
    "    m = 10*m_t\n",
    "    c = -10 + 20*c_t\n",
    "\n",
    "    return np.array([m, c])\n",
    "\n",
    "\n",
    "slm = SimpleLikelihoodModel(x=x,\n",
    "                            data=data,\n",
    "                            model=linear_model)\n",
    "\n",
    "l_sampler = DynamicNestedSampler(loglikelihood=slm.loglikelihood,\n",
    "                               prior_transform=l_priors,\n",
    "                               nlive=100,\n",
    "                               ndim=2)\n",
    "\n"
   ]
  },
  {
   "cell_type": "code",
   "execution_count": null,
   "id": "6ec46e3d",
   "metadata": {},
   "outputs": [],
   "source": [
    "\n",
    "l_sampler.run_nested()"
   ]
  },
  {
   "cell_type": "code",
   "execution_count": null,
   "id": "e7ec825b",
   "metadata": {},
   "outputs": [],
   "source": [
    "from dynesty.plotting import cornerplot, traceplot, runplot"
   ]
  },
  {
   "cell_type": "code",
   "execution_count": null,
   "id": "5338095f",
   "metadata": {},
   "outputs": [],
   "source": [
    "runplot(l_sampler.results)"
   ]
  },
  {
   "cell_type": "code",
   "execution_count": null,
   "id": "d9bba229",
   "metadata": {},
   "outputs": [],
   "source": [
    "traceplot(l_sampler.results, truths=l_truths)"
   ]
  },
  {
   "cell_type": "code",
   "execution_count": null,
   "id": "69a65e06",
   "metadata": {},
   "outputs": [],
   "source": [
    "cornerplot(l_sampler.results, truths=l_truths)"
   ]
  },
  {
   "cell_type": "code",
   "execution_count": null,
   "id": "b64ce78c",
   "metadata": {},
   "outputs": [],
   "source": [
    "n1 = int(0.68*len(l_sampler.results.samples))\n",
    "\n",
    "samples = l_sampler.results.samples\n",
    "logl = l_sampler.results.logl\n",
    "order = np.argsort(logl)[::-1]\n",
    "\n",
    "rlogl = logl[order]\n",
    "rsamples = samples[order]\n",
    "\n",
    "\n",
    "fsamples = []\n",
    "for idx in range(n1):\n",
    "    fsamples.append(rsamples[idx])\n",
    "\n",
    "fsamples = np.array(fsamples)"
   ]
  },
  {
   "cell_type": "code",
   "execution_count": null,
   "id": "f16595ac",
   "metadata": {},
   "outputs": [],
   "source": [
    "fsamples[:, 0]"
   ]
  },
  {
   "cell_type": "code",
   "execution_count": null,
   "id": "8d1e68b3",
   "metadata": {},
   "outputs": [],
   "source": [
    "fig, ax = plt.subplots(figsize=(18, 12))\n",
    "\n",
    "\n",
    "for sample in fsamples:\n",
    "    ax.plot(x, linear_model(x, sample), c='cyan', alpha=0.1)\n",
    "\n",
    "ax.grid()\n",
    "ax.plot(x, linear_model(x, l_truths), c='magenta')\n",
    "plt.show()"
   ]
  },
  {
   "cell_type": "code",
   "execution_count": null,
   "id": "a07a6873",
   "metadata": {},
   "outputs": [],
   "source": [
    "ev_l = l_sampler.results.logz[-1]"
   ]
  },
  {
   "cell_type": "code",
   "execution_count": null,
   "id": "9e751825",
   "metadata": {},
   "outputs": [],
   "source": []
  },
  {
   "cell_type": "markdown",
   "id": "013b7ab8",
   "metadata": {},
   "source": [
    "## Quadratic model"
   ]
  },
  {
   "cell_type": "code",
   "execution_count": null,
   "id": "1f9d418c",
   "metadata": {},
   "outputs": [],
   "source": [
    "def q_priors(parameters_t):\n",
    "\n",
    "    a_t, b_t, c_t = parameters_t\n",
    "\n",
    "    a = -10 + 20*a_t\n",
    "    b = -10 + 20*b_t\n",
    "    c = -10 + 20*c_t\n",
    "\n",
    "    return np.array([a, b, c])\n",
    "\n",
    "\n",
    "sqm = SimpleLikelihoodModel(x=x,\n",
    "                            data=data,\n",
    "                            model=quadratic_model)\n",
    "\n",
    "q_sampler = DynamicNestedSampler(loglikelihood=sqm.loglikelihood,\n",
    "                               prior_transform=q_priors,\n",
    "                               nlive=100,\n",
    "                               ndim=3)\n"
   ]
  },
  {
   "cell_type": "code",
   "execution_count": null,
   "id": "46a907b1",
   "metadata": {},
   "outputs": [],
   "source": [
    "\n",
    "q_sampler.run_nested()"
   ]
  },
  {
   "cell_type": "code",
   "execution_count": null,
   "id": "a163134e",
   "metadata": {},
   "outputs": [],
   "source": [
    "traceplot(q_sampler.results, truths=[0, m0, c0])"
   ]
  },
  {
   "cell_type": "code",
   "execution_count": null,
   "id": "aaad10f5",
   "metadata": {},
   "outputs": [],
   "source": [
    "cornerplot(q_sampler.results, truths=[0, m0, c0])"
   ]
  },
  {
   "cell_type": "code",
   "execution_count": null,
   "id": "10de8bf1",
   "metadata": {},
   "outputs": [],
   "source": [
    "ev_q = q_sampler.results.logz[-1]"
   ]
  },
  {
   "cell_type": "code",
   "execution_count": null,
   "id": "06dec8c7",
   "metadata": {},
   "outputs": [],
   "source": [
    "logB = ev_l - ev_q"
   ]
  },
  {
   "cell_type": "code",
   "execution_count": null,
   "id": "fc902870",
   "metadata": {},
   "outputs": [],
   "source": [
    "B = 10**(logB)\n",
    "\n",
    "print(B)"
   ]
  },
  {
   "cell_type": "code",
   "execution_count": null,
   "id": "6e998b38",
   "metadata": {},
   "outputs": [],
   "source": []
  }
 ],
 "metadata": {
  "kernelspec": {
   "display_name": "igwn-py310",
   "language": "python",
   "name": "python3"
  },
  "language_info": {
   "codemirror_mode": {
    "name": "ipython",
    "version": 3
   },
   "file_extension": ".py",
   "mimetype": "text/x-python",
   "name": "python",
   "nbconvert_exporter": "python",
   "pygments_lexer": "ipython3",
   "version": "3.10.16"
  }
 },
 "nbformat": 4,
 "nbformat_minor": 5
}
