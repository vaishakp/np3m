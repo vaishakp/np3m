{
 "cells": [
  {
   "cell_type": "markdown",
   "id": "fcf1e246",
   "metadata": {
    "vscode": {
     "languageId": "plaintext"
    }
   },
   "source": [
    "# BNS 2 param example \n",
    "\n",
    "\n",
    "Parameter estimation on a binary neutron star\n",
    "system taking into account tidal deformabilities.\n",
    "\n",
    "\n",
    "## Fixed parameters\n",
    "\n",
    "1. Extrinsic\n",
    "    1. Polarization angle `psi`, \n",
    "    1. Sky location `ra`, `dec`,\n",
    "    1. Signal's arrival time at geocenter `geocent_time`,\n",
    "    1. Orbital / coalescence `phase`,\n",
    "    1. Inclination angle `theta_jn`\n",
    "    1. Luminosity distance `luminosity_distance`\n",
    "1. Intrinsic\n",
    "    1. Spin components `a_1`, `a_2`, `tilt_1`, `tilt_2`, `phi_12`, `phi_jl`\n",
    "    1. Tidal deformabilities `lambda_1`, `lambda_2`\n",
    "\n",
    "##  To sample over\n",
    "1. Intrinsic:\n",
    "    1. Component masses `m_1`, `m_2` in terms of `symmetric_mass_ratio`, `chirp_mass`\n",
    "    \\begin{equation}\n",
    "     \\eta = \\dfrac{m_1 m_2}{(m_1 + m_2)^2} \\qquad,\\,\\, \\mathcal{M} = \\dfrac{(m_1 * m_2)^{3/5}}{(m_1 + m_2)^{1/5}}\n",
    "    \\end{equation}\n",
    "## Priors\n",
    "1. Uniform in (component masses)\n",
    "1. Uniform in comoving volume prior on luminosity distance (100Mpc, 5Gpc)"
   ]
  },
  {
   "cell_type": "code",
   "execution_count": 1,
   "id": "b640a860",
   "metadata": {},
   "outputs": [
    {
     "name": "stderr",
     "output_type": "stream",
     "text": [
      "/home/vaishakprasad/soft/anaconda/envs/igwn-py310/lib/python3.10/site-packages/pandas/core/computation/expressions.py:21: UserWarning: Pandas requires version '2.8.4' or newer of 'numexpr' (version '2.7.3' currently installed).\n",
      "  from pandas.core.computation.check import NUMEXPR_INSTALLED\n"
     ]
    }
   ],
   "source": [
    "import bilby\n",
    "from bilby.core.utils.random import seed\n",
    "\n",
    "# Sets seed of bilby's generator \"rng\" to \"123\" to ensure reproducibility\n",
    "seed(123)\n",
    "\n",
    "# Specify the output directory and the name of the simulation.\n",
    "outdir = \"bns_outdir\"\n",
    "label = \"bns_2param_rb\"\n",
    "bilby.core.utils.setup_logger(outdir=outdir, label=label)"
   ]
  },
  {
   "cell_type": "markdown",
   "id": "a4125e71",
   "metadata": {},
   "source": [
    "## Injection parameters"
   ]
  },
  {
   "cell_type": "code",
   "execution_count": 2,
   "id": "8777581b",
   "metadata": {},
   "outputs": [],
   "source": [
    "\n",
    "# We are going to inject a binary neutron star waveform.  We first establish a\n",
    "# dictionary of parameters that includes all of the different waveform\n",
    "# parameters, including masses of the two black holes (mass_1, mass_2),\n",
    "# aligned spins of both black holes (chi_1, chi_2), etc.\n",
    "injection_parameters = dict(\n",
    "    mass_1=1.5,\n",
    "    mass_2=1.3,\n",
    "    chi_1=0.02,\n",
    "    chi_2=0.02,\n",
    "    luminosity_distance=50.0,\n",
    "    theta_jn=0.4,\n",
    "    psi=2.659,\n",
    "    phase=1.3,\n",
    "    geocent_time=1126259642.413,\n",
    "    ra=1.375,\n",
    "    dec=-1.2108,\n",
    "    lambda_1=545,\n",
    "    lambda_2=1346,\n",
    "    fiducial=1\n",
    ")\n"
   ]
  },
  {
   "cell_type": "markdown",
   "id": "468fb8d7",
   "metadata": {},
   "source": [
    "## Data sampling parameters"
   ]
  },
  {
   "cell_type": "code",
   "execution_count": 3,
   "id": "3f9cf114",
   "metadata": {},
   "outputs": [],
   "source": [
    "\n",
    "# Set the duration and sampling frequency of the data segment that we're going\n",
    "# to inject the signal into. For the\n",
    "# TaylorF2 waveform, we cut the signal close to the isco frequency\n",
    "duration = 32\n",
    "sampling_frequency = 2048\n",
    "start_time = injection_parameters[\"geocent_time\"] + 2 - duration"
   ]
  },
  {
   "cell_type": "markdown",
   "id": "1fedbbe0",
   "metadata": {},
   "source": [
    "# Waveform generator"
   ]
  },
  {
   "cell_type": "code",
   "execution_count": 4,
   "id": "d586e119",
   "metadata": {},
   "outputs": [
    {
     "name": "stderr",
     "output_type": "stream",
     "text": [
      "16:22 bilby INFO    : Waveform generator initiated with\n",
      "  frequency_domain_source_model: bilby.gw.source.lal_binary_neutron_star_relative_binning\n",
      "  time_domain_source_model: None\n",
      "  parameter_conversion: bilby.gw.conversion.convert_to_lal_binary_neutron_star_parameters\n"
     ]
    }
   ],
   "source": [
    "\n",
    "# Fixed arguments passed into the source model. The analysis starts at 40 Hz.\n",
    "waveform_arguments = dict(\n",
    "    waveform_approximant=\"IMRPhenomPv2_NRTidal\",\n",
    "    reference_frequency=50.0,\n",
    "    minimum_frequency=40.0,\n",
    ")\n",
    "\n",
    "# Create the waveform_generator using a LAL Binary Neutron Star source function\n",
    "waveform_generator = bilby.gw.WaveformGenerator(\n",
    "    duration=duration,\n",
    "    sampling_frequency=sampling_frequency,\n",
    "    frequency_domain_source_model=bilby.gw.source.lal_binary_neutron_star_relative_binning,\n",
    "    parameter_conversion=bilby.gw.conversion.convert_to_lal_binary_neutron_star_parameters,\n",
    "    waveform_arguments=waveform_arguments,\n",
    ")"
   ]
  },
  {
   "cell_type": "markdown",
   "id": "40bc751b",
   "metadata": {},
   "source": [
    "## Inject the signal into the detector"
   ]
  },
  {
   "cell_type": "code",
   "execution_count": 5,
   "id": "e7821506",
   "metadata": {},
   "outputs": [
    {
     "name": "stderr",
     "output_type": "stream",
     "text": [
      "/home/vaishakprasad/soft/anaconda/envs/igwn-py310/lib/python3.10/site-packages/bilby/gw/source.py:528: UserWarning: Wswiglal-redir-stdio:\n",
      "\n",
      "SWIGLAL standard output/error redirection is enabled in IPython.\n",
      "This may lead to performance penalties. To disable locally, use:\n",
      "\n",
      "with lal.no_swig_redirect_standard_output_error():\n",
      "    ...\n",
      "\n",
      "To disable globally, use:\n",
      "\n",
      "lal.swig_redirect_standard_output_error(False)\n",
      "\n",
      "Note however that this will likely lead to error messages from\n",
      "LAL functions being either misdirected or lost when called from\n",
      "Jupyter notebooks.\n",
      "\n",
      "To suppress this warning, use:\n",
      "\n",
      "import warnings\n",
      "warnings.filterwarnings(\"ignore\", \"Wswiglal-redir-stdio\")\n",
      "import lal\n",
      "\n",
      "  import lal\n",
      "16:23 bilby INFO    : Injected signal in H1:\n",
      "16:23 bilby INFO    :   optimal SNR = 34.44\n",
      "16:23 bilby INFO    :   matched filter SNR = 33.89-0.55j\n",
      "16:23 bilby INFO    :   mass_1 = 1.5\n",
      "16:23 bilby INFO    :   mass_2 = 1.3\n",
      "16:23 bilby INFO    :   chi_1 = 0.02\n",
      "16:23 bilby INFO    :   chi_2 = 0.02\n",
      "16:23 bilby INFO    :   luminosity_distance = 50.0\n",
      "16:23 bilby INFO    :   theta_jn = 0.4\n",
      "16:23 bilby INFO    :   psi = 2.659\n",
      "16:23 bilby INFO    :   phase = 1.3\n",
      "16:23 bilby INFO    :   geocent_time = 1126259642.413\n",
      "16:23 bilby INFO    :   ra = 1.375\n",
      "16:23 bilby INFO    :   dec = -1.2108\n",
      "16:23 bilby INFO    :   lambda_1 = 545\n",
      "16:23 bilby INFO    :   lambda_2 = 1346\n",
      "16:23 bilby INFO    :   fiducial = 1\n",
      "16:23 bilby INFO    : Injected signal in L1:\n",
      "16:23 bilby INFO    :   optimal SNR = 27.88\n",
      "16:23 bilby INFO    :   matched filter SNR = 27.90+0.23j\n",
      "16:23 bilby INFO    :   mass_1 = 1.5\n",
      "16:23 bilby INFO    :   mass_2 = 1.3\n",
      "16:23 bilby INFO    :   chi_1 = 0.02\n",
      "16:23 bilby INFO    :   chi_2 = 0.02\n",
      "16:23 bilby INFO    :   luminosity_distance = 50.0\n",
      "16:23 bilby INFO    :   theta_jn = 0.4\n",
      "16:23 bilby INFO    :   psi = 2.659\n",
      "16:23 bilby INFO    :   phase = 1.3\n",
      "16:23 bilby INFO    :   geocent_time = 1126259642.413\n",
      "16:23 bilby INFO    :   ra = 1.375\n",
      "16:23 bilby INFO    :   dec = -1.2108\n",
      "16:23 bilby INFO    :   lambda_1 = 545\n",
      "16:23 bilby INFO    :   lambda_2 = 1346\n",
      "16:23 bilby INFO    :   fiducial = 1\n",
      "16:23 bilby INFO    : Injected signal in V1:\n",
      "16:23 bilby INFO    :   optimal SNR = 29.56\n",
      "16:23 bilby INFO    :   matched filter SNR = 29.93-0.22j\n",
      "16:23 bilby INFO    :   mass_1 = 1.5\n",
      "16:23 bilby INFO    :   mass_2 = 1.3\n",
      "16:23 bilby INFO    :   chi_1 = 0.02\n",
      "16:23 bilby INFO    :   chi_2 = 0.02\n",
      "16:23 bilby INFO    :   luminosity_distance = 50.0\n",
      "16:23 bilby INFO    :   theta_jn = 0.4\n",
      "16:23 bilby INFO    :   psi = 2.659\n",
      "16:23 bilby INFO    :   phase = 1.3\n",
      "16:23 bilby INFO    :   geocent_time = 1126259642.413\n",
      "16:23 bilby INFO    :   ra = 1.375\n",
      "16:23 bilby INFO    :   dec = -1.2108\n",
      "16:23 bilby INFO    :   lambda_1 = 545\n",
      "16:23 bilby INFO    :   lambda_2 = 1346\n",
      "16:23 bilby INFO    :   fiducial = 1\n"
     ]
    },
    {
     "data": {
      "text/plain": [
       "[{'plus': array([ 0.00000000e+00-0.00000000e+00j,  0.00000000e+00-0.00000000e+00j,\n",
       "          0.00000000e+00-0.00000000e+00j, ...,\n",
       "         -4.23008636e-25+7.98210938e-26j, -4.23011798e-25+7.97089719e-26j,\n",
       "          0.00000000e+00-0.00000000e+00j]),\n",
       "  'cross': array([0.00000000e+00+0.00000000e+00j, 0.00000000e+00+0.00000000e+00j,\n",
       "         0.00000000e+00+0.00000000e+00j, ...,\n",
       "         7.95519924e-26+4.21582544e-25j, 7.94402485e-26+4.21585695e-25j,\n",
       "         0.00000000e+00+0.00000000e+00j])},\n",
       " {'plus': array([ 0.00000000e+00-0.00000000e+00j,  0.00000000e+00-0.00000000e+00j,\n",
       "          0.00000000e+00-0.00000000e+00j, ...,\n",
       "         -4.23008636e-25+7.98210938e-26j, -4.23011798e-25+7.97089719e-26j,\n",
       "          0.00000000e+00-0.00000000e+00j]),\n",
       "  'cross': array([0.00000000e+00+0.00000000e+00j, 0.00000000e+00+0.00000000e+00j,\n",
       "         0.00000000e+00+0.00000000e+00j, ...,\n",
       "         7.95519924e-26+4.21582544e-25j, 7.94402485e-26+4.21585695e-25j,\n",
       "         0.00000000e+00+0.00000000e+00j])},\n",
       " {'plus': array([ 0.00000000e+00-0.00000000e+00j,  0.00000000e+00-0.00000000e+00j,\n",
       "          0.00000000e+00-0.00000000e+00j, ...,\n",
       "         -4.23008636e-25+7.98210938e-26j, -4.23011798e-25+7.97089719e-26j,\n",
       "          0.00000000e+00-0.00000000e+00j]),\n",
       "  'cross': array([0.00000000e+00+0.00000000e+00j, 0.00000000e+00+0.00000000e+00j,\n",
       "         0.00000000e+00+0.00000000e+00j, ...,\n",
       "         7.95519924e-26+4.21582544e-25j, 7.94402485e-26+4.21585695e-25j,\n",
       "         0.00000000e+00+0.00000000e+00j])}]"
      ]
     },
     "execution_count": 5,
     "metadata": {},
     "output_type": "execute_result"
    }
   ],
   "source": [
    "\n",
    "# Set up interferometers.  In this case we'll use three interferometers\n",
    "# (LIGO-Hanford (H1), LIGO-Livingston (L1), and Virgo (V1)).\n",
    "# These default to their design sensitivity and start at 40 Hz.\n",
    "interferometers = bilby.gw.detector.InterferometerList([\"H1\", \"L1\", \"V1\"])\n",
    "for interferometer in interferometers:\n",
    "    interferometer.minimum_frequency = 40\n",
    "interferometers.set_strain_data_from_power_spectral_densities(\n",
    "    sampling_frequency=sampling_frequency, duration=duration, start_time=start_time\n",
    ")\n",
    "interferometers.inject_signal(\n",
    "    parameters=injection_parameters, waveform_generator=waveform_generator\n",
    ")"
   ]
  },
  {
   "cell_type": "markdown",
   "id": "3ed74fcd",
   "metadata": {},
   "source": [
    "## Define the priors"
   ]
  },
  {
   "cell_type": "code",
   "execution_count": 6,
   "id": "ba738974",
   "metadata": {},
   "outputs": [
    {
     "name": "stderr",
     "output_type": "stream",
     "text": [
      "16:23 bilby INFO    : No prior given, using default BNS priors in /home/vaishakprasad/soft/anaconda/envs/igwn-py310/lib/python3.10/site-packages/bilby/gw/prior_files/aligned_spins_bns_tides_on.prior.\n"
     ]
    }
   ],
   "source": [
    "\n",
    "# Load the default prior for binary neutron stars.\n",
    "# We're going to sample in chirp_mass, symmetric_mass_ratio, lambda_tilde, and\n",
    "# delta_lambda_tilde rather than mass_1, mass_2, lambda_1, and lambda_2.\n",
    "# BNS have aligned spins by default, if you want to allow precessing spins\n",
    "# pass aligned_spin=False to the BNSPriorDict\n",
    "priors = bilby.gw.prior.BNSPriorDict()\n",
    "for key in [\n",
    "    \"psi\",\n",
    "    \"geocent_time\",\n",
    "    \"ra\",\n",
    "    \"dec\",\n",
    "    \"chi_1\",\n",
    "    \"chi_2\",\n",
    "    \"theta_jn\",\n",
    "    \"luminosity_distance\",\n",
    "    \"phase\",\n",
    "    \"lambda_1\",\n",
    "    'lambda_2'\n",
    "]:\n",
    "    priors[key] = injection_parameters[key]\n",
    "\n",
    "# Reparametrize in terms of symmetric mass ratio and chirp mass\n",
    "#del priors[\"mass_ratio\"], priors[\"lambda_1\"], priors[\"lambda_2\"]\n",
    "\n",
    "#del priors[\"lambda_1\"], priors[\"lambda_2\"]\n",
    "\n",
    "#priors[\"chirp_mass\"] = bilby.core.prior.Gaussian(\n",
    "#    1.215, 0.1, name=\"chirp_mass\", unit=\"$M_{\\\\odot}$\"\n",
    "#)\n",
    "#priors[\"symmetric_mass_ratio\"] = bilby.core.prior.Uniform(\n",
    "#    0.1, 0.25, name=\"symmetric_mass_ratio\"\n",
    "#)"
   ]
  },
  {
   "cell_type": "code",
   "execution_count": 7,
   "id": "e1ef020b",
   "metadata": {},
   "outputs": [
    {
     "data": {
      "text/plain": [
       "{'mass_1': Constraint(minimum=0.5, maximum=5, name='mass_1', latex_label='$m_1$', unit=None),\n",
       " 'mass_2': Constraint(minimum=0.5, maximum=5, name='mass_2', latex_label='$m_2$', unit=None),\n",
       " 'mass_ratio': bilby.gw.prior.UniformInComponentsMassRatio(minimum=0.125, maximum=1, name='mass_ratio', latex_label='$q$', unit=None, boundary=None, equal_mass=False),\n",
       " 'chirp_mass': bilby.gw.prior.UniformInComponentsChirpMass(minimum=0.4, maximum=4.4, name='chirp_mass', latex_label='$\\\\mathcal{M}$', unit=None, boundary=None),\n",
       " 'luminosity_distance': 50.0,\n",
       " 'dec': -1.2108,\n",
       " 'ra': 1.375,\n",
       " 'theta_jn': 0.4,\n",
       " 'psi': 2.659,\n",
       " 'phase': 1.3,\n",
       " 'chi_1': 0.02,\n",
       " 'chi_2': 0.02,\n",
       " 'lambda_1': 545,\n",
       " 'lambda_2': 1346,\n",
       " 'geocent_time': 1126259642.413}"
      ]
     },
     "execution_count": 7,
     "metadata": {},
     "output_type": "execute_result"
    }
   ],
   "source": [
    "priors"
   ]
  },
  {
   "cell_type": "markdown",
   "id": "17a7adb0",
   "metadata": {},
   "source": [
    "## Initialize the likelihood"
   ]
  },
  {
   "cell_type": "code",
   "execution_count": 9,
   "id": "a91b0485",
   "metadata": {},
   "outputs": [
    {
     "name": "stderr",
     "output_type": "stream",
     "text": [
      "16:25 bilby INFO    : Initial fiducial waveforms set up\n",
      "16:25 bilby INFO    : Summary Data Obtained\n",
      "16:25 bilby INFO    : Fiducial likelihood: 1411.25\n",
      "16:25 bilby INFO    : Running for label 'bns_2param_rb', output will be saved to 'bns_outdir'\n",
      "16:25 bilby INFO    : Performing redundancy check using BBHPriorDict(self).test_redundancy\n",
      "16:25 bilby WARNING : Parameter fiducial has no default prior and is set to 0, this will not be sampled and may cause an error.\n",
      "16:25 bilby INFO    : Performing redundancy check using BBHPriorDict(self).test_redundancy\n",
      "16:25 bilby INFO    : Performing redundancy check using BBHPriorDict(self).test_redundancy\n",
      "16:25 bilby INFO    : Performing redundancy check using BBHPriorDict(self).test_redundancy\n",
      "16:25 bilby INFO    : Performing redundancy check using BBHPriorDict(self).test_redundancy\n",
      "16:25 bilby INFO    : Performing redundancy check using BBHPriorDict(self).test_redundancy\n",
      "16:25 bilby INFO    : Performing redundancy check using BBHPriorDict(self).test_redundancy\n",
      "16:25 bilby INFO    : Performing redundancy check using BBHPriorDict(self).test_redundancy\n",
      "16:25 bilby INFO    : Performing redundancy check using BBHPriorDict(self).test_redundancy\n",
      "16:25 bilby INFO    : Performing redundancy check using BBHPriorDict(self).test_redundancy\n",
      "16:25 bilby INFO    : Performing redundancy check using BBHPriorDict(self).test_redundancy\n",
      "16:25 bilby INFO    : Performing redundancy check using BBHPriorDict(self).test_redundancy\n",
      "16:25 bilby INFO    : Performing redundancy check using BBHPriorDict(self).test_redundancy\n",
      "16:25 bilby INFO    : Performing redundancy check using BBHPriorDict(self).test_redundancy\n",
      "16:25 bilby INFO    : Performing redundancy check using BBHPriorDict(self).test_redundancy\n",
      "16:25 bilby INFO    : Performing redundancy check using BBHPriorDict(self).test_redundancy\n",
      "16:25 bilby INFO    : Using lal version 7.6.1\n",
      "16:25 bilby INFO    : Using lal git version Branch: None;Tag: lal-v7.6.1;Id: 31af23159ed7c6557180f58ad3f39a06e5a08731;;Builder: Adam Mercer <adam.mercer@ligo.org>;Repository status: CLEAN: All modifications committed\n",
      "16:25 bilby INFO    : Using lalsimulation version 6.1.0\n",
      "16:25 bilby INFO    : Using lalsimulation git version Branch: None;Tag: lalsimulation-v6.1.0;Id: 8041734408377ca999821f7e372e2a02e9226e6b;;Builder: Adam Mercer <adam.mercer@ligo.org>;Repository status: CLEAN: All modifications committed\n",
      "/home/vaishakprasad/soft/anaconda/envs/igwn-py310/lib/python3.10/site-packages/bilby/core/utils/log.py:73: UserWarning: The '__version__' attribute is deprecated and will be removed in MarkupSafe 3.1. Use feature detection, or `importlib.metadata.version(\"markupsafe\")`, instead.\n",
      "  vdict[key] = str(getattr(sys.modules[key], \"__version__\", \"N/A\"))\n",
      "16:25 bilby INFO    : Analysis priors:\n",
      "16:25 bilby INFO    : mass_ratio=bilby.gw.prior.UniformInComponentsMassRatio(minimum=0.125, maximum=1, name='mass_ratio', latex_label='$q$', unit=None, boundary=None, equal_mass=False)\n",
      "16:25 bilby INFO    : chirp_mass=bilby.gw.prior.UniformInComponentsChirpMass(minimum=0.4, maximum=4.4, name='chirp_mass', latex_label='$\\\\mathcal{M}$', unit=None, boundary=None)\n",
      "16:25 bilby INFO    : mass_1=Constraint(minimum=0.5, maximum=5, name='mass_1', latex_label='$m_1$', unit=None)\n",
      "16:25 bilby INFO    : mass_2=Constraint(minimum=0.5, maximum=5, name='mass_2', latex_label='$m_2$', unit=None)\n",
      "16:25 bilby INFO    : luminosity_distance=50.0\n",
      "16:25 bilby INFO    : dec=-1.2108\n",
      "16:25 bilby INFO    : ra=1.375\n",
      "16:25 bilby INFO    : theta_jn=0.4\n",
      "16:25 bilby INFO    : psi=2.659\n",
      "16:25 bilby INFO    : phase=1.3\n",
      "16:25 bilby INFO    : chi_1=0.02\n",
      "16:25 bilby INFO    : chi_2=0.02\n",
      "16:25 bilby INFO    : lambda_1=545\n",
      "16:25 bilby INFO    : lambda_2=1346\n",
      "16:25 bilby INFO    : geocent_time=1126259642.413\n",
      "16:25 bilby INFO    : Analysis likelihood class: <class 'bilby.gw.likelihood.relative.RelativeBinningGravitationalWaveTransient'>\n",
      "16:25 bilby INFO    : Analysis likelihood noise evidence: -95975.55352101159\n",
      "16:25 bilby INFO    : Single likelihood evaluation took 1.040e-03 s\n",
      "16:25 bilby INFO    : Using sampler Nestle with kwargs {'method': 'multi', 'npoints': 100, 'update_interval': None, 'npdim': None, 'maxiter': None, 'maxcall': None, 'dlogz': None, 'decline_factor': None, 'rstate': None, 'callback': <function print_progress at 0x7f95e8be2b90>, 'steps': 20, 'enlarge': 1.2}\n"
     ]
    },
    {
     "name": "stdout",
     "output_type": "stream",
     "text": [
      "\u001b[Kit=  1943 logz=1393.536327100000052504760255204420248704468581108159154915854115511802457988908195786371375080447864043704443832883878176942523235360430575644792184786706982848387200926575803737830233794788090059368953234970799945081119038967640880074652742780142494579258788820056842838115669472196386865459400540160.000000\n"
     ]
    },
    {
     "name": "stderr",
     "output_type": "stream",
     "text": [
      "16:29 bilby INFO    : Sampling time: 0:04:14.814184\n",
      "16:29 bilby INFO    : Computing per-detector log likelihoods.\n"
     ]
    },
    {
     "data": {
      "application/vnd.jupyter.widget-view+json": {
       "model_id": "8f5229c5cc944397a457fba8e2ff2bb5",
       "version_major": 2,
       "version_minor": 0
      },
      "text/plain": [
       "  0%|          | 0/2044 [00:00<?, ?it/s]"
      ]
     },
     "metadata": {},
     "output_type": "display_data"
    },
    {
     "name": "stderr",
     "output_type": "stream",
     "text": [
      "16:29 bilby INFO    : Generating sky frame parameters.\n"
     ]
    },
    {
     "data": {
      "application/vnd.jupyter.widget-view+json": {
       "model_id": "c489f44012654819b40b7ae9b8720c82",
       "version_major": 2,
       "version_minor": 0
      },
      "text/plain": [
       "  0%|          | 0/2044 [00:00<?, ?it/s]"
      ]
     },
     "metadata": {},
     "output_type": "display_data"
    },
    {
     "name": "stderr",
     "output_type": "stream",
     "text": [
      "16:29 bilby INFO    : Computing SNRs for every sample.\n"
     ]
    },
    {
     "data": {
      "application/vnd.jupyter.widget-view+json": {
       "model_id": "f6738b3759094b23b1ccd1e674c833a2",
       "version_major": 2,
       "version_minor": 0
      },
      "text/plain": [
       "  0%|          | 0/2044 [00:00<?, ?it/s]"
      ]
     },
     "metadata": {},
     "output_type": "display_data"
    },
    {
     "name": "stderr",
     "output_type": "stream",
     "text": [
      "16:29 bilby INFO    : Summary of results:\n",
      "nsamples: 2044\n",
      "ln_noise_evidence: -95975.554\n",
      "ln_evidence: -94581.593 +/-  0.418\n",
      "ln_bayes_factor: 1393.960 +/-  0.418\n",
      "\n"
     ]
    }
   ],
   "source": [
    "# Initialise the likelihood by passing in the interferometer data (IFOs)\n",
    "# and the waveform generator\n",
    "likelihood = bilby.gw.likelihood.RelativeBinningGravitationalWaveTransient(\n",
    "    interferometers=interferometers,\n",
    "    waveform_generator=waveform_generator,\n",
    "    priors=priors,\n",
    "    distance_marginalization=False,\n",
    "    fiducial_parameters=injection_parameters.copy()\n",
    ")\n",
    "\n",
    "# Run sampler.  In this case we're going to use the `nestle` sampler\n",
    "result = bilby.run_sampler(\n",
    "    likelihood=likelihood,\n",
    "    priors=priors,\n",
    "    sampler=\"nestle\",\n",
    "    npoints=100,\n",
    "    injection_parameters=injection_parameters,\n",
    "    outdir=outdir,\n",
    "    label=label,\n",
    "    conversion_function=bilby.gw.conversion.generate_all_bns_parameters,\n",
    "    result_class=bilby.gw.result.CBCResult,\n",
    "    #bound='multi'\n",
    ")"
   ]
  },
  {
   "cell_type": "code",
   "execution_count": 10,
   "id": "5c760ddd",
   "metadata": {},
   "outputs": [],
   "source": [
    "all_injection_parameters = bilby.gw.conversion.generate_all_bns_parameters(injection_parameters)"
   ]
  },
  {
   "cell_type": "code",
   "execution_count": 11,
   "id": "e8c12907",
   "metadata": {},
   "outputs": [
    {
     "data": {
      "text/html": [
       "<div>\n",
       "<style scoped>\n",
       "    .dataframe tbody tr th:only-of-type {\n",
       "        vertical-align: middle;\n",
       "    }\n",
       "\n",
       "    .dataframe tbody tr th {\n",
       "        vertical-align: top;\n",
       "    }\n",
       "\n",
       "    .dataframe thead th {\n",
       "        text-align: right;\n",
       "    }\n",
       "</style>\n",
       "<table border=\"1\" class=\"dataframe\">\n",
       "  <thead>\n",
       "    <tr style=\"text-align: right;\">\n",
       "      <th></th>\n",
       "      <th>mass_ratio</th>\n",
       "      <th>chirp_mass</th>\n",
       "      <th>luminosity_distance</th>\n",
       "      <th>dec</th>\n",
       "      <th>ra</th>\n",
       "      <th>theta_jn</th>\n",
       "      <th>psi</th>\n",
       "      <th>phase</th>\n",
       "      <th>chi_1</th>\n",
       "      <th>chi_2</th>\n",
       "      <th>...</th>\n",
       "      <th>chi_2_in_plane</th>\n",
       "      <th>chi_p</th>\n",
       "      <th>redshift</th>\n",
       "      <th>comoving_distance</th>\n",
       "      <th>mass_1_source</th>\n",
       "      <th>mass_2_source</th>\n",
       "      <th>chirp_mass_source</th>\n",
       "      <th>total_mass_source</th>\n",
       "      <th>lambda_tilde</th>\n",
       "      <th>delta_lambda_tilde</th>\n",
       "    </tr>\n",
       "  </thead>\n",
       "  <tbody>\n",
       "    <tr>\n",
       "      <th>0</th>\n",
       "      <td>0.885108</td>\n",
       "      <td>1.215129</td>\n",
       "      <td>50.0</td>\n",
       "      <td>-1.2108</td>\n",
       "      <td>1.375</td>\n",
       "      <td>0.4</td>\n",
       "      <td>2.659</td>\n",
       "      <td>1.3</td>\n",
       "      <td>0.02</td>\n",
       "      <td>0.02</td>\n",
       "      <td>...</td>\n",
       "      <td>0.0</td>\n",
       "      <td>0.0</td>\n",
       "      <td>0.011202</td>\n",
       "      <td>49.446114</td>\n",
       "      <td>1.467756</td>\n",
       "      <td>1.299123</td>\n",
       "      <td>1.201668</td>\n",
       "      <td>2.766879</td>\n",
       "      <td>877.769163</td>\n",
       "      <td>105.539836</td>\n",
       "    </tr>\n",
       "    <tr>\n",
       "      <th>1</th>\n",
       "      <td>0.866079</td>\n",
       "      <td>1.215068</td>\n",
       "      <td>50.0</td>\n",
       "      <td>-1.2108</td>\n",
       "      <td>1.375</td>\n",
       "      <td>0.4</td>\n",
       "      <td>2.659</td>\n",
       "      <td>1.3</td>\n",
       "      <td>0.02</td>\n",
       "      <td>0.02</td>\n",
       "      <td>...</td>\n",
       "      <td>0.0</td>\n",
       "      <td>0.0</td>\n",
       "      <td>0.011202</td>\n",
       "      <td>49.446114</td>\n",
       "      <td>1.483933</td>\n",
       "      <td>1.285202</td>\n",
       "      <td>1.201607</td>\n",
       "      <td>2.769135</td>\n",
       "      <td>867.687339</td>\n",
       "      <td>94.714829</td>\n",
       "    </tr>\n",
       "    <tr>\n",
       "      <th>2</th>\n",
       "      <td>0.883385</td>\n",
       "      <td>1.215126</td>\n",
       "      <td>50.0</td>\n",
       "      <td>-1.2108</td>\n",
       "      <td>1.375</td>\n",
       "      <td>0.4</td>\n",
       "      <td>2.659</td>\n",
       "      <td>1.3</td>\n",
       "      <td>0.02</td>\n",
       "      <td>0.02</td>\n",
       "      <td>...</td>\n",
       "      <td>0.0</td>\n",
       "      <td>0.0</td>\n",
       "      <td>0.011202</td>\n",
       "      <td>49.446114</td>\n",
       "      <td>1.469201</td>\n",
       "      <td>1.297870</td>\n",
       "      <td>1.201665</td>\n",
       "      <td>2.767071</td>\n",
       "      <td>876.840420</td>\n",
       "      <td>104.564689</td>\n",
       "    </tr>\n",
       "    <tr>\n",
       "      <th>3</th>\n",
       "      <td>0.862963</td>\n",
       "      <td>1.215006</td>\n",
       "      <td>50.0</td>\n",
       "      <td>-1.2108</td>\n",
       "      <td>1.375</td>\n",
       "      <td>0.4</td>\n",
       "      <td>2.659</td>\n",
       "      <td>1.3</td>\n",
       "      <td>0.02</td>\n",
       "      <td>0.02</td>\n",
       "      <td>...</td>\n",
       "      <td>0.0</td>\n",
       "      <td>0.0</td>\n",
       "      <td>0.011202</td>\n",
       "      <td>49.446114</td>\n",
       "      <td>1.486573</td>\n",
       "      <td>1.282858</td>\n",
       "      <td>1.201547</td>\n",
       "      <td>2.769431</td>\n",
       "      <td>866.073664</td>\n",
       "      <td>92.930476</td>\n",
       "    </tr>\n",
       "    <tr>\n",
       "      <th>4</th>\n",
       "      <td>0.881311</td>\n",
       "      <td>1.215089</td>\n",
       "      <td>50.0</td>\n",
       "      <td>-1.2108</td>\n",
       "      <td>1.375</td>\n",
       "      <td>0.4</td>\n",
       "      <td>2.659</td>\n",
       "      <td>1.3</td>\n",
       "      <td>0.02</td>\n",
       "      <td>0.02</td>\n",
       "      <td>...</td>\n",
       "      <td>0.0</td>\n",
       "      <td>0.0</td>\n",
       "      <td>0.011202</td>\n",
       "      <td>49.446114</td>\n",
       "      <td>1.470905</td>\n",
       "      <td>1.296326</td>\n",
       "      <td>1.201628</td>\n",
       "      <td>2.767231</td>\n",
       "      <td>875.727357</td>\n",
       "      <td>103.390349</td>\n",
       "    </tr>\n",
       "    <tr>\n",
       "      <th>...</th>\n",
       "      <td>...</td>\n",
       "      <td>...</td>\n",
       "      <td>...</td>\n",
       "      <td>...</td>\n",
       "      <td>...</td>\n",
       "      <td>...</td>\n",
       "      <td>...</td>\n",
       "      <td>...</td>\n",
       "      <td>...</td>\n",
       "      <td>...</td>\n",
       "      <td>...</td>\n",
       "      <td>...</td>\n",
       "      <td>...</td>\n",
       "      <td>...</td>\n",
       "      <td>...</td>\n",
       "      <td>...</td>\n",
       "      <td>...</td>\n",
       "      <td>...</td>\n",
       "      <td>...</td>\n",
       "      <td>...</td>\n",
       "      <td>...</td>\n",
       "    </tr>\n",
       "    <tr>\n",
       "      <th>2039</th>\n",
       "      <td>0.874143</td>\n",
       "      <td>1.215071</td>\n",
       "      <td>50.0</td>\n",
       "      <td>-1.2108</td>\n",
       "      <td>1.375</td>\n",
       "      <td>0.4</td>\n",
       "      <td>2.659</td>\n",
       "      <td>1.3</td>\n",
       "      <td>0.02</td>\n",
       "      <td>0.02</td>\n",
       "      <td>...</td>\n",
       "      <td>0.0</td>\n",
       "      <td>0.0</td>\n",
       "      <td>0.011202</td>\n",
       "      <td>49.446114</td>\n",
       "      <td>1.476982</td>\n",
       "      <td>1.291093</td>\n",
       "      <td>1.201611</td>\n",
       "      <td>2.768074</td>\n",
       "      <td>871.913230</td>\n",
       "      <td>99.318033</td>\n",
       "    </tr>\n",
       "    <tr>\n",
       "      <th>2040</th>\n",
       "      <td>0.874143</td>\n",
       "      <td>1.215071</td>\n",
       "      <td>50.0</td>\n",
       "      <td>-1.2108</td>\n",
       "      <td>1.375</td>\n",
       "      <td>0.4</td>\n",
       "      <td>2.659</td>\n",
       "      <td>1.3</td>\n",
       "      <td>0.02</td>\n",
       "      <td>0.02</td>\n",
       "      <td>...</td>\n",
       "      <td>0.0</td>\n",
       "      <td>0.0</td>\n",
       "      <td>0.011202</td>\n",
       "      <td>49.446114</td>\n",
       "      <td>1.476982</td>\n",
       "      <td>1.291093</td>\n",
       "      <td>1.201611</td>\n",
       "      <td>2.768074</td>\n",
       "      <td>871.913230</td>\n",
       "      <td>99.318033</td>\n",
       "    </tr>\n",
       "    <tr>\n",
       "      <th>2041</th>\n",
       "      <td>0.874143</td>\n",
       "      <td>1.215071</td>\n",
       "      <td>50.0</td>\n",
       "      <td>-1.2108</td>\n",
       "      <td>1.375</td>\n",
       "      <td>0.4</td>\n",
       "      <td>2.659</td>\n",
       "      <td>1.3</td>\n",
       "      <td>0.02</td>\n",
       "      <td>0.02</td>\n",
       "      <td>...</td>\n",
       "      <td>0.0</td>\n",
       "      <td>0.0</td>\n",
       "      <td>0.011202</td>\n",
       "      <td>49.446114</td>\n",
       "      <td>1.476982</td>\n",
       "      <td>1.291093</td>\n",
       "      <td>1.201611</td>\n",
       "      <td>2.768074</td>\n",
       "      <td>871.913230</td>\n",
       "      <td>99.318033</td>\n",
       "    </tr>\n",
       "    <tr>\n",
       "      <th>2042</th>\n",
       "      <td>0.874143</td>\n",
       "      <td>1.215071</td>\n",
       "      <td>50.0</td>\n",
       "      <td>-1.2108</td>\n",
       "      <td>1.375</td>\n",
       "      <td>0.4</td>\n",
       "      <td>2.659</td>\n",
       "      <td>1.3</td>\n",
       "      <td>0.02</td>\n",
       "      <td>0.02</td>\n",
       "      <td>...</td>\n",
       "      <td>0.0</td>\n",
       "      <td>0.0</td>\n",
       "      <td>0.011202</td>\n",
       "      <td>49.446114</td>\n",
       "      <td>1.476982</td>\n",
       "      <td>1.291093</td>\n",
       "      <td>1.201611</td>\n",
       "      <td>2.768074</td>\n",
       "      <td>871.913230</td>\n",
       "      <td>99.318033</td>\n",
       "    </tr>\n",
       "    <tr>\n",
       "      <th>2043</th>\n",
       "      <td>0.874143</td>\n",
       "      <td>1.215071</td>\n",
       "      <td>50.0</td>\n",
       "      <td>-1.2108</td>\n",
       "      <td>1.375</td>\n",
       "      <td>0.4</td>\n",
       "      <td>2.659</td>\n",
       "      <td>1.3</td>\n",
       "      <td>0.02</td>\n",
       "      <td>0.02</td>\n",
       "      <td>...</td>\n",
       "      <td>0.0</td>\n",
       "      <td>0.0</td>\n",
       "      <td>0.011202</td>\n",
       "      <td>49.446114</td>\n",
       "      <td>1.476982</td>\n",
       "      <td>1.291093</td>\n",
       "      <td>1.201611</td>\n",
       "      <td>2.768074</td>\n",
       "      <td>871.913230</td>\n",
       "      <td>99.318033</td>\n",
       "    </tr>\n",
       "  </tbody>\n",
       "</table>\n",
       "<p>2044 rows × 60 columns</p>\n",
       "</div>"
      ],
      "text/plain": [
       "      mass_ratio  chirp_mass  luminosity_distance     dec     ra  theta_jn  \\\n",
       "0       0.885108    1.215129                 50.0 -1.2108  1.375       0.4   \n",
       "1       0.866079    1.215068                 50.0 -1.2108  1.375       0.4   \n",
       "2       0.883385    1.215126                 50.0 -1.2108  1.375       0.4   \n",
       "3       0.862963    1.215006                 50.0 -1.2108  1.375       0.4   \n",
       "4       0.881311    1.215089                 50.0 -1.2108  1.375       0.4   \n",
       "...          ...         ...                  ...     ...    ...       ...   \n",
       "2039    0.874143    1.215071                 50.0 -1.2108  1.375       0.4   \n",
       "2040    0.874143    1.215071                 50.0 -1.2108  1.375       0.4   \n",
       "2041    0.874143    1.215071                 50.0 -1.2108  1.375       0.4   \n",
       "2042    0.874143    1.215071                 50.0 -1.2108  1.375       0.4   \n",
       "2043    0.874143    1.215071                 50.0 -1.2108  1.375       0.4   \n",
       "\n",
       "        psi  phase  chi_1  chi_2  ...  chi_2_in_plane  chi_p  redshift  \\\n",
       "0     2.659    1.3   0.02   0.02  ...             0.0    0.0  0.011202   \n",
       "1     2.659    1.3   0.02   0.02  ...             0.0    0.0  0.011202   \n",
       "2     2.659    1.3   0.02   0.02  ...             0.0    0.0  0.011202   \n",
       "3     2.659    1.3   0.02   0.02  ...             0.0    0.0  0.011202   \n",
       "4     2.659    1.3   0.02   0.02  ...             0.0    0.0  0.011202   \n",
       "...     ...    ...    ...    ...  ...             ...    ...       ...   \n",
       "2039  2.659    1.3   0.02   0.02  ...             0.0    0.0  0.011202   \n",
       "2040  2.659    1.3   0.02   0.02  ...             0.0    0.0  0.011202   \n",
       "2041  2.659    1.3   0.02   0.02  ...             0.0    0.0  0.011202   \n",
       "2042  2.659    1.3   0.02   0.02  ...             0.0    0.0  0.011202   \n",
       "2043  2.659    1.3   0.02   0.02  ...             0.0    0.0  0.011202   \n",
       "\n",
       "      comoving_distance  mass_1_source  mass_2_source chirp_mass_source  \\\n",
       "0             49.446114       1.467756       1.299123          1.201668   \n",
       "1             49.446114       1.483933       1.285202          1.201607   \n",
       "2             49.446114       1.469201       1.297870          1.201665   \n",
       "3             49.446114       1.486573       1.282858          1.201547   \n",
       "4             49.446114       1.470905       1.296326          1.201628   \n",
       "...                 ...            ...            ...               ...   \n",
       "2039          49.446114       1.476982       1.291093          1.201611   \n",
       "2040          49.446114       1.476982       1.291093          1.201611   \n",
       "2041          49.446114       1.476982       1.291093          1.201611   \n",
       "2042          49.446114       1.476982       1.291093          1.201611   \n",
       "2043          49.446114       1.476982       1.291093          1.201611   \n",
       "\n",
       "      total_mass_source  lambda_tilde  delta_lambda_tilde  \n",
       "0              2.766879    877.769163          105.539836  \n",
       "1              2.769135    867.687339           94.714829  \n",
       "2              2.767071    876.840420          104.564689  \n",
       "3              2.769431    866.073664           92.930476  \n",
       "4              2.767231    875.727357          103.390349  \n",
       "...                 ...           ...                 ...  \n",
       "2039           2.768074    871.913230           99.318033  \n",
       "2040           2.768074    871.913230           99.318033  \n",
       "2041           2.768074    871.913230           99.318033  \n",
       "2042           2.768074    871.913230           99.318033  \n",
       "2043           2.768074    871.913230           99.318033  \n",
       "\n",
       "[2044 rows x 60 columns]"
      ]
     },
     "execution_count": 11,
     "metadata": {},
     "output_type": "execute_result"
    }
   ],
   "source": [
    "result.posterior"
   ]
  },
  {
   "cell_type": "code",
   "execution_count": 12,
   "id": "73bd7ea0",
   "metadata": {},
   "outputs": [],
   "source": [
    "truths = {}\n",
    "\n",
    "for key in [\"chirp_mass\", \"symmetric_mass_ratio\"]:\n",
    "    truths.update({key : all_injection_parameters[key]})"
   ]
  },
  {
   "cell_type": "code",
   "execution_count": 13,
   "id": "b2f25ab6",
   "metadata": {},
   "outputs": [
    {
     "data": {
      "text/plain": [
       "{'chirp_mass': 1.2150360414642816, 'symmetric_mass_ratio': 0.24872448979591844}"
      ]
     },
     "execution_count": 13,
     "metadata": {},
     "output_type": "execute_result"
    }
   ],
   "source": [
    "truths"
   ]
  },
  {
   "cell_type": "code",
   "execution_count": 14,
   "id": "d066a626",
   "metadata": {},
   "outputs": [
    {
     "data": {
      "image/png": "[encoded data removed]",
      "text/plain": [
       "<Figure size 550x550 with 4 Axes>"
      ]
     },
     "execution_count": 14,
     "metadata": {},
     "output_type": "execute_result"
    }
   ],
   "source": [
    "result.plot_corner(truths=truths)"
   ]
  },
  {
   "cell_type": "code",
   "execution_count": null,
   "id": "b48b649a",
   "metadata": {},
   "outputs": [
    {
     "data": {
      "text/plain": [
       "{'chirp_mass': 1.2150360414642816, 'symmetric_mass_ratio': 0.24872448979591844}"
      ]
     },
     "execution_count": 18,
     "metadata": {},
     "output_type": "execute_result"
    }
   ],
   "source": [
    "truths"
   ]
  },
  {
   "cell_type": "code",
   "execution_count": null,
   "id": "5e51610c",
   "metadata": {},
   "outputs": [],
   "source": []
  }
 ],
 "metadata": {
  "kernelspec": {
   "display_name": "igwn-py310",
   "language": "python",
   "name": "python3"
  },
  "language_info": {
   "codemirror_mode": {
    "name": "ipython",
    "version": 3
   },
   "file_extension": ".py",
   "mimetype": "text/x-python",
   "name": "python",
   "nbconvert_exporter": "python",
   "pygments_lexer": "ipython3",
   "version": "3.10.16"
  }
 },
 "nbformat": 4,
 "nbformat_minor": 5
}
